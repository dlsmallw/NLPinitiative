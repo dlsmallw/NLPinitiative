{
 "cells": [
  {
   "cell_type": "code",
   "execution_count": 1,
   "metadata": {},
   "outputs": [
    {
     "name": "stderr",
     "output_type": "stream",
     "text": [
      "\u001b[32m2025-02-25 13:14:45.793\u001b[0m | \u001b[1mINFO    \u001b[0m | \u001b[36mnlpinitiative.config\u001b[0m:\u001b[36m<module>\u001b[0m:\u001b[36m11\u001b[0m - \u001b[1mPROJ_ROOT path is: C:\\Users\\Daniel\\Desktop\\GitHub\\NLPinitiative\u001b[0m\n"
     ]
    }
   ],
   "source": [
    "import json\n",
    "\n",
    "from nlpinitiative.modeling import predict\n",
    "from nlpinitiative.config import (\n",
    "    MODELS_DIR\n",
    ")"
   ]
  },
  {
   "cell_type": "markdown",
   "metadata": {},
   "source": [
    "# Input Inference\n",
    "### Loading the models using the InferenceHandler class:"
   ]
  },
  {
   "cell_type": "code",
   "execution_count": 2,
   "metadata": {},
   "outputs": [],
   "source": [
    "bin_model_path = MODELS_DIR / 'binary_classification' / 'checkpoint-201'\n",
    "ml_model_path = MODELS_DIR / 'multilabel_regression' / 'checkpoint-201'\n",
    "\n",
    "inf_handler = predict.InferenceHandler(bin_model_path, ml_model_path)"
   ]
  },
  {
   "cell_type": "markdown",
   "metadata": {},
   "source": [
    "# Performing inference on text data:"
   ]
  },
  {
   "cell_type": "code",
   "execution_count": 6,
   "metadata": {},
   "outputs": [
    {
     "name": "stdout",
     "output_type": "stream",
     "text": [
      "{\n",
      "    \"raw_text\": \"Islam is hell .  We Asian hate isalm...Islam bring only destruction..killing.  rape... rufugee.... Islam is hell .. Asian thought \\u221a\\u221e\\u00ac\\u00fc\\u00ac\\u00f2\\u00ac\\u00c7\\u221a\\u221e\\u00ac\\u00fc\\u00ac\\u00f2\\u00ac\\u00c7sorry...but is true\",\n",
      "    \"text_sentiment\": \"Discriminatory\",\n",
      "    \"numerical_sentiment\": 1,\n",
      "    \"category_sentiments\": {\n",
      "        \"Gender\": 0.0,\n",
      "        \"Race\": 0.536992073059082,\n",
      "        \"Sexuality\": 0.13330860435962677,\n",
      "        \"Disability\": 0.0,\n",
      "        \"Religion\": 1.05623459815979,\n",
      "        \"Unspecified\": 0.0\n",
      "    }\n",
      "}\n",
      "{\n",
      "    \"raw_text\": \"Absolutely excellent as ever, and yes, cycling is fabulous for mental health.. bike when you'\\u00ac\\u00c4\\u00ac\\u00f4re happy, \\nbike when you'\\u00ac\\u00c4\\u00ac\\u00f4re sad, shout at the rain, scream inwardly at a complex hill climb and get that endorphin rush from being outside.. \\nand smile at your fellow cyclists (and passing chickens, in my experience, a wee bwark at a chook makes many things better)\",\n",
      "    \"text_sentiment\": \"Non-Discriminatory\",\n",
      "    \"numerical_sentiment\": 0,\n",
      "    \"category_sentiments\": {\n",
      "        \"Gender\": null,\n",
      "        \"Race\": null,\n",
      "        \"Sexuality\": null,\n",
      "        \"Disability\": null,\n",
      "        \"Religion\": null,\n",
      "        \"Unspecified\": null\n",
      "    }\n",
      "}\n"
     ]
    }
   ],
   "source": [
    "discr_text = \"\"\"Islam is hell .  We Asian hate isalm...Islam bring only destruction..killing.  rape... rufugee.... Islam is hell .. Asian thought √∞¬ü¬ò¬Ç√∞¬ü¬ò¬Çsorry...but is true\"\"\"\n",
    "\n",
    "nondiscr_text = \"\"\"Absolutely excellent as ever, and yes, cycling is fabulous for mental health.. bike when you'¬Ä¬ôre happy, \n",
    "bike when you'¬Ä¬ôre sad, shout at the rain, scream inwardly at a complex hill climb and get that endorphin rush from being outside.. \n",
    "and smile at your fellow cyclists (and passing chickens, in my experience, a wee bwark at a chook makes many things better)\"\"\"\n",
    "\n",
    "result1 = inf_handler.classify_text(discr_text)\n",
    "result2 = inf_handler.classify_text(nondiscr_text)\n",
    "print(json.dumps(result1, indent=4))\n",
    "print(json.dumps(result2, indent=4))"
   ]
  }
 ],
 "metadata": {
  "kernelspec": {
   "display_name": "NLPinitiative-sAkSWYnk",
   "language": "python",
   "name": "python3"
  },
  "language_info": {
   "codemirror_mode": {
    "name": "ipython",
    "version": 3
   },
   "file_extension": ".py",
   "mimetype": "text/x-python",
   "name": "python",
   "nbconvert_exporter": "python",
   "pygments_lexer": "ipython3",
   "version": "3.12.6"
  }
 },
 "nbformat": 4,
 "nbformat_minor": 2
}
