{
 "cells": [
  {
   "cell_type": "code",
   "execution_count": null,
   "metadata": {},
   "outputs": [],
   "source": [
    "import json\n",
    "\n",
    "from nlpinitiative.modeling import predict\n",
    "from nlpinitiative.config import (\n",
    "    MODELS_DIR\n",
    ")"
   ]
  },
  {
   "cell_type": "markdown",
   "metadata": {},
   "source": [
    "# Input Inference\n",
    "### Loading the models using the InferenceHandler class:"
   ]
  },
  {
   "cell_type": "code",
   "execution_count": null,
   "metadata": {},
   "outputs": [],
   "source": [
    "bin_model_path = MODELS_DIR / 'binary_classification' / 'checkpoint-201'\n",
    "ml_model_path = MODELS_DIR / 'multilabel_regression' / 'checkpoint-201'\n",
    "\n",
    "inf_handler = predict.InferenceHandler(bin_model_path, ml_model_path)"
   ]
  },
  {
   "cell_type": "markdown",
   "metadata": {},
   "source": [
    "# Performing inference on text data:"
   ]
  },
  {
   "cell_type": "code",
   "execution_count": 8,
   "metadata": {},
   "outputs": [
    {
     "name": "stdout",
     "output_type": "stream",
     "text": [
      "{\n",
      "    \"raw_text\": \"The guy should feel shame to be gay. It is such a wrong choice. Bad influence on young people. Never seen being proud of being gay. It is like saying being proud of rapist. Awful !  The only time I am so disappointed at Trump. Under political pressure, he failed to stand up for the ground, the right thing !\",\n",
      "    \"overall_sentiment\": \"Discriminatory\",\n",
      "    \"numerical_value\": 1,\n",
      "    \"category_sentiments\": {\n",
      "        \"Gender\": 0.1503690481185913,\n",
      "        \"Race\": 0.0,\n",
      "        \"Sexuality\": 0.5192394256591797,\n",
      "        \"Disability\": 0.10466352105140686,\n",
      "        \"Religion\": 0.0,\n",
      "        \"Unspecified\": 0.013464554212987423\n",
      "    }\n",
      "}\n",
      "{\n",
      "    \"raw_text\": \"Absolutely excellent as ever, and yes, cycling is fabulous for mental health.. bike when you'\\u00ac\\u00c4\\u00ac\\u00f4re happy, bike when you'\\u00ac\\u00c4\\u00ac\\u00f4re sad, shout at the rain, scream inwardly at a complex hill climb and get that endorphin rush from being outside.. and smile at your fellow cyclists (and passing chickens, in my experience, a wee bwark at a chook makes many things better)\",\n",
      "    \"overall_sentiment\": \"Non-Discriminatory\",\n",
      "    \"numerical_value\": 0,\n",
      "    \"category_sentiments\": {\n",
      "        \"Gender\": null,\n",
      "        \"Race\": null,\n",
      "        \"Sexuality\": null,\n",
      "        \"Disability\": null,\n",
      "        \"Religion\": null,\n",
      "        \"Unspecified\": null\n",
      "    }\n",
      "}\n"
     ]
    }
   ],
   "source": [
    "discr_text = \"The guy should feel shame to be gay. It is such a wrong choice. Bad influence on young people. Never seen being proud of being gay. It is like saying being proud of rapist. Awful !  The only time I am so disappointed at Trump. Under political pressure, he failed to stand up for the ground, the right thing !\"\n",
    "nondiscr_text = \"Absolutely excellent as ever, and yes, cycling is fabulous for mental health.. bike when you'¬Ä¬ôre happy, bike when you'¬Ä¬ôre sad, shout at the rain, scream inwardly at a complex hill climb and get that endorphin rush from being outside.. and smile at your fellow cyclists (and passing chickens, in my experience, a wee bwark at a chook makes many things better)\"\n",
    "result1 = inf_handler.discriminatory_inference(discr_text)\n",
    "result2 = inf_handler.discriminatory_inference(nondiscr_text)\n",
    "print(json.dumps(result1, indent=4))\n",
    "print(json.dumps(result2, indent=4))"
   ]
  }
 ],
 "metadata": {
  "kernelspec": {
   "display_name": "NLPinitiative-sAkSWYnk",
   "language": "python",
   "name": "python3"
  },
  "language_info": {
   "codemirror_mode": {
    "name": "ipython",
    "version": 3
   },
   "file_extension": ".py",
   "mimetype": "text/x-python",
   "name": "python",
   "nbconvert_exporter": "python",
   "pygments_lexer": "ipython3",
   "version": "3.12.6"
  }
 },
 "nbformat": 4,
 "nbformat_minor": 2
}
