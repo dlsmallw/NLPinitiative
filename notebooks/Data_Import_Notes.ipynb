{
 "cells": [
  {
   "cell_type": "code",
   "execution_count": 1,
   "metadata": {},
   "outputs": [
    {
     "name": "stderr",
     "output_type": "stream",
     "text": [
      "\u001b[32m2025-02-25 14:11:02.904\u001b[0m | \u001b[1mINFO    \u001b[0m | \u001b[36mnlpinitiative.config\u001b[0m:\u001b[36m<module>\u001b[0m:\u001b[36m11\u001b[0m - \u001b[1mPROJ_ROOT path is: C:\\Users\\Daniel\\Desktop\\GitHub\\NLPinitiative\u001b[0m\n"
     ]
    }
   ],
   "source": [
    "from nlpinitiative.data_preparation import data_import, dataset_normalizer, data_preparation\n",
    "import json\n",
    "\n",
    "from nlpinitiative.config import (\n",
    "    EXTERNAL_DATA_DIR, \n",
    "    CONV_SCHEMA_DIR,\n",
    "    INTERIM_DATA_DIR\n",
    ")"
   ]
  },
  {
   "cell_type": "markdown",
   "metadata": {},
   "source": [
    "# Importing third-party datasets for use in NLP model training:\n",
    "\n",
    "For the purposes of this project, we are going to rely on third-party datasets to make up for a lack of personally procured data. As such, we have implemented some functionality to make this easier for future developers/data analysts.\n",
    "\n",
    "### Importing datasets from a local source (on your local system):\n",
    "For the purposes of our applications, we will consider the \"raw\" datasets to be personally produced datasets rather than those that have already been created (\"external\"). As such, importing from a local source will by default store the datasets within the data/raw directory. If the data to be imported locally is a third-party dataset, the user can change the 'tp_src' value to True, where the data will be stored within the data/external directory."
   ]
  },
  {
   "cell_type": "code",
   "execution_count": null,
   "metadata": {},
   "outputs": [],
   "source": [
    "local_import_example_df = data_import.import_from_local_source(\"C:/Users/Daniel/Downloads/dataset.csv\", tp_src=False)\n",
    "local_import_example_df"
   ]
  },
  {
   "cell_type": "markdown",
   "metadata": {},
   "source": [
    "### Demonstration of importing from remote/external source:\n",
    "This function facillitates importing data from a given URL (primarily remote repositories like GitHub)."
   ]
  },
  {
   "cell_type": "code",
   "execution_count": null,
   "metadata": {},
   "outputs": [],
   "source": [
    "remote_import_example_df = data_import.import_from_ext_source(\"https://github.com/intelligence-csd-auth-gr/Ethos-Hate-Speech-Dataset/blob/master/ethos/ethos_data/Ethos_Dataset_Binary.csv\")\n",
    "remote_import_example_df"
   ]
  },
  {
   "cell_type": "markdown",
   "metadata": {},
   "source": [
    "# Conversion of third-party datasets:\n",
    "Since we are making use of third-party datasets, we need a means of converting the original dataset schema to a format that will utilize our labeling scheme. As such, we have implemented some functionality to facilitate this process.\n",
    "\n",
    "### Normalizing third-party datasets to a standard format for our applications:\n",
    "This function facilitates taking one or more datasets (all passed datasets that are to be normalized should maintain the same general structure so that they can be merged prior to normalization)."
   ]
  },
  {
   "cell_type": "code",
   "execution_count": null,
   "metadata": {},
   "outputs": [],
   "source": [
    "srcs = [\n",
    "    EXTERNAL_DATA_DIR / \"intelligence-csd-auth-gr_Ethos-Hate-Speech-Dataset_Ethos_Dataset_Binary.csv\",\n",
    "    EXTERNAL_DATA_DIR / \"intelligence-csd-auth-gr_Ethos-Hate-Speech-Dataset_Ethos_Dataset_Multi_Label.csv\"\n",
    "]\n",
    "conv = CONV_SCHEMA_DIR / \"ethos_schema_mapping.json\"\n",
    "\n",
    "normalized_dataset = dataset_normalizer.convert_to_master_schema(srcs, conv, 'ETHOS_dataset_converted')\n",
    "normalized_dataset"
   ]
  },
  {
   "cell_type": "markdown",
   "metadata": {},
   "source": [
    "### Storing the normalized dataset:"
   ]
  },
  {
   "cell_type": "code",
   "execution_count": null,
   "metadata": {},
   "outputs": [],
   "source": [
    "dataset_normalizer.store_normalized_dataset(normalized_dataset, 'ETHOS_dataset_converted')"
   ]
  },
  {
   "cell_type": "markdown",
   "metadata": {},
   "source": [
    "# Getting Dataset Statistics from Dataset:\n",
    "\n",
    "This can be helpful to determine if the dataset may have imbalances between categories, and can be helpful for applying weights depending on these imbalances."
   ]
  },
  {
   "cell_type": "code",
   "execution_count": 2,
   "metadata": {},
   "outputs": [
    {
     "name": "stdout",
     "output_type": "stream",
     "text": [
      "{\n",
      "    \"total_num_entries\": 764,\n",
      "    \"num_positive_discriminatory\": 410,\n",
      "    \"num_negative_discriminatory\": 354,\n",
      "    \"category_stats\": {\n",
      "        \"GENDER\": {\n",
      "            \"total_combined_value\": 88.890399637,\n",
      "            \"num_positive_rows\": 166,\n",
      "            \"num_gt_threshold\": 79,\n",
      "            \"num_rows_as_dominant_category\": 78\n",
      "        },\n",
      "        \"RACE\": {\n",
      "            \"total_combined_value\": 142.97675814500002,\n",
      "            \"num_positive_rows\": 195,\n",
      "            \"num_gt_threshold\": 143,\n",
      "            \"num_rows_as_dominant_category\": 142\n",
      "        },\n",
      "        \"SEXUALITY\": {\n",
      "            \"total_combined_value\": 65.264893717,\n",
      "            \"num_positive_rows\": 91,\n",
      "            \"num_gt_threshold\": 73,\n",
      "            \"num_rows_as_dominant_category\": 68\n",
      "        },\n",
      "        \"DISABILITY\": {\n",
      "            \"total_combined_value\": 49.644047751,\n",
      "            \"num_positive_rows\": 61,\n",
      "            \"num_gt_threshold\": 51,\n",
      "            \"num_rows_as_dominant_category\": 50\n",
      "        },\n",
      "        \"RELIGION\": {\n",
      "            \"total_combined_value\": 68.500874093,\n",
      "            \"num_positive_rows\": 92,\n",
      "            \"num_gt_threshold\": 75,\n",
      "            \"num_rows_as_dominant_category\": 72\n",
      "        },\n",
      "        \"UNSPECIFIED\": {\n",
      "            \"total_combined_value\": 0.0,\n",
      "            \"num_positive_rows\": 0,\n",
      "            \"num_gt_threshold\": 0,\n",
      "            \"num_rows_as_dominant_category\": 0\n",
      "        }\n",
      "    }\n",
      "}\n"
     ]
    }
   ],
   "source": [
    "ds_stats = data_preparation.get_dataset_statistics(INTERIM_DATA_DIR / 'ETHOS_dataset_converted.csv')\n",
    "print(json.dumps(ds_stats, indent=4))"
   ]
  }
 ],
 "metadata": {
  "kernelspec": {
   "display_name": "NLPinitiative-sAkSWYnk",
   "language": "python",
   "name": "python3"
  },
  "language_info": {
   "codemirror_mode": {
    "name": "ipython",
    "version": 3
   },
   "file_extension": ".py",
   "mimetype": "text/x-python",
   "name": "python",
   "nbconvert_exporter": "python",
   "pygments_lexer": "ipython3",
   "version": "3.12.6"
  }
 },
 "nbformat": 4,
 "nbformat_minor": 2
}
