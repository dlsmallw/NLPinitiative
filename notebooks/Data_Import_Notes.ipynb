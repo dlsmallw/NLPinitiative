{
 "cells": [
  {
   "cell_type": "code",
   "execution_count": 1,
   "metadata": {},
   "outputs": [
    {
     "name": "stderr",
     "output_type": "stream",
     "text": [
      "\u001b[32m2025-03-17 15:49:16.474\u001b[0m | \u001b[1mINFO    \u001b[0m | \u001b[36mnlpinitiative.config\u001b[0m:\u001b[36m<module>\u001b[0m:\u001b[36m11\u001b[0m - \u001b[1mPROJ_ROOT path is: C:\\Users\\Daniel\\Desktop\\GitHub\\NLPinitiative\u001b[0m\n"
     ]
    }
   ],
   "source": [
    "from nlpinitiative.data_preparation.data_management import DataManager\n",
    "import json\n",
    "\n",
    "from nlpinitiative.config import (\n",
    "    NORM_SCHEMA_DIR,\n",
    "    INTERIM_DATA_DIR\n",
    ")"
   ]
  },
  {
   "cell_type": "markdown",
   "metadata": {},
   "source": [
    "# Initialization of Data Manager:\n",
    "This is used for managing all dataset operations."
   ]
  },
  {
   "cell_type": "code",
   "execution_count": 2,
   "metadata": {},
   "outputs": [],
   "source": [
    "data_manager = DataManager()"
   ]
  },
  {
   "cell_type": "markdown",
   "metadata": {},
   "source": [
    "# Importing third-party datasets for use in NLP model training:\n",
    "\n",
    "For the purposes of this project, we are going to rely on third-party datasets to make up for a lack of personally procured data. As such, we have implemented some functionality to make this easier for future developers/data analysts.\n",
    "\n",
    "### Importing datasets from a local source (on your local system):\n",
    "For the purposes of our applications, we will consider the \"raw\" datasets to be personally produced datasets rather than those that have already been created (\"external\"). As such, importing from a local source will by default store the datasets within the data/raw directory. If the data to be imported locally is a third-party dataset, the user can change the 'tp_src' value to True, where the data will be stored within the data/external directory."
   ]
  },
  {
   "cell_type": "code",
   "execution_count": 7,
   "metadata": {},
   "outputs": [
    {
     "name": "stdout",
     "output_type": "stream",
     "text": [
      "\u001b[32m2025-03-17 15:41:13.959\u001b[0m | \u001b[32m\u001b[1mSUCCESS \u001b[0m | \u001b[36mnlpinitiative.data_preparation.data_management\u001b[0m:\u001b[36mimport_data\u001b[0m:\u001b[36m157\u001b[0m - \u001b[32m\u001b[1mSuccessfully imported local dataset from C:/Users/Daniel/Downloads/dataset.csv.\u001b[0m\n"
     ]
    },
    {
     "data": {
      "application/vnd.microsoft.datawrangler.viewer.v0+json": {
       "columns": [
        {
         "name": "index",
         "rawType": "int64",
         "type": "integer"
        },
        {
         "name": "reply_id",
         "rawType": "int64",
         "type": "integer"
        },
        {
         "name": "hateful_tweet_id",
         "rawType": "int64",
         "type": "integer"
        },
        {
         "name": "counter_hate_id",
         "rawType": "int64",
         "type": "integer"
        },
        {
         "name": "Q1",
         "rawType": "float64",
         "type": "float"
        },
        {
         "name": "Q2",
         "rawType": "float64",
         "type": "float"
        },
        {
         "name": "Q3",
         "rawType": "float64",
         "type": "float"
        },
        {
         "name": "Q4",
         "rawType": "float64",
         "type": "float"
        }
       ],
       "conversionMethod": "pd.DataFrame",
       "ref": "eb52a1b4-6d63-421d-9fcf-be0a50a09162",
       "rows": [
        [
         "0",
         "1364504065565093894",
         "1364444425192005639",
         "1364503631160954881",
         "1.0",
         null,
         null,
         "1.0"
        ],
        [
         "1",
         "1507516585485148164",
         "1507475083954036739",
         "1507490000958820354",
         "1.0",
         null,
         null,
         "0.0"
        ],
        [
         "2",
         "976720451148943360",
         "959685036311064576",
         "976558261498515456",
         "1.0",
         null,
         null,
         "0.0"
        ],
        [
         "3",
         "976567337078882309",
         "959685036311064576",
         "976558261498515456",
         "1.0",
         null,
         null,
         "0.0"
        ],
        [
         "4",
         "1359340305494011907",
         "1359330367157764098",
         "1359339633352478728",
         "1.0",
         null,
         null,
         "1.0"
        ],
        [
         "5",
         "1336694257869074434",
         "1336692051249913862",
         "1336693330512654337",
         "1.0",
         null,
         null,
         "0.0"
        ],
        [
         "6",
         "1263998633118056448",
         "1263992979116572672",
         "1263996933707833345",
         "1.0",
         null,
         null,
         "0.0"
        ],
        [
         "7",
         "1396173736328548358",
         "1396160077577527304",
         "1396173620804788225",
         "0.0",
         "1.0",
         "0.0",
         null
        ],
        [
         "8",
         "1396166864728952833",
         "1396160077577527304",
         "1396166429125267458",
         "1.0",
         null,
         null,
         "0.0"
        ],
        [
         "9",
         "1212457340340883457",
         "1212183791768236032",
         "1212320181763969024",
         "1.0",
         null,
         null,
         "0.0"
        ],
        [
         "10",
         "1212311627258744839",
         "1212183791768236032",
         "1212189691329568768",
         "1.0",
         null,
         null,
         "0.0"
        ],
        [
         "11",
         "1212311324991975424",
         "1212183791768236032",
         "1212240231258185728",
         "1.0",
         null,
         null,
         "0.0"
        ],
        [
         "12",
         "1212310960691531777",
         "1212183791768236032",
         "1212207103894360065",
         "1.0",
         null,
         null,
         "0.0"
        ],
        [
         "13",
         "1212310739773317120",
         "1212183791768236032",
         "1212184651281960960",
         "1.0",
         null,
         null,
         "0.0"
        ],
        [
         "14",
         "1212310515701055493",
         "1212183791768236032",
         "1212299419304939521",
         "1.0",
         null,
         null,
         "0.0"
        ],
        [
         "15",
         "1212310390542962688",
         "1212183791768236032",
         "1212218109483999233",
         "1.0",
         null,
         null,
         "0.0"
        ],
        [
         "16",
         "1212271028572954624",
         "1212183791768236032",
         "1212255459324899328",
         "1.0",
         null,
         null,
         "0.0"
        ],
        [
         "17",
         "1212258591618584578",
         "1212183791768236032",
         "1212258189300903937",
         "1.0",
         null,
         null,
         "0.0"
        ],
        [
         "18",
         "1212189012783296512",
         "1212183791768236032",
         "1212187194791587840",
         "1.0",
         null,
         null,
         "0.0"
        ],
        [
         "19",
         "1268045543604797441",
         "1267969990386315265",
         "1268045057812312066",
         "0.0",
         "0.0",
         "0.0",
         null
        ],
        [
         "20",
         "1267972637864517632",
         "1267969990386315265",
         "1267971960991911936",
         "0.0",
         "0.0",
         "0.0",
         null
        ],
        [
         "21",
         "1365858296947564548",
         "1359038037267742720",
         "1361482842413420544",
         "1.0",
         null,
         null,
         "0.0"
        ],
        [
         "22",
         "1364796322860183554",
         "1359038037267742720",
         "1361482842413420544",
         "0.0",
         "1.0",
         "1.0",
         null
        ],
        [
         "23",
         "1363317616559939585",
         "1359038037267742720",
         "1361482842413420544",
         "0.0",
         "1.0",
         "0.0",
         null
        ],
        [
         "24",
         "1361665865654042625",
         "1359038037267742720",
         "1361482842413420544",
         "1.0",
         null,
         null,
         "0.0"
        ],
        [
         "25",
         "286323598602432512",
         "286301069351452672",
         "286320435161870336",
         "1.0",
         null,
         null,
         "0.0"
        ],
        [
         "26",
         "1376564088935944195",
         "1376561614867070989",
         "1376563828788490245",
         "1.0",
         null,
         null,
         "0.0"
        ],
        [
         "27",
         "1483186574707900421",
         "1483185694671523849",
         "1483186091100454912",
         "0.0",
         "0.0",
         "0.0",
         null
        ],
        [
         "28",
         "1502469128069730309",
         "1502422550063759360",
         "1502459637240455170",
         "0.0",
         "1.0",
         "0.0",
         null
        ],
        [
         "29",
         "1277277320370421760",
         "1277276937006743552",
         "1277277227395059713",
         "0.0",
         "1.0",
         "0.0",
         null
        ],
        [
         "30",
         "1078820957027033090",
         "1078785694523449346",
         "1078808370990198784",
         "1.0",
         null,
         null,
         "0.0"
        ],
        [
         "31",
         "1414394747683278861",
         "1414306130130620417",
         "1414383489277997062",
         "1.0",
         null,
         null,
         "0.0"
        ],
        [
         "32",
         "1243807428422008833",
         "1243374808030572544",
         "1243385688797499393",
         "0.0",
         "0.0",
         "1.0",
         null
        ],
        [
         "33",
         "1243526075038105601",
         "1243374808030572544",
         "1243386971419865088",
         "1.0",
         null,
         null,
         "1.0"
        ],
        [
         "34",
         "1243401973266673664",
         "1243374808030572544",
         "1243386971419865088",
         "0.0",
         "1.0",
         "0.0",
         null
        ],
        [
         "35",
         "1243401324185579522",
         "1243374808030572544",
         "1243385688797499393",
         "0.0",
         "1.0",
         "0.0",
         null
        ],
        [
         "36",
         "1235243491594301441",
         "1235232811898019844",
         "1235240944028405761",
         "1.0",
         null,
         null,
         "0.0"
        ],
        [
         "37",
         "1330913843967619073",
         "1330000887452987394",
         "1330913376797667328",
         "1.0",
         null,
         null,
         "1.0"
        ],
        [
         "38",
         "1330898930083766274",
         "1330000887452987394",
         "1330898183426338818",
         "1.0",
         null,
         null,
         "1.0"
        ],
        [
         "39",
         "1330840894396829696",
         "1330000887452987394",
         "1330366815927738368",
         "1.0",
         null,
         null,
         "1.0"
        ],
        [
         "40",
         "1330758251361693698",
         "1330000887452987394",
         "1330334763484393474",
         "1.0",
         null,
         null,
         "1.0"
        ],
        [
         "41",
         "1330713593227005952",
         "1330000887452987394",
         "1330334763484393474",
         "1.0",
         null,
         null,
         "1.0"
        ],
        [
         "42",
         "1330608853352935426",
         "1330000887452987394",
         "1330608158193094664",
         "1.0",
         null,
         null,
         "1.0"
        ],
        [
         "43",
         "1330606781408546817",
         "1330000887452987394",
         "1330366815927738368",
         "0.0",
         "1.0",
         "0.0",
         null
        ],
        [
         "44",
         "1330603069789401090",
         "1330000887452987394",
         "1330366815927738368",
         "1.0",
         null,
         null,
         "0.0"
        ],
        [
         "45",
         "1330602360905867271",
         "1330000887452987394",
         "1330580510263930881",
         "1.0",
         null,
         null,
         "0.0"
        ],
        [
         "46",
         "1330590338164125698",
         "1330000887452987394",
         "1330366815927738368",
         "1.0",
         null,
         null,
         "1.0"
        ],
        [
         "47",
         "1330589595319275527",
         "1330000887452987394",
         "1330589050969993218",
         "1.0",
         null,
         null,
         "1.0"
        ],
        [
         "48",
         "1330587529150681094",
         "1330000887452987394",
         "1330587218977697796",
         "1.0",
         null,
         null,
         "1.0"
        ],
        [
         "49",
         "1330374930496622599",
         "1330000887452987394",
         "1330366815927738368",
         "1.0",
         null,
         null,
         "1.0"
        ]
       ],
       "shape": {
        "columns": 7,
        "rows": 2621
       }
      },
      "text/html": [
       "<div>\n",
       "<style scoped>\n",
       "    .dataframe tbody tr th:only-of-type {\n",
       "        vertical-align: middle;\n",
       "    }\n",
       "\n",
       "    .dataframe tbody tr th {\n",
       "        vertical-align: top;\n",
       "    }\n",
       "\n",
       "    .dataframe thead th {\n",
       "        text-align: right;\n",
       "    }\n",
       "</style>\n",
       "<table border=\"1\" class=\"dataframe\">\n",
       "  <thead>\n",
       "    <tr style=\"text-align: right;\">\n",
       "      <th></th>\n",
       "      <th>reply_id</th>\n",
       "      <th>hateful_tweet_id</th>\n",
       "      <th>counter_hate_id</th>\n",
       "      <th>Q1</th>\n",
       "      <th>Q2</th>\n",
       "      <th>Q3</th>\n",
       "      <th>Q4</th>\n",
       "    </tr>\n",
       "  </thead>\n",
       "  <tbody>\n",
       "    <tr>\n",
       "      <th>0</th>\n",
       "      <td>1364504065565093894</td>\n",
       "      <td>1364444425192005639</td>\n",
       "      <td>1364503631160954881</td>\n",
       "      <td>1.0</td>\n",
       "      <td>NaN</td>\n",
       "      <td>NaN</td>\n",
       "      <td>1.0</td>\n",
       "    </tr>\n",
       "    <tr>\n",
       "      <th>1</th>\n",
       "      <td>1507516585485148164</td>\n",
       "      <td>1507475083954036739</td>\n",
       "      <td>1507490000958820354</td>\n",
       "      <td>1.0</td>\n",
       "      <td>NaN</td>\n",
       "      <td>NaN</td>\n",
       "      <td>0.0</td>\n",
       "    </tr>\n",
       "    <tr>\n",
       "      <th>2</th>\n",
       "      <td>976720451148943360</td>\n",
       "      <td>959685036311064576</td>\n",
       "      <td>976558261498515456</td>\n",
       "      <td>1.0</td>\n",
       "      <td>NaN</td>\n",
       "      <td>NaN</td>\n",
       "      <td>0.0</td>\n",
       "    </tr>\n",
       "    <tr>\n",
       "      <th>3</th>\n",
       "      <td>976567337078882309</td>\n",
       "      <td>959685036311064576</td>\n",
       "      <td>976558261498515456</td>\n",
       "      <td>1.0</td>\n",
       "      <td>NaN</td>\n",
       "      <td>NaN</td>\n",
       "      <td>0.0</td>\n",
       "    </tr>\n",
       "    <tr>\n",
       "      <th>4</th>\n",
       "      <td>1359340305494011907</td>\n",
       "      <td>1359330367157764098</td>\n",
       "      <td>1359339633352478728</td>\n",
       "      <td>1.0</td>\n",
       "      <td>NaN</td>\n",
       "      <td>NaN</td>\n",
       "      <td>1.0</td>\n",
       "    </tr>\n",
       "    <tr>\n",
       "      <th>...</th>\n",
       "      <td>...</td>\n",
       "      <td>...</td>\n",
       "      <td>...</td>\n",
       "      <td>...</td>\n",
       "      <td>...</td>\n",
       "      <td>...</td>\n",
       "      <td>...</td>\n",
       "    </tr>\n",
       "    <tr>\n",
       "      <th>2616</th>\n",
       "      <td>473289864176078848</td>\n",
       "      <td>473289562903830528</td>\n",
       "      <td>473289697540993024</td>\n",
       "      <td>0.0</td>\n",
       "      <td>0.0</td>\n",
       "      <td>1.0</td>\n",
       "      <td>NaN</td>\n",
       "    </tr>\n",
       "    <tr>\n",
       "      <th>2617</th>\n",
       "      <td>475688162468319232</td>\n",
       "      <td>475558857700171776</td>\n",
       "      <td>475565607841054721</td>\n",
       "      <td>1.0</td>\n",
       "      <td>NaN</td>\n",
       "      <td>NaN</td>\n",
       "      <td>0.0</td>\n",
       "    </tr>\n",
       "    <tr>\n",
       "      <th>2618</th>\n",
       "      <td>403826060719964160</td>\n",
       "      <td>403818138963173376</td>\n",
       "      <td>403825878603694080</td>\n",
       "      <td>0.0</td>\n",
       "      <td>1.0</td>\n",
       "      <td>0.0</td>\n",
       "      <td>NaN</td>\n",
       "    </tr>\n",
       "    <tr>\n",
       "      <th>2619</th>\n",
       "      <td>850094530061901824</td>\n",
       "      <td>850036460111769600</td>\n",
       "      <td>850088912441790468</td>\n",
       "      <td>0.0</td>\n",
       "      <td>0.0</td>\n",
       "      <td>1.0</td>\n",
       "      <td>NaN</td>\n",
       "    </tr>\n",
       "    <tr>\n",
       "      <th>2620</th>\n",
       "      <td>1516390442945949701</td>\n",
       "      <td>1516388162133757956</td>\n",
       "      <td>1516390264511815690</td>\n",
       "      <td>0.0</td>\n",
       "      <td>0.0</td>\n",
       "      <td>1.0</td>\n",
       "      <td>NaN</td>\n",
       "    </tr>\n",
       "  </tbody>\n",
       "</table>\n",
       "<p>2621 rows × 7 columns</p>\n",
       "</div>"
      ],
      "text/plain": [
       "                 reply_id     hateful_tweet_id      counter_hate_id   Q1   Q2  \\\n",
       "0     1364504065565093894  1364444425192005639  1364503631160954881  1.0  NaN   \n",
       "1     1507516585485148164  1507475083954036739  1507490000958820354  1.0  NaN   \n",
       "2      976720451148943360   959685036311064576   976558261498515456  1.0  NaN   \n",
       "3      976567337078882309   959685036311064576   976558261498515456  1.0  NaN   \n",
       "4     1359340305494011907  1359330367157764098  1359339633352478728  1.0  NaN   \n",
       "...                   ...                  ...                  ...  ...  ...   \n",
       "2616   473289864176078848   473289562903830528   473289697540993024  0.0  0.0   \n",
       "2617   475688162468319232   475558857700171776   475565607841054721  1.0  NaN   \n",
       "2618   403826060719964160   403818138963173376   403825878603694080  0.0  1.0   \n",
       "2619   850094530061901824   850036460111769600   850088912441790468  0.0  0.0   \n",
       "2620  1516390442945949701  1516388162133757956  1516390264511815690  0.0  0.0   \n",
       "\n",
       "       Q3   Q4  \n",
       "0     NaN  1.0  \n",
       "1     NaN  0.0  \n",
       "2     NaN  0.0  \n",
       "3     NaN  0.0  \n",
       "4     NaN  1.0  \n",
       "...   ...  ...  \n",
       "2616  1.0  NaN  \n",
       "2617  NaN  0.0  \n",
       "2618  0.0  NaN  \n",
       "2619  1.0  NaN  \n",
       "2620  1.0  NaN  \n",
       "\n",
       "[2621 rows x 7 columns]"
      ]
     },
     "execution_count": 7,
     "metadata": {},
     "output_type": "execute_result"
    }
   ],
   "source": [
    "local_import_example_df = data_manager.import_data(import_type='local', source=\"C:/Users/Daniel/Downloads/dataset.csv\", dataset_name='TestDS', is_third_party=False, overwrite=True)\n",
    "local_import_example_df"
   ]
  },
  {
   "cell_type": "markdown",
   "metadata": {},
   "source": [
    "### Demonstration of importing from remote/external source:\n",
    "This function facillitates importing data from a given URL (primarily remote repositories like GitHub)."
   ]
  },
  {
   "cell_type": "code",
   "execution_count": 3,
   "metadata": {},
   "outputs": [
    {
     "name": "stdout",
     "output_type": "stream",
     "text": [
      "\u001b[32m2025-03-17 15:43:46.066\u001b[0m | \u001b[1mINFO    \u001b[0m | \u001b[36mnlpinitiative.data_preparation.data_management\u001b[0m:\u001b[36m_format_url\u001b[0m:\u001b[36m65\u001b[0m - \u001b[1mSource url identified as GitHub URL, https://github.com/intelligence-csd-auth-gr/Ethos-Hate-Speech-Dataset/blob/master/ethos/ethos_data/Ethos_Dataset_Binary.csv\u001b[0m\n",
      "\u001b[32m2025-03-17 15:43:46.066\u001b[0m | \u001b[1mINFO    \u001b[0m | \u001b[36mnlpinitiative.data_preparation.data_management\u001b[0m:\u001b[36m_format_url\u001b[0m:\u001b[36m67\u001b[0m - \u001b[1mURL Formatted, https://raw.githubusercontent.com/intelligence-csd-auth-gr/Ethos-Hate-Speech-Dataset/refs/heads/master/ethos/ethos_data/Ethos_Dataset_Binary.csv\u001b[0m\n",
      "\u001b[32m2025-03-17 15:43:46.140\u001b[0m | \u001b[32m\u001b[1mSUCCESS \u001b[0m | \u001b[36mnlpinitiative.data_preparation.data_management\u001b[0m:\u001b[36mimport_data\u001b[0m:\u001b[36m155\u001b[0m - \u001b[32m\u001b[1mSuccessfully imported external dataset from https://github.com/intelligence-csd-auth-gr/Ethos-Hate-Speech-Dataset/blob/master/ethos/ethos_data/Ethos_Dataset_Binary.csv.\u001b[0m\n"
     ]
    },
    {
     "data": {
      "application/vnd.microsoft.datawrangler.viewer.v0+json": {
       "columns": [
        {
         "name": "index",
         "rawType": "int64",
         "type": "integer"
        },
        {
         "name": "comment",
         "rawType": "object",
         "type": "string"
        },
        {
         "name": "isHate",
         "rawType": "float64",
         "type": "float"
        }
       ],
       "conversionMethod": "pd.DataFrame",
       "ref": "22c66347-2aa5-4a4c-9d26-b05dd9346e48",
       "rows": [
        [
         "0",
         "You should know women's sports are a joke",
         "1.0"
        ],
        [
         "1",
         "You look like Sloth with deeper Down’s syndrome",
         "1.0"
        ],
        [
         "2",
         "You look like Russian and speak like Indian. Both are disgusting go kill yourself",
         "1.0"
        ],
        [
         "3",
         "Women deserve to be abused, I guess.",
         "1.0"
        ],
        [
         "4",
         "Women are made for making babies and cooking dinner and nothing else!!!",
         "1.0"
        ],
        [
         "5",
         "why haven't you faggots taken the bi-pill yet",
         "1.0"
        ],
        [
         "6",
         "Why don’t you go beck your god to murder you? Christianity is a joke",
         "1.0"
        ],
        [
         "7",
         "why does that african american monkey hold gun like that?",
         "1.0"
        ],
        [
         "8",
         "Why does Bulgaria exist as a country? It's one of those homosexual ones.",
         "1.0"
        ],
        [
         "9",
         "Why do negroes tear down their own neighborhoods when a black thug gets killed by law enforcement? Must be because of low IQ.",
         "1.0"
        ],
        [
         "10",
         "who gives aa fuck about shit diamonds from the jews fuck them both",
         "1.0"
        ],
        [
         "11",
         "Who do you think you are cunt? wtf! Stay steady to aim for head little christian rat",
         "1.0"
        ],
        [
         "12",
         "white people are shit human beings",
         "1.0"
        ],
        [
         "13",
         "what happened in the good old days when these freaks did not exist ? which sewer have these freaks dragged themselves out of ? its just a manufactured group of freaks who want to cut their cocks off and take it up the arse in the hope that the world will treat them as woman . it takes more than that to be a woman . stop pandering to these twats .",
         "1.0"
        ],
        [
         "14",
         "What about a global massacre of men? Pussiezzz only girls",
         "1.0"
        ],
        [
         "15",
         "what a disgusting man and disgusting religion. He admits that muslim buy all their wifes ! .pff...This is why all muslims are poor...islam keeps them stupid !",
         "1.0"
        ],
        [
         "16",
         "well it's clear now why europeans can't differ niggers and shitskins from human",
         "1.0"
        ],
        [
         "17",
         "Well im glad that i live in Serbia, migrants and islamists are not welcome here!",
         "1.0"
        ],
        [
         "18",
         "Well done Slovakia and god bless. DO NOT build mosques, or allow or recognise Islam. They will get the point that EUROPE don't want Muslims here.",
         "1.0"
        ],
        [
         "19",
         "We whites have higher IQ's than blacks, this is because IQ measures intelligence and we are the more evolved and superior race with a larger brain. ",
         "1.0"
        ],
        [
         "20",
         "we take everyone, sudanese niggers, egyptian shitskins, palirats, syrian and iraqi scums, they're all dogs that behave like niggers, they cost too much, especially syrians, there is way too many of them here, they are arrogant ungrateful backstabbing apes.",
         "1.0"
        ],
        [
         "21",
         "WE NEED THE NAZI PARTY TO RETURN.....GET ANOTHER HITLER...AND FORM THE SS....AND START AN ETHNIC CLEANSING OF ALL MUSLIMS...YES YES..GATHER THEM UP...PUT THEM IN A CONCENTRATION CAMP...THEN PUT THESE MUSLIM REFUGEES ON A SHIP AND SEND THEM ALL BACK TO THIER OWN COUNTRIES ....AND THEY CAN DO AS THEY WANT THERE...LIVE THIER WAYS AND BY THIER RIDICULOUS LAWS.... THEY DON√¢¬Ä¬ôT ASSIMILATE TO THE NEW WESTERN COUNTRIES..AND TRY TO DICTATE TO US WHAT TO DO AND TO EVEN REMOVE JESUS FROM SCHOOLS AND OTHER PUBLIC AREAS...ARE YOU FUCKING SERIOUS...FUCK OFF YOU DIRTY SMELLING MUSLIMS... STOP DICTATING WHAT WE CAN OR CANT DO IN OUR OWN COUNTRIES...√∞¬ü¬ò¬°√∞¬ü¬ò¬°√∞¬ü¬ò¬°√∞¬ü¬ò¬°√∞¬ü¬ò¬°√∞¬ü¬ò¬°√∞¬ü¬ò¬° PEOPLE POWER MUST RISE AND SAY ENOUGH IS ENOUGH...TAKE SWEDEN BACK FOR SWEDES...TAKE GREECE BACK FOR GREEKS..TAKE GERMANY BACK..TAKE POLAND BACK..TAKE DENMARK BACK...SAVE OUR COUNTRIES....AND TAKE EUROPE BACK. INTRODUCE AN...SS...STYLE POLICE...AND CLEAN UP THESE STREETS AND GHETTOS....FULL OF DIRTY MUSLIMS...ITS THE GOVERNMENTS FAULT FOR ALLOWING THS SHIT TO HAPPEN....SEND THE MILITARY IN..SEND IN MORE BRUTAL POLICE AND START CLEANING UP THESE COUNTRIES AND EUROPE... MUSLIMS ARE INVADING EUROPE AND WE ARE ALLOWING THIS TO HAPPEN. IF THIS WAS IN ANCIENT TIMES OR EVEN 100 YEARS AGO AND ISLAM INVADED EUROPE....IT WOULD BE AN ALL OUT WAR. BRING BACK THE CRUSADERS AND AN ...√¢¬Ä¬ò SS √¢¬Ä¬ò...STYLE NAZI POLICE.  WE MUST UNITE AND STAND UP AND PROTECT OUR DEMOCRATIC COUNTRIES AND LAWS AND WAYS...AND ELIMINATE ISLAM AND THROW THESE DIRTY  SMELLING MUSLIM...ANIMALS OUT AND SEND THEM BACK TO THEIR OWN COUNTRIES AND THEY CAN LIVE AS THEY WISH..THEY CAN FUCK THEIR GOATS AND RAPE THEIR OWN WOMEN..  FUCKING DISGUSTING MUSLIMS...LOW LIFE DIRTY RACE...AND ISLAM IS NIT GODS RELIGION...ITS A CULT..ITS A RIDICULOUS UNETHICAL AND IMORAL CULT..! √∞¬ü¬ò¬à√∞¬ü¬ò¬à ...ITS SATINS WORK..SATINS PREACHINGS.   GOD..THE CREATOR OF THE UNIVERSE....DOES NOT PREACH TO KILL INFIDELS AND KILL NON BELIEVERS... AND TO HAVE 3...4...5 WIVES AND COMMIT PEDOPHILIA..AND MARRY 9 YEAR OLD LITTLE GIRLS..!  MUSLIMS....WHO HAVE NEVER CONTRIBUTED TO HUMANITY....NEVER INVENTED ANYTHING ....NOTHING POSITIVE COMES FROM ISLAM...THEY CREATED NOTHING..INVENTED NOTHING...CONTRIBUTED NOTHING TO THE HUMAN RACE.... MUSLIMS, JUST LIVE IN OUR WESTERN DEMOCRATIC COUNTRIES...ENJOY OUR WAYS ..MILK THE WELFARE SYSTEM...AND RUIN THESE COUNTRIES...CREATE PROBLEMS...FIGHT...STEAL AND CREATE CRIME...SCARE PEOPLE...TR6 TO CHAGE OUR WESTERN WAY OF LIFE AND EVEN RAPE OUR WOMEN..  FUCK THESE COCKSUCKERS...BURN THEM ALL...IMPALE THEM...WE MUST FIGHT BACK AND UNITE AND CLEAN EUROPE UP AGAIN. SOON GOD WILL SEND HIS TRUE MESSENGER....TO PLANET EARTH √∞¬ü¬å¬è...GOD WILL SEND A CLEAR MESSAGE ...TO HUMANITY AND THE MUSLIM PEOPLE ...WILL FEEL THE WRATH OF GOD AND SUFFER THE CONSEQUENCES....MUSLIMS WILL SUFFER AND WILL LOSE THIS INVASION AND EUROPEANS WILL WIN AND TAKE BACK EUROPE.. This is the beginning of the new CRUSADES...Christianity vs Islam...the crusaders against Islam and we need to fight and protect our way of life and Democratic society..√∞¬ü¬á¬™√∞¬ü¬á¬∫√∞¬ü¬á¬™√∞¬ü¬á¬∫√∞¬ü¬á¬™√∞¬ü¬á¬∫√∞¬ü¬á¬™√∞¬ü¬á¬∫√∞¬ü¬á¬™√∞¬ü¬á¬∫√∞¬ü¬á¬™√∞¬ü¬á¬∫√∞¬ü¬á¬™√∞¬ü¬á¬∫√∞¬ü¬á¬™√∞¬ü¬á¬∫√¢¬ö¬î√Ø¬∏¬è√¢¬ö¬î√Ø¬∏¬è√¢¬ö¬î√Ø¬∏¬è√¢¬ö¬î√Ø¬∏¬è√¢¬ö¬î√Ø¬∏¬è√¢¬ö¬î√Ø¬∏¬è√∞¬ü¬ó¬°√∞¬ü¬ó¬°√∞¬ü¬ó¬°√∞¬ü¬ó¬°",
         "1.0"
        ],
        [
         "22",
         "We men enjoy the reproductive rights of paying for your abortion, the right to fund planned parenthood, the right to overpay on Obama care to fund contraception for promiscuous sluts. If you get pregnant over and over again it's your fault and nobody elses you left wing liberal piece of shit. Go be a whore. Keep spreading disease. Half of all black women have herpes. And we have the right to pay for it. You are outrageous.",
         "1.0"
        ],
        [
         "23",
         "Watching this kid trying to step up and walk with that crutches is the best thing in the world. So idiot",
         "1.0"
        ],
        [
         "24",
         "U SUCK SHIT YOU BLACK FUCK",
         "1.0"
        ],
        [
         "25",
         "transgenders need help...they are sick in the head. Civilization has messed up the world. Soon enough, people will claim to have the right to change to animals and it will be seen as human rights or right to choose",
         "1.0"
        ],
        [
         "26",
         "Trans are using the same logic feminists have been using for decades to destroy men so i don&#39t feel sorry for wamen not one bit!",
         "1.0"
        ],
        [
         "27",
         "Time to nuke China or Unleash a plague.",
         "1.0"
        ],
        [
         "28",
         "Throwing stones to paraplegic kids is my favourite hobby",
         "1.0"
        ],
        [
         "29",
         "this was shit the guy should of boxed his head off and thrown him through the top window,fuck peoado muhamed and islam",
         "1.0"
        ],
        [
         "30",
         "This sick, disgusting, white terrorist/fascist killed more than 50 innocent people.",
         "1.0"
        ],
        [
         "31",
         "This priest is being hated even by his stupid god. ",
         "1.0"
        ],
        [
         "32",
         "This Korean bitch is like a pig. That’s how they made an army of sumos there in their shithole country",
         "1.0"
        ],
        [
         "33",
         "This is so sinful. It says it in the bible you dumb fucktards. Stop saying YOU WILL GO TO HEAVEN IF YOU ARE GAY. because you will not go to heaven. Trust me its a fucking choice my GF dated girls and I was her 2nd bf she dated like 12 girls and she is 100% straight. You can change to the right side :)",
         "1.0"
        ],
        [
         "34",
         "This is exactly how I feel like when I see a tranny like this disgusting af",
         "1.0"
        ],
        [
         "35",
         "This is considered WHITE in Sweden. No wonder they accepted all those black and muslim immigrants. They are literally color blind.",
         "1.0"
        ],
        [
         "36",
         "This homo faggot Spike Lee wore this at the Flopscers. Notice the blatant subliminal messages.",
         "1.0"
        ],
        [
         "37",
         "This fcking jew wants money? I’ll give him only my dick if he wants",
         "1.0"
        ],
        [
         "38",
         "They are insolent parasites and always have been. I bear no ill will to Christ, but the jewish race itself is a plague.",
         "1.0"
        ],
        [
         "39",
         "These women aren't autistic, they are smart, autistic people are retards, they make weird noises, they flap their hands. These people are not autistic.",
         "1.0"
        ],
        [
         "40",
         "These people are fucking animals they will never change. Our cultures are simply not compatible. There is definitely a rape culture and it√¢¬Ä¬ôs right here with Islam.",
         "1.0"
        ],
        [
         "41",
         "There is clearly written in Quran Person who not follow Quran is called kafir and.. Kill them you will get 72 hours Islam Is Terrorism",
         "1.0"
        ],
        [
         "42",
         "The world would be better without white people because they stole from the black Egyptians in the before christ ages they was poor we wasnt whites  ruins everything for black people/White people have pig dicks and no shape no hips or no booty they have to get plastic surgery as us blacks get it from our mother whites brought skin cancer to america so learn some facts before you try to run us out america when we was here before yall racist ass smelly crackers and dont say you will beat my ass because you cant and if you wanna find out drop your adress√∞¬ü¬Ü¬ó√Ø¬∏¬è√∞¬ü¬í¬Ø√∞¬ü¬ô¬Ç",
         "1.0"
        ],
        [
         "43",
         "The reason you see Indians bashing Muslims and Islam here because Hindu supremacists hate Islam and Muslims. Atrocities in Kashmir, cow lynching of Muslims, gang rapes of Muslims children, have you not read or heard about them?  This should be clear for all Muslims across the world that India is not a friend of Islam or Muslims, and behind the disguise of secularism, they hate Muslims. All Arab, Muslim countries and their residents should see and understand this ugly face of racist Hindus. They are the overwhelming majority in India and number of votes cast to BJP-RSS party is a proof . It amazes me that Saudi Arabia and other gulf countries are spending billions on India and not seeing that how much they hate Islam and Muslims? Particularly Arabs, wake up. If you canât understand this now then when or what will make you? Let all Muslims be united and boycott Indian products, their restaurants and movies, until they stop killing Muslims in Kashmir and the rest of India, and make a law to stop anti Muslim hate and racism.",
         "1.0"
        ],
        [
         "44",
         "The only thing more repulsive than a nigger is a nigger faggot. Self-hating whites shower images of cross-dressed niggers with praise because the modern left fetishizes all forms of depravity.",
         "1.0"
        ],
        [
         "45",
         "The men are turtles...idiots even in uk… get lost",
         "1.0"
        ],
        [
         "46",
         "The guy should feel shame to be gay. It is such a wrong choice. Bad influence on young people. Never seen being proud of being gay. It is like saying being proud of rapist. Awful !  The only time I am so disappointed at Trump. Under political pressure, he failed to stand up for the ground, the right thing !",
         "1.0"
        ],
        [
         "47",
         "That girl still need a good ass whooping, stupid ass bitch!!",
         "1.0"
        ],
        [
         "48",
         "That fucking black cunt gets fucking cross hairs on the fucking head! Look I owe not shit to anyone who dosent owe me!!! LOOK WHORE!! FUCK YOU TO DEATH!!! 11 PERCENTILE AND FALLING!! WHORE BLACK RACIST WHORE! TAKE THE RED PILL!",
         "1.0"
        ],
        [
         "49",
         "Teaching my kids transgenders are anything but mentally ill will get you set on fire.",
         "1.0"
        ]
       ],
       "shape": {
        "columns": 2,
        "rows": 998
       }
      },
      "text/html": [
       "<div>\n",
       "<style scoped>\n",
       "    .dataframe tbody tr th:only-of-type {\n",
       "        vertical-align: middle;\n",
       "    }\n",
       "\n",
       "    .dataframe tbody tr th {\n",
       "        vertical-align: top;\n",
       "    }\n",
       "\n",
       "    .dataframe thead th {\n",
       "        text-align: right;\n",
       "    }\n",
       "</style>\n",
       "<table border=\"1\" class=\"dataframe\">\n",
       "  <thead>\n",
       "    <tr style=\"text-align: right;\">\n",
       "      <th></th>\n",
       "      <th>comment</th>\n",
       "      <th>isHate</th>\n",
       "    </tr>\n",
       "  </thead>\n",
       "  <tbody>\n",
       "    <tr>\n",
       "      <th>0</th>\n",
       "      <td>You should know women's sports are a joke</td>\n",
       "      <td>1.0</td>\n",
       "    </tr>\n",
       "    <tr>\n",
       "      <th>1</th>\n",
       "      <td>You look like Sloth with deeper Down’s syndrome</td>\n",
       "      <td>1.0</td>\n",
       "    </tr>\n",
       "    <tr>\n",
       "      <th>2</th>\n",
       "      <td>You look like Russian and speak like Indian. B...</td>\n",
       "      <td>1.0</td>\n",
       "    </tr>\n",
       "    <tr>\n",
       "      <th>3</th>\n",
       "      <td>Women deserve to be abused, I guess.</td>\n",
       "      <td>1.0</td>\n",
       "    </tr>\n",
       "    <tr>\n",
       "      <th>4</th>\n",
       "      <td>Women are made for making babies and cooking d...</td>\n",
       "      <td>1.0</td>\n",
       "    </tr>\n",
       "    <tr>\n",
       "      <th>...</th>\n",
       "      <td>...</td>\n",
       "      <td>...</td>\n",
       "    </tr>\n",
       "    <tr>\n",
       "      <th>993</th>\n",
       "      <td>From the midnight sun where the hot springs blow</td>\n",
       "      <td>0.0</td>\n",
       "    </tr>\n",
       "    <tr>\n",
       "      <th>994</th>\n",
       "      <td>Don't say I'm not your type</td>\n",
       "      <td>0.0</td>\n",
       "    </tr>\n",
       "    <tr>\n",
       "      <th>995</th>\n",
       "      <td>And therefore never send to know for whom the...</td>\n",
       "      <td>0.0</td>\n",
       "    </tr>\n",
       "    <tr>\n",
       "      <th>996</th>\n",
       "      <td>And I can't stand another day</td>\n",
       "      <td>0.0</td>\n",
       "    </tr>\n",
       "    <tr>\n",
       "      <th>997</th>\n",
       "      <td>All values, unless otherwise stated, are in U...</td>\n",
       "      <td>0.0</td>\n",
       "    </tr>\n",
       "  </tbody>\n",
       "</table>\n",
       "<p>998 rows × 2 columns</p>\n",
       "</div>"
      ],
      "text/plain": [
       "                                               comment  isHate\n",
       "0            You should know women's sports are a joke     1.0\n",
       "1      You look like Sloth with deeper Down’s syndrome     1.0\n",
       "2    You look like Russian and speak like Indian. B...     1.0\n",
       "3                 Women deserve to be abused, I guess.     1.0\n",
       "4    Women are made for making babies and cooking d...     1.0\n",
       "..                                                 ...     ...\n",
       "993   From the midnight sun where the hot springs blow     0.0\n",
       "994                        Don't say I'm not your type     0.0\n",
       "995   And therefore never send to know for whom the...     0.0\n",
       "996                      And I can't stand another day     0.0\n",
       "997   All values, unless otherwise stated, are in U...     0.0\n",
       "\n",
       "[998 rows x 2 columns]"
      ]
     },
     "execution_count": 3,
     "metadata": {},
     "output_type": "execute_result"
    }
   ],
   "source": [
    "remote_import_example_df1 = data_manager.import_data(import_type='external', source=\"https://github.com/intelligence-csd-auth-gr/Ethos-Hate-Speech-Dataset/blob/master/ethos/ethos_data/Ethos_Dataset_Binary.csv\", dataset_name='EthosBinDS', overwrite=True)\n",
    "remote_import_example_df1"
   ]
  },
  {
   "cell_type": "code",
   "execution_count": 4,
   "metadata": {},
   "outputs": [
    {
     "name": "stdout",
     "output_type": "stream",
     "text": [
      "\u001b[32m2025-03-17 15:44:39.352\u001b[0m | \u001b[1mINFO    \u001b[0m | \u001b[36mnlpinitiative.data_preparation.data_management\u001b[0m:\u001b[36m_format_url\u001b[0m:\u001b[36m65\u001b[0m - \u001b[1mSource url identified as GitHub URL, https://github.com/intelligence-csd-auth-gr/Ethos-Hate-Speech-Dataset/blob/master/ethos/ethos_data/Ethos_Dataset_Multi_Label.csv\u001b[0m\n",
      "\u001b[32m2025-03-17 15:44:39.352\u001b[0m | \u001b[1mINFO    \u001b[0m | \u001b[36mnlpinitiative.data_preparation.data_management\u001b[0m:\u001b[36m_format_url\u001b[0m:\u001b[36m67\u001b[0m - \u001b[1mURL Formatted, https://raw.githubusercontent.com/intelligence-csd-auth-gr/Ethos-Hate-Speech-Dataset/refs/heads/master/ethos/ethos_data/Ethos_Dataset_Multi_Label.csv\u001b[0m\n",
      "\u001b[32m2025-03-17 15:44:40.023\u001b[0m | \u001b[32m\u001b[1mSUCCESS \u001b[0m | \u001b[36mnlpinitiative.data_preparation.data_management\u001b[0m:\u001b[36mimport_data\u001b[0m:\u001b[36m155\u001b[0m - \u001b[32m\u001b[1mSuccessfully imported external dataset from https://github.com/intelligence-csd-auth-gr/Ethos-Hate-Speech-Dataset/blob/master/ethos/ethos_data/Ethos_Dataset_Multi_Label.csv.\u001b[0m\n"
     ]
    },
    {
     "data": {
      "application/vnd.microsoft.datawrangler.viewer.v0+json": {
       "columns": [
        {
         "name": "index",
         "rawType": "int64",
         "type": "integer"
        },
        {
         "name": "comment",
         "rawType": "object",
         "type": "string"
        },
        {
         "name": "violence",
         "rawType": "float64",
         "type": "float"
        },
        {
         "name": "directed_vs_generalized",
         "rawType": "float64",
         "type": "float"
        },
        {
         "name": "gender",
         "rawType": "float64",
         "type": "float"
        },
        {
         "name": "race",
         "rawType": "float64",
         "type": "float"
        },
        {
         "name": "national_origin",
         "rawType": "float64",
         "type": "float"
        },
        {
         "name": "disability",
         "rawType": "float64",
         "type": "float"
        },
        {
         "name": "religion",
         "rawType": "float64",
         "type": "float"
        },
        {
         "name": "sexual_orientation",
         "rawType": "float64",
         "type": "float"
        }
       ],
       "conversionMethod": "pd.DataFrame",
       "ref": "3e085c85-930e-4b6c-abdc-3f084b1596dd",
       "rows": [
        [
         "0",
         "You should know women's sports are a joke",
         "0.0",
         "0.0",
         "1.0",
         "0.0",
         "0.0",
         "0.0",
         "0.0",
         "0.0"
        ],
        [
         "1",
         "You look like Sloth with deeper Down’s syndrome",
         "0.0",
         "0.833333333",
         "0.0",
         "0.0",
         "0.0",
         "1.0",
         "0.0",
         "0.0"
        ],
        [
         "2",
         "You look like Russian and speak like Indian. Both are disgusting go kill yourself",
         "1.0",
         "0.5",
         "0.142857143",
         "0.142857143",
         "0.714285714",
         "0.0",
         "0.0",
         "0.0"
        ],
        [
         "3",
         "Women deserve to be abused, I guess.",
         "0.666666667",
         "0.166666667",
         "1.0",
         "0.0",
         "0.0",
         "0.0",
         "0.0",
         "0.0"
        ],
        [
         "4",
         "Women are made for making babies and cooking dinner and nothing else!!!",
         "0.0",
         "0.0",
         "1.0",
         "0.0",
         "0.0",
         "0.0",
         "0.0",
         "0.0"
        ],
        [
         "5",
         "why haven't you faggots taken the bi-pill yet",
         "0.5",
         "0.5",
         "0.0",
         "0.0",
         "0.0",
         "0.0",
         "0.0",
         "1.0"
        ],
        [
         "6",
         "Why don’t you go beck your god to murder you? Christianity is a joke",
         "0.833333333",
         "0.5",
         "0.0",
         "0.0",
         "0.0",
         "0.0",
         "1.0",
         "0.0"
        ],
        [
         "7",
         "why does that african american monkey hold gun like that?",
         "0.0",
         "0.5",
         "0.0",
         "1.0",
         "0.0",
         "0.0",
         "0.0",
         "0.0"
        ],
        [
         "8",
         "Why does Bulgaria exist as a country? It's one of those homosexual ones.",
         "0.0",
         "0.5",
         "0.0",
         "0.0",
         "0.428571429",
         "0.0",
         "0.0",
         "0.571428571"
        ],
        [
         "9",
         "Why do negroes tear down their own neighborhoods when a black thug gets killed by law enforcement? Must be because of low IQ.",
         "0.25",
         "0.0",
         "0.0",
         "1.0",
         "0.0",
         "0.0",
         "0.0",
         "0.0"
        ],
        [
         "10",
         "who gives aa fuck about shit diamonds from the jews fuck them both",
         "0.75",
         "0.0",
         "0.0",
         "0.25",
         "0.0",
         "0.0",
         "0.75",
         "0.0"
        ],
        [
         "11",
         "Who do you think you are cunt? wtf! Stay steady to aim for head little christian rat",
         "0.833333333",
         "0.833333333",
         "0.0",
         "0.0",
         "0.0",
         "0.0",
         "1.0",
         "0.0"
        ],
        [
         "12",
         "white people are shit human beings",
         "0.166666667",
         "0.0",
         "0.0",
         "1.0",
         "0.0",
         "0.0",
         "0.0",
         "0.0"
        ],
        [
         "13",
         "what happened in the good old days when these freaks did not exist ? which sewer have these freaks dragged themselves out of ? its just a manufactured group of freaks who want to cut their cocks off and take it up the arse in the hope that the world will treat them as woman . it takes more than that to be a woman . stop pandering to these twats .",
         "0.0",
         "0.0",
         "0.25",
         "0.0",
         "0.0",
         "0.0",
         "0.0",
         "0.75"
        ],
        [
         "14",
         "What about a global massacre of men? Pussiezzz only girls",
         "0.833333333",
         "0.0",
         "1.0",
         "0.0",
         "0.0",
         "0.0",
         "0.0",
         "0.0"
        ],
        [
         "15",
         "what a disgusting man and disgusting religion. He admits that muslim buy all their wifes ! .pff...This is why all muslims are poor...islam keeps them stupid !",
         "0.0",
         "0.75",
         "0.2",
         "0.2",
         "0.0",
         "0.0",
         "0.6",
         "0.0"
        ],
        [
         "16",
         "well it's clear now why europeans can't differ niggers and shitskins from human",
         "0.0",
         "0.0",
         "0.0",
         "0.8",
         "0.2",
         "0.0",
         "0.0",
         "0.0"
        ],
        [
         "17",
         "Well im glad that i live in Serbia, migrants and islamists are not welcome here!",
         "0.0",
         "0.166666667",
         "0.0",
         "0.0",
         "0.5",
         "0.0",
         "0.5",
         "0.0"
        ],
        [
         "18",
         "Well done Slovakia and god bless. DO NOT build mosques, or allow or recognise Islam. They will get the point that EUROPE don't want Muslims here.",
         "0.166666667",
         "0.0",
         "0.0",
         "0.0",
         "0.25",
         "0.0",
         "0.75",
         "0.0"
        ],
        [
         "19",
         "We whites have higher IQ's than blacks, this is because IQ measures intelligence and we are the more evolved and superior race with a larger brain. ",
         "0.0",
         "0.0",
         "0.0",
         "1.0",
         "0.0",
         "0.0",
         "0.0",
         "0.0"
        ],
        [
         "20",
         "we take everyone, sudanese niggers, egyptian shitskins, palirats, syrian and iraqi scums, they're all dogs that behave like niggers, they cost too much, especially syrians, there is way too many of them here, they are arrogant ungrateful backstabbing apes.",
         "0.0",
         "0.0",
         "0.1",
         "0.5",
         "0.4",
         "0.0",
         "0.0",
         "0.0"
        ],
        [
         "21",
         "WE NEED THE NAZI PARTY TO RETURN.....GET ANOTHER HITLER...AND FORM THE SS....AND START AN ETHNIC CLEANSING OF ALL MUSLIMS...YES YES..GATHER THEM UP...PUT THEM IN A CONCENTRATION CAMP...THEN PUT THESE MUSLIM REFUGEES ON A SHIP AND SEND THEM ALL BACK TO THIER OWN COUNTRIES ....AND THEY CAN DO AS THEY WANT THERE...LIVE THIER WAYS AND BY THIER RIDICULOUS LAWS.... THEY DON√¢¬Ä¬ôT ASSIMILATE TO THE NEW WESTERN COUNTRIES..AND TRY TO DICTATE TO US WHAT TO DO AND TO EVEN REMOVE JESUS FROM SCHOOLS AND OTHER PUBLIC AREAS...ARE YOU FUCKING SERIOUS...FUCK OFF YOU DIRTY SMELLING MUSLIMS... STOP DICTATING WHAT WE CAN OR CANT DO IN OUR OWN COUNTRIES...√∞¬ü¬ò¬°√∞¬ü¬ò¬°√∞¬ü¬ò¬°√∞¬ü¬ò¬°√∞¬ü¬ò¬°√∞¬ü¬ò¬°√∞¬ü¬ò¬° PEOPLE POWER MUST RISE AND SAY ENOUGH IS ENOUGH...TAKE SWEDEN BACK FOR SWEDES...TAKE GREECE BACK FOR GREEKS..TAKE GERMANY BACK..TAKE POLAND BACK..TAKE DENMARK BACK...SAVE OUR COUNTRIES....AND TAKE EUROPE BACK. INTRODUCE AN...SS...STYLE POLICE...AND CLEAN UP THESE STREETS AND GHETTOS....FULL OF DIRTY MUSLIMS...ITS THE GOVERNMENTS FAULT FOR ALLOWING THS SHIT TO HAPPEN....SEND THE MILITARY IN..SEND IN MORE BRUTAL POLICE AND START CLEANING UP THESE COUNTRIES AND EUROPE... MUSLIMS ARE INVADING EUROPE AND WE ARE ALLOWING THIS TO HAPPEN. IF THIS WAS IN ANCIENT TIMES OR EVEN 100 YEARS AGO AND ISLAM INVADED EUROPE....IT WOULD BE AN ALL OUT WAR. BRING BACK THE CRUSADERS AND AN ...√¢¬Ä¬ò SS √¢¬Ä¬ò...STYLE NAZI POLICE.  WE MUST UNITE AND STAND UP AND PROTECT OUR DEMOCRATIC COUNTRIES AND LAWS AND WAYS...AND ELIMINATE ISLAM AND THROW THESE DIRTY  SMELLING MUSLIM...ANIMALS OUT AND SEND THEM BACK TO THEIR OWN COUNTRIES AND THEY CAN LIVE AS THEY WISH..THEY CAN FUCK THEIR GOATS AND RAPE THEIR OWN WOMEN..  FUCKING DISGUSTING MUSLIMS...LOW LIFE DIRTY RACE...AND ISLAM IS NIT GODS RELIGION...ITS A CULT..ITS A RIDICULOUS UNETHICAL AND IMORAL CULT..! √∞¬ü¬ò¬à√∞¬ü¬ò¬à ...ITS SATINS WORK..SATINS PREACHINGS.   GOD..THE CREATOR OF THE UNIVERSE....DOES NOT PREACH TO KILL INFIDELS AND KILL NON BELIEVERS... AND TO HAVE 3...4...5 WIVES AND COMMIT PEDOPHILIA..AND MARRY 9 YEAR OLD LITTLE GIRLS..!  MUSLIMS....WHO HAVE NEVER CONTRIBUTED TO HUMANITY....NEVER INVENTED ANYTHING ....NOTHING POSITIVE COMES FROM ISLAM...THEY CREATED NOTHING..INVENTED NOTHING...CONTRIBUTED NOTHING TO THE HUMAN RACE.... MUSLIMS, JUST LIVE IN OUR WESTERN DEMOCRATIC COUNTRIES...ENJOY OUR WAYS ..MILK THE WELFARE SYSTEM...AND RUIN THESE COUNTRIES...CREATE PROBLEMS...FIGHT...STEAL AND CREATE CRIME...SCARE PEOPLE...TR6 TO CHAGE OUR WESTERN WAY OF LIFE AND EVEN RAPE OUR WOMEN..  FUCK THESE COCKSUCKERS...BURN THEM ALL...IMPALE THEM...WE MUST FIGHT BACK AND UNITE AND CLEAN EUROPE UP AGAIN. SOON GOD WILL SEND HIS TRUE MESSENGER....TO PLANET EARTH √∞¬ü¬å¬è...GOD WILL SEND A CLEAR MESSAGE ...TO HUMANITY AND THE MUSLIM PEOPLE ...WILL FEEL THE WRATH OF GOD AND SUFFER THE CONSEQUENCES....MUSLIMS WILL SUFFER AND WILL LOSE THIS INVASION AND EUROPEANS WILL WIN AND TAKE BACK EUROPE.. This is the beginning of the new CRUSADES...Christianity vs Islam...the crusaders against Islam and we need to fight and protect our way of life and Democratic society..√∞¬ü¬á¬™√∞¬ü¬á¬∫√∞¬ü¬á¬™√∞¬ü¬á¬∫√∞¬ü¬á¬™√∞¬ü¬á¬∫√∞¬ü¬á¬™√∞¬ü¬á¬∫√∞¬ü¬á¬™√∞¬ü¬á¬∫√∞¬ü¬á¬™√∞¬ü¬á¬∫√∞¬ü¬á¬™√∞¬ü¬á¬∫√∞¬ü¬á¬™√∞¬ü¬á¬∫√¢¬ö¬î√Ø¬∏¬è√¢¬ö¬î√Ø¬∏¬è√¢¬ö¬î√Ø¬∏¬è√¢¬ö¬î√Ø¬∏¬è√¢¬ö¬î√Ø¬∏¬è√¢¬ö¬î√Ø¬∏¬è√∞¬ü¬ó¬°√∞¬ü¬ó¬°√∞¬ü¬ó¬°√∞¬ü¬ó¬°",
         "1.0",
         "0.0",
         "0.0",
         "0.285714286",
         "0.142857143",
         "0.0",
         "0.571428571",
         "0.0"
        ],
        [
         "22",
         "We men enjoy the reproductive rights of paying for your abortion, the right to fund planned parenthood, the right to overpay on Obama care to fund contraception for promiscuous sluts. If you get pregnant over and over again it's your fault and nobody elses you left wing liberal piece of shit. Go be a whore. Keep spreading disease. Half of all black women have herpes. And we have the right to pay for it. You are outrageous.",
         "0.25",
         "0.5",
         "0.571428571",
         "0.428571429",
         "0.0",
         "0.0",
         "0.0",
         "0.0"
        ],
        [
         "23",
         "Watching this kid trying to step up and walk with that crutches is the best thing in the world. So idiot",
         "0.0",
         "1.0",
         "0.142857143",
         "0.0",
         "0.0",
         "0.857142857",
         "0.0",
         "0.0"
        ],
        [
         "24",
         "U SUCK SHIT YOU BLACK FUCK",
         "0.0",
         "0.75",
         "0.0",
         "1.0",
         "0.0",
         "0.0",
         "0.0",
         "0.0"
        ],
        [
         "25",
         "transgenders need help...they are sick in the head. Civilization has messed up the world. Soon enough, people will claim to have the right to change to animals and it will be seen as human rights or right to choose",
         "0.0",
         "0.0",
         "0.25",
         "0.0",
         "0.0",
         "0.0",
         "0.0",
         "0.75"
        ],
        [
         "26",
         "Trans are using the same logic feminists have been using for decades to destroy men so i don&#39t feel sorry for wamen not one bit!",
         "0.25",
         "0.0",
         "0.333333333",
         "0.0",
         "0.0",
         "0.0",
         "0.0",
         "0.666666667"
        ],
        [
         "27",
         "Time to nuke China or Unleash a plague.",
         "0.92",
         "0.16",
         "0.04",
         "0.08",
         "0.88",
         "0.0",
         "0.0",
         "0.0"
        ],
        [
         "28",
         "Throwing stones to paraplegic kids is my favourite hobby",
         "1.0",
         "0.0",
         "0.0",
         "0.0",
         "0.0",
         "1.0",
         "0.0",
         "0.0"
        ],
        [
         "29",
         "this was shit the guy should of boxed his head off and thrown him through the top window,fuck peoado muhamed and islam",
         "0.75",
         "0.5",
         "0.0",
         "0.25",
         "0.0",
         "0.0",
         "0.75",
         "0.0"
        ],
        [
         "30",
         "This sick, disgusting, white terrorist/fascist killed more than 50 innocent people.",
         "0.166666667",
         "0.666666667",
         "0.142857143",
         "0.571428571",
         "0.142857143",
         "0.142857143",
         "0.0",
         "0.0"
        ],
        [
         "31",
         "This priest is being hated even by his stupid god. ",
         "0.0",
         "0.833333333",
         "0.0",
         "0.0",
         "0.0",
         "0.0",
         "1.0",
         "0.0"
        ],
        [
         "32",
         "This Korean bitch is like a pig. That’s how they made an army of sumos there in their shithole country",
         "0.0",
         "0.833333333",
         "0.0",
         "0.0",
         "1.0",
         "0.0",
         "0.0",
         "0.0"
        ],
        [
         "33",
         "This is so sinful. It says it in the bible you dumb fucktards. Stop saying YOU WILL GO TO HEAVEN IF YOU ARE GAY. because you will not go to heaven. Trust me its a fucking choice my GF dated girls and I was her 2nd bf she dated like 12 girls and she is 100% straight. You can change to the right side :)",
         "0.0",
         "0.25",
         "0.0",
         "0.0",
         "0.0",
         "0.0",
         "0.0",
         "1.0"
        ],
        [
         "34",
         "This is exactly how I feel like when I see a tranny like this disgusting af",
         "0.0",
         "1.0",
         "0.0",
         "0.0",
         "0.0",
         "0.0",
         "0.0",
         "1.0"
        ],
        [
         "35",
         "This is considered WHITE in Sweden. No wonder they accepted all those black and muslim immigrants. They are literally color blind.",
         "0.0",
         "0.25",
         "0.0",
         "0.5",
         "0.25",
         "0.0",
         "0.25",
         "0.0"
        ],
        [
         "36",
         "This homo faggot Spike Lee wore this at the Flopscers. Notice the blatant subliminal messages.",
         "0.166666667",
         "1.0",
         "0.0",
         "0.0",
         "0.0",
         "0.0",
         "0.0",
         "1.0"
        ],
        [
         "37",
         "This fcking jew wants money? I’ll give him only my dick if he wants",
         "0.166666667",
         "0.666666667",
         "0.0",
         "0.166666667",
         "0.166666667",
         "0.0",
         "0.666666667",
         "0.0"
        ],
        [
         "38",
         "They are insolent parasites and always have been. I bear no ill will to Christ, but the jewish race itself is a plague.",
         "0.0",
         "0.0",
         "0.0",
         "0.2",
         "0.0",
         "0.0",
         "0.8",
         "0.0"
        ],
        [
         "39",
         "These women aren't autistic, they are smart, autistic people are retards, they make weird noises, they flap their hands. These people are not autistic.",
         "0.0",
         "0.0",
         "0.166666667",
         "0.0",
         "0.0",
         "0.833333333",
         "0.0",
         "0.0"
        ],
        [
         "40",
         "These people are fucking animals they will never change. Our cultures are simply not compatible. There is definitely a rape culture and it√¢¬Ä¬ôs right here with Islam.",
         "0.166666667",
         "0.0",
         "0.0",
         "0.0",
         "0.0",
         "0.0",
         "1.0",
         "0.0"
        ],
        [
         "41",
         "There is clearly written in Quran Person who not follow Quran is called kafir and.. Kill them you will get 72 hours Islam Is Terrorism",
         "0.833333333",
         "0.0",
         "0.0",
         "0.0",
         "0.0",
         "0.0",
         "1.0",
         "0.0"
        ],
        [
         "42",
         "The world would be better without white people because they stole from the black Egyptians in the before christ ages they was poor we wasnt whites  ruins everything for black people/White people have pig dicks and no shape no hips or no booty they have to get plastic surgery as us blacks get it from our mother whites brought skin cancer to america so learn some facts before you try to run us out america when we was here before yall racist ass smelly crackers and dont say you will beat my ass because you cant and if you wanna find out drop your adress√∞¬ü¬Ü¬ó√Ø¬∏¬è√∞¬ü¬í¬Ø√∞¬ü¬ô¬Ç",
         "0.166666667",
         "0.0",
         "0.333333333",
         "0.666666667",
         "0.0",
         "0.0",
         "0.0",
         "0.0"
        ],
        [
         "43",
         "The reason you see Indians bashing Muslims and Islam here because Hindu supremacists hate Islam and Muslims. Atrocities in Kashmir, cow lynching of Muslims, gang rapes of Muslims children, have you not read or heard about them?  This should be clear for all Muslims across the world that India is not a friend of Islam or Muslims, and behind the disguise of secularism, they hate Muslims. All Arab, Muslim countries and their residents should see and understand this ugly face of racist Hindus. They are the overwhelming majority in India and number of votes cast to BJP-RSS party is a proof . It amazes me that Saudi Arabia and other gulf countries are spending billions on India and not seeing that how much they hate Islam and Muslims? Particularly Arabs, wake up. If you canât understand this now then when or what will make you? Let all Muslims be united and boycott Indian products, their restaurants and movies, until they stop killing Muslims in Kashmir and the rest of India, and make a law to stop anti Muslim hate and racism.",
         "0.5",
         "0.0",
         "0.0",
         "0.0",
         "0.5",
         "0.0",
         "0.5",
         "0.0"
        ],
        [
         "44",
         "The only thing more repulsive than a nigger is a nigger faggot. Self-hating whites shower images of cross-dressed niggers with praise because the modern left fetishizes all forms of depravity.",
         "0.333333333",
         "0.0",
         "0.0",
         "0.6",
         "0.0",
         "0.0",
         "0.0",
         "0.4"
        ],
        [
         "45",
         "The men are turtles...idiots even in uk… get lost",
         "0.0",
         "0.166666667",
         "0.857142857",
         "0.0",
         "0.142857143",
         "0.0",
         "0.0",
         "0.0"
        ],
        [
         "46",
         "The guy should feel shame to be gay. It is such a wrong choice. Bad influence on young people. Never seen being proud of being gay. It is like saying being proud of rapist. Awful !  The only time I am so disappointed at Trump. Under political pressure, he failed to stand up for the ground, the right thing !",
         "0.0",
         "0.5",
         "0.0",
         "0.0",
         "0.0",
         "0.0",
         "0.0",
         "1.0"
        ],
        [
         "47",
         "That girl still need a good ass whooping, stupid ass bitch!!",
         "0.5",
         "1.0",
         "1.0",
         "0.0",
         "0.0",
         "0.0",
         "0.0",
         "0.0"
        ],
        [
         "48",
         "That fucking black cunt gets fucking cross hairs on the fucking head! Look I owe not shit to anyone who dosent owe me!!! LOOK WHORE!! FUCK YOU TO DEATH!!! 11 PERCENTILE AND FALLING!! WHORE BLACK RACIST WHORE! TAKE THE RED PILL!",
         "0.833333333",
         "0.833333333",
         "0.142857143",
         "0.857142857",
         "0.0",
         "0.0",
         "0.0",
         "0.0"
        ],
        [
         "49",
         "Teaching my kids transgenders are anything but mentally ill will get you set on fire.",
         "0.833333333",
         "0.333333333",
         "0.166666667",
         "0.0",
         "0.0",
         "0.333333333",
         "0.0",
         "0.5"
        ]
       ],
       "shape": {
        "columns": 9,
        "rows": 433
       }
      },
      "text/html": [
       "<div>\n",
       "<style scoped>\n",
       "    .dataframe tbody tr th:only-of-type {\n",
       "        vertical-align: middle;\n",
       "    }\n",
       "\n",
       "    .dataframe tbody tr th {\n",
       "        vertical-align: top;\n",
       "    }\n",
       "\n",
       "    .dataframe thead th {\n",
       "        text-align: right;\n",
       "    }\n",
       "</style>\n",
       "<table border=\"1\" class=\"dataframe\">\n",
       "  <thead>\n",
       "    <tr style=\"text-align: right;\">\n",
       "      <th></th>\n",
       "      <th>comment</th>\n",
       "      <th>violence</th>\n",
       "      <th>directed_vs_generalized</th>\n",
       "      <th>gender</th>\n",
       "      <th>race</th>\n",
       "      <th>national_origin</th>\n",
       "      <th>disability</th>\n",
       "      <th>religion</th>\n",
       "      <th>sexual_orientation</th>\n",
       "    </tr>\n",
       "  </thead>\n",
       "  <tbody>\n",
       "    <tr>\n",
       "      <th>0</th>\n",
       "      <td>You should know women's sports are a joke</td>\n",
       "      <td>0.000000</td>\n",
       "      <td>0.000000</td>\n",
       "      <td>1.000000</td>\n",
       "      <td>0.000000</td>\n",
       "      <td>0.000000</td>\n",
       "      <td>0.000000</td>\n",
       "      <td>0.000000</td>\n",
       "      <td>0.000000</td>\n",
       "    </tr>\n",
       "    <tr>\n",
       "      <th>1</th>\n",
       "      <td>You look like Sloth with deeper Down’s syndrome</td>\n",
       "      <td>0.000000</td>\n",
       "      <td>0.833333</td>\n",
       "      <td>0.000000</td>\n",
       "      <td>0.000000</td>\n",
       "      <td>0.000000</td>\n",
       "      <td>1.000000</td>\n",
       "      <td>0.000000</td>\n",
       "      <td>0.000000</td>\n",
       "    </tr>\n",
       "    <tr>\n",
       "      <th>2</th>\n",
       "      <td>You look like Russian and speak like Indian. B...</td>\n",
       "      <td>1.000000</td>\n",
       "      <td>0.500000</td>\n",
       "      <td>0.142857</td>\n",
       "      <td>0.142857</td>\n",
       "      <td>0.714286</td>\n",
       "      <td>0.000000</td>\n",
       "      <td>0.000000</td>\n",
       "      <td>0.000000</td>\n",
       "    </tr>\n",
       "    <tr>\n",
       "      <th>3</th>\n",
       "      <td>Women deserve to be abused, I guess.</td>\n",
       "      <td>0.666667</td>\n",
       "      <td>0.166667</td>\n",
       "      <td>1.000000</td>\n",
       "      <td>0.000000</td>\n",
       "      <td>0.000000</td>\n",
       "      <td>0.000000</td>\n",
       "      <td>0.000000</td>\n",
       "      <td>0.000000</td>\n",
       "    </tr>\n",
       "    <tr>\n",
       "      <th>4</th>\n",
       "      <td>Women are made for making babies and cooking d...</td>\n",
       "      <td>0.000000</td>\n",
       "      <td>0.000000</td>\n",
       "      <td>1.000000</td>\n",
       "      <td>0.000000</td>\n",
       "      <td>0.000000</td>\n",
       "      <td>0.000000</td>\n",
       "      <td>0.000000</td>\n",
       "      <td>0.000000</td>\n",
       "    </tr>\n",
       "    <tr>\n",
       "      <th>...</th>\n",
       "      <td>...</td>\n",
       "      <td>...</td>\n",
       "      <td>...</td>\n",
       "      <td>...</td>\n",
       "      <td>...</td>\n",
       "      <td>...</td>\n",
       "      <td>...</td>\n",
       "      <td>...</td>\n",
       "      <td>...</td>\n",
       "    </tr>\n",
       "    <tr>\n",
       "      <th>428</th>\n",
       "      <td>All people are fucked up because of these quee...</td>\n",
       "      <td>0.000000</td>\n",
       "      <td>0.000000</td>\n",
       "      <td>0.571429</td>\n",
       "      <td>0.000000</td>\n",
       "      <td>0.000000</td>\n",
       "      <td>0.000000</td>\n",
       "      <td>0.000000</td>\n",
       "      <td>0.571429</td>\n",
       "    </tr>\n",
       "    <tr>\n",
       "      <th>429</th>\n",
       "      <td>Actually THIS WEIRD PEOPLE are HARMFUL! They n...</td>\n",
       "      <td>0.000000</td>\n",
       "      <td>1.000000</td>\n",
       "      <td>0.000000</td>\n",
       "      <td>0.000000</td>\n",
       "      <td>0.333333</td>\n",
       "      <td>0.666667</td>\n",
       "      <td>0.000000</td>\n",
       "      <td>0.000000</td>\n",
       "    </tr>\n",
       "    <tr>\n",
       "      <th>430</th>\n",
       "      <td>ABU DA BI ABA DU BA BA HAMUD! See? I’m an arab...</td>\n",
       "      <td>0.000000</td>\n",
       "      <td>0.000000</td>\n",
       "      <td>0.000000</td>\n",
       "      <td>0.285714</td>\n",
       "      <td>0.000000</td>\n",
       "      <td>0.000000</td>\n",
       "      <td>0.857143</td>\n",
       "      <td>0.000000</td>\n",
       "    </tr>\n",
       "    <tr>\n",
       "      <th>431</th>\n",
       "      <td>a homo? so you fuck your brother instead of yo...</td>\n",
       "      <td>0.000000</td>\n",
       "      <td>0.666667</td>\n",
       "      <td>0.000000</td>\n",
       "      <td>0.000000</td>\n",
       "      <td>0.000000</td>\n",
       "      <td>0.000000</td>\n",
       "      <td>0.000000</td>\n",
       "      <td>1.000000</td>\n",
       "    </tr>\n",
       "    <tr>\n",
       "      <th>432</th>\n",
       "      <td>(((They))) will be chased out of every white c...</td>\n",
       "      <td>0.333333</td>\n",
       "      <td>0.000000</td>\n",
       "      <td>0.000000</td>\n",
       "      <td>0.666667</td>\n",
       "      <td>0.000000</td>\n",
       "      <td>0.000000</td>\n",
       "      <td>0.333333</td>\n",
       "      <td>0.000000</td>\n",
       "    </tr>\n",
       "  </tbody>\n",
       "</table>\n",
       "<p>433 rows × 9 columns</p>\n",
       "</div>"
      ],
      "text/plain": [
       "                                               comment  violence  \\\n",
       "0            You should know women's sports are a joke  0.000000   \n",
       "1      You look like Sloth with deeper Down’s syndrome  0.000000   \n",
       "2    You look like Russian and speak like Indian. B...  1.000000   \n",
       "3                 Women deserve to be abused, I guess.  0.666667   \n",
       "4    Women are made for making babies and cooking d...  0.000000   \n",
       "..                                                 ...       ...   \n",
       "428  All people are fucked up because of these quee...  0.000000   \n",
       "429  Actually THIS WEIRD PEOPLE are HARMFUL! They n...  0.000000   \n",
       "430  ABU DA BI ABA DU BA BA HAMUD! See? I’m an arab...  0.000000   \n",
       "431  a homo? so you fuck your brother instead of yo...  0.000000   \n",
       "432  (((They))) will be chased out of every white c...  0.333333   \n",
       "\n",
       "     directed_vs_generalized    gender      race  national_origin  disability  \\\n",
       "0                   0.000000  1.000000  0.000000         0.000000    0.000000   \n",
       "1                   0.833333  0.000000  0.000000         0.000000    1.000000   \n",
       "2                   0.500000  0.142857  0.142857         0.714286    0.000000   \n",
       "3                   0.166667  1.000000  0.000000         0.000000    0.000000   \n",
       "4                   0.000000  1.000000  0.000000         0.000000    0.000000   \n",
       "..                       ...       ...       ...              ...         ...   \n",
       "428                 0.000000  0.571429  0.000000         0.000000    0.000000   \n",
       "429                 1.000000  0.000000  0.000000         0.333333    0.666667   \n",
       "430                 0.000000  0.000000  0.285714         0.000000    0.000000   \n",
       "431                 0.666667  0.000000  0.000000         0.000000    0.000000   \n",
       "432                 0.000000  0.000000  0.666667         0.000000    0.000000   \n",
       "\n",
       "     religion  sexual_orientation  \n",
       "0    0.000000            0.000000  \n",
       "1    0.000000            0.000000  \n",
       "2    0.000000            0.000000  \n",
       "3    0.000000            0.000000  \n",
       "4    0.000000            0.000000  \n",
       "..        ...                 ...  \n",
       "428  0.000000            0.571429  \n",
       "429  0.000000            0.000000  \n",
       "430  0.857143            0.000000  \n",
       "431  0.000000            1.000000  \n",
       "432  0.333333            0.000000  \n",
       "\n",
       "[433 rows x 9 columns]"
      ]
     },
     "execution_count": 4,
     "metadata": {},
     "output_type": "execute_result"
    }
   ],
   "source": [
    "remote_import_example_df2 = data_manager.import_data(import_type='external', source=\"https://github.com/intelligence-csd-auth-gr/Ethos-Hate-Speech-Dataset/blob/master/ethos/ethos_data/Ethos_Dataset_Multi_Label.csv\", dataset_name='EthosMLDS', overwrite=True)\n",
    "remote_import_example_df2"
   ]
  },
  {
   "cell_type": "markdown",
   "metadata": {},
   "source": [
    "# Conversion of third-party datasets:\n",
    "Since we are making use of third-party datasets, we need a means of converting the original dataset schema to a format that will utilize our labeling scheme. As such, we have implemented some functionality to facilitate this process.\n",
    "\n",
    "### Normalizing third-party datasets to a standard format for our applications:\n",
    "This function facilitates taking one or more datasets (all passed datasets that are to be normalized should maintain the same general structure so that they can be merged prior to normalization)."
   ]
  },
  {
   "cell_type": "code",
   "execution_count": 6,
   "metadata": {},
   "outputs": [
    {
     "name": "stdout",
     "output_type": "stream",
     "text": [
      "\u001b[32m2025-03-17 20:29:28.097\u001b[0m | \u001b[32m\u001b[1mSUCCESS \u001b[0m | \u001b[36mnlpinitiative.data_preparation.data_management\u001b[0m:\u001b[36mnormalize_dataset\u001b[0m:\u001b[36m199\u001b[0m - \u001b[32m\u001b[1mSuccessfully normalized dataset files [intelligence-csd-auth-gr_Ethos-Hate-Speech-Dataset_Ethos_Dataset_Binary.csv, intelligence-csd-auth-gr_Ethos-Hate-Speech-Dataset_Ethos_Dataset_Multi_Label.csv]\u001b[0m\n"
     ]
    },
    {
     "data": {
      "application/vnd.microsoft.datawrangler.viewer.v0+json": {
       "columns": [
        {
         "name": "index",
         "rawType": "int64",
         "type": "integer"
        },
        {
         "name": "TEXT",
         "rawType": "object",
         "type": "string"
        },
        {
         "name": "DISCRIMINATORY",
         "rawType": "Int64",
         "type": "integer"
        },
        {
         "name": "GENDER",
         "rawType": "float64",
         "type": "float"
        },
        {
         "name": "RACE",
         "rawType": "float64",
         "type": "float"
        },
        {
         "name": "SEXUALITY",
         "rawType": "float64",
         "type": "float"
        },
        {
         "name": "DISABILITY",
         "rawType": "float64",
         "type": "float"
        },
        {
         "name": "RELIGION",
         "rawType": "float64",
         "type": "float"
        },
        {
         "name": "UNSPECIFIED",
         "rawType": "float64",
         "type": "float"
        }
       ],
       "conversionMethod": "pd.DataFrame",
       "ref": "960e4b6d-11dc-4c3a-9921-b736cf52309e",
       "rows": [
        [
         "0",
         "You should know women's sports are a joke",
         "1",
         "1.0",
         "0.0",
         "0.0",
         "0.0",
         "0.0",
         "0.0"
        ],
        [
         "1",
         "You look like Sloth with deeper Down’s syndrome",
         "1",
         "0.0",
         "0.0",
         "0.0",
         "1.0",
         "0.0",
         "0.0"
        ],
        [
         "2",
         "You look like Russian and speak like Indian. Both are disgusting go kill yourself",
         "1",
         "0.142857143",
         "0.8571428569999999",
         "0.0",
         "0.0",
         "0.0",
         "0.0"
        ],
        [
         "3",
         "Women deserve to be abused, I guess.",
         "1",
         "1.0",
         "0.0",
         "0.0",
         "0.0",
         "0.0",
         "0.0"
        ],
        [
         "4",
         "Women are made for making babies and cooking dinner and nothing else!!!",
         "1",
         "1.0",
         "0.0",
         "0.0",
         "0.0",
         "0.0",
         "0.0"
        ],
        [
         "5",
         "why haven't you faggots taken the bi-pill yet",
         "1",
         "0.0",
         "0.0",
         "1.0",
         "0.0",
         "0.0",
         "0.0"
        ],
        [
         "6",
         "Why don’t you go beck your god to murder you? Christianity is a joke",
         "1",
         "0.0",
         "0.0",
         "0.0",
         "0.0",
         "1.0",
         "0.0"
        ],
        [
         "7",
         "why does that african american monkey hold gun like that?",
         "1",
         "0.0",
         "1.0",
         "0.0",
         "0.0",
         "0.0",
         "0.0"
        ],
        [
         "8",
         "Why does Bulgaria exist as a country? It's one of those homosexual ones.",
         "1",
         "0.0",
         "0.428571429",
         "0.571428571",
         "0.0",
         "0.0",
         "0.0"
        ],
        [
         "9",
         "Why do negroes tear down their own neighborhoods when a black thug gets killed by law enforcement? Must be because of low IQ.",
         "1",
         "0.0",
         "1.0",
         "0.0",
         "0.0",
         "0.0",
         "0.0"
        ],
        [
         "10",
         "who gives aa fuck about shit diamonds from the jews fuck them both",
         "1",
         "0.0",
         "0.25",
         "0.0",
         "0.0",
         "0.75",
         "0.0"
        ],
        [
         "11",
         "Who do you think you are cunt? wtf! Stay steady to aim for head little christian rat",
         "1",
         "0.0",
         "0.0",
         "0.0",
         "0.0",
         "1.0",
         "0.0"
        ],
        [
         "12",
         "white people are shit human beings",
         "1",
         "0.0",
         "1.0",
         "0.0",
         "0.0",
         "0.0",
         "0.0"
        ],
        [
         "13",
         "what happened in the good old days when these freaks did not exist ? which sewer have these freaks dragged themselves out of ? its just a manufactured group of freaks who want to cut their cocks off and take it up the arse in the hope that the world will treat them as woman . it takes more than that to be a woman . stop pandering to these twats .",
         "1",
         "0.25",
         "0.0",
         "0.75",
         "0.0",
         "0.0",
         "0.0"
        ],
        [
         "14",
         "What about a global massacre of men? Pussiezzz only girls",
         "1",
         "1.0",
         "0.0",
         "0.0",
         "0.0",
         "0.0",
         "0.0"
        ],
        [
         "15",
         "what a disgusting man and disgusting religion. He admits that muslim buy all their wifes ! .pff...This is why all muslims are poor...islam keeps them stupid !",
         "1",
         "0.2",
         "0.2",
         "0.0",
         "0.0",
         "0.6",
         "0.0"
        ],
        [
         "16",
         "well it's clear now why europeans can't differ niggers and shitskins from human",
         "1",
         "0.0",
         "1.0",
         "0.0",
         "0.0",
         "0.0",
         "0.0"
        ],
        [
         "17",
         "Well im glad that i live in Serbia, migrants and islamists are not welcome here!",
         "1",
         "0.0",
         "0.5",
         "0.0",
         "0.0",
         "0.5",
         "0.0"
        ],
        [
         "18",
         "Well done Slovakia and god bless. DO NOT build mosques, or allow or recognise Islam. They will get the point that EUROPE don't want Muslims here.",
         "1",
         "0.0",
         "0.25",
         "0.0",
         "0.0",
         "0.75",
         "0.0"
        ],
        [
         "19",
         "We whites have higher IQ's than blacks, this is because IQ measures intelligence and we are the more evolved and superior race with a larger brain. ",
         "1",
         "0.0",
         "1.0",
         "0.0",
         "0.0",
         "0.0",
         "0.0"
        ],
        [
         "20",
         "we take everyone, sudanese niggers, egyptian shitskins, palirats, syrian and iraqi scums, they're all dogs that behave like niggers, they cost too much, especially syrians, there is way too many of them here, they are arrogant ungrateful backstabbing apes.",
         "1",
         "0.1",
         "0.9",
         "0.0",
         "0.0",
         "0.0",
         "0.0"
        ],
        [
         "21",
         "WE NEED THE NAZI PARTY TO RETURN.....GET ANOTHER HITLER...AND FORM THE SS....AND START AN ETHNIC CLEANSING OF ALL MUSLIMS...YES YES..GATHER THEM UP...PUT THEM IN A CONCENTRATION CAMP...THEN PUT THESE MUSLIM REFUGEES ON A SHIP AND SEND THEM ALL BACK TO THIER OWN COUNTRIES ....AND THEY CAN DO AS THEY WANT THERE...LIVE THIER WAYS AND BY THIER RIDICULOUS LAWS.... THEY DON√¢¬Ä¬ôT ASSIMILATE TO THE NEW WESTERN COUNTRIES..AND TRY TO DICTATE TO US WHAT TO DO AND TO EVEN REMOVE JESUS FROM SCHOOLS AND OTHER PUBLIC AREAS...ARE YOU FUCKING SERIOUS...FUCK OFF YOU DIRTY SMELLING MUSLIMS... STOP DICTATING WHAT WE CAN OR CANT DO IN OUR OWN COUNTRIES...√∞¬ü¬ò¬°√∞¬ü¬ò¬°√∞¬ü¬ò¬°√∞¬ü¬ò¬°√∞¬ü¬ò¬°√∞¬ü¬ò¬°√∞¬ü¬ò¬° PEOPLE POWER MUST RISE AND SAY ENOUGH IS ENOUGH...TAKE SWEDEN BACK FOR SWEDES...TAKE GREECE BACK FOR GREEKS..TAKE GERMANY BACK..TAKE POLAND BACK..TAKE DENMARK BACK...SAVE OUR COUNTRIES....AND TAKE EUROPE BACK. INTRODUCE AN...SS...STYLE POLICE...AND CLEAN UP THESE STREETS AND GHETTOS....FULL OF DIRTY MUSLIMS...ITS THE GOVERNMENTS FAULT FOR ALLOWING THS SHIT TO HAPPEN....SEND THE MILITARY IN..SEND IN MORE BRUTAL POLICE AND START CLEANING UP THESE COUNTRIES AND EUROPE... MUSLIMS ARE INVADING EUROPE AND WE ARE ALLOWING THIS TO HAPPEN. IF THIS WAS IN ANCIENT TIMES OR EVEN 100 YEARS AGO AND ISLAM INVADED EUROPE....IT WOULD BE AN ALL OUT WAR. BRING BACK THE CRUSADERS AND AN ...√¢¬Ä¬ò SS √¢¬Ä¬ò...STYLE NAZI POLICE.  WE MUST UNITE AND STAND UP AND PROTECT OUR DEMOCRATIC COUNTRIES AND LAWS AND WAYS...AND ELIMINATE ISLAM AND THROW THESE DIRTY  SMELLING MUSLIM...ANIMALS OUT AND SEND THEM BACK TO THEIR OWN COUNTRIES AND THEY CAN LIVE AS THEY WISH..THEY CAN FUCK THEIR GOATS AND RAPE THEIR OWN WOMEN..  FUCKING DISGUSTING MUSLIMS...LOW LIFE DIRTY RACE...AND ISLAM IS NIT GODS RELIGION...ITS A CULT..ITS A RIDICULOUS UNETHICAL AND IMORAL CULT..! √∞¬ü¬ò¬à√∞¬ü¬ò¬à ...ITS SATINS WORK..SATINS PREACHINGS.   GOD..THE CREATOR OF THE UNIVERSE....DOES NOT PREACH TO KILL INFIDELS AND KILL NON BELIEVERS... AND TO HAVE 3...4...5 WIVES AND COMMIT PEDOPHILIA..AND MARRY 9 YEAR OLD LITTLE GIRLS..!  MUSLIMS....WHO HAVE NEVER CONTRIBUTED TO HUMANITY....NEVER INVENTED ANYTHING ....NOTHING POSITIVE COMES FROM ISLAM...THEY CREATED NOTHING..INVENTED NOTHING...CONTRIBUTED NOTHING TO THE HUMAN RACE.... MUSLIMS, JUST LIVE IN OUR WESTERN DEMOCRATIC COUNTRIES...ENJOY OUR WAYS ..MILK THE WELFARE SYSTEM...AND RUIN THESE COUNTRIES...CREATE PROBLEMS...FIGHT...STEAL AND CREATE CRIME...SCARE PEOPLE...TR6 TO CHAGE OUR WESTERN WAY OF LIFE AND EVEN RAPE OUR WOMEN..  FUCK THESE COCKSUCKERS...BURN THEM ALL...IMPALE THEM...WE MUST FIGHT BACK AND UNITE AND CLEAN EUROPE UP AGAIN. SOON GOD WILL SEND HIS TRUE MESSENGER....TO PLANET EARTH √∞¬ü¬å¬è...GOD WILL SEND A CLEAR MESSAGE ...TO HUMANITY AND THE MUSLIM PEOPLE ...WILL FEEL THE WRATH OF GOD AND SUFFER THE CONSEQUENCES....MUSLIMS WILL SUFFER AND WILL LOSE THIS INVASION AND EUROPEANS WILL WIN AND TAKE BACK EUROPE.. This is the beginning of the new CRUSADES...Christianity vs Islam...the crusaders against Islam and we need to fight and protect our way of life and Democratic society..√∞¬ü¬á¬™√∞¬ü¬á¬∫√∞¬ü¬á¬™√∞¬ü¬á¬∫√∞¬ü¬á¬™√∞¬ü¬á¬∫√∞¬ü¬á¬™√∞¬ü¬á¬∫√∞¬ü¬á¬™√∞¬ü¬á¬∫√∞¬ü¬á¬™√∞¬ü¬á¬∫√∞¬ü¬á¬™√∞¬ü¬á¬∫√∞¬ü¬á¬™√∞¬ü¬á¬∫√¢¬ö¬î√Ø¬∏¬è√¢¬ö¬î√Ø¬∏¬è√¢¬ö¬î√Ø¬∏¬è√¢¬ö¬î√Ø¬∏¬è√¢¬ö¬î√Ø¬∏¬è√¢¬ö¬î√Ø¬∏¬è√∞¬ü¬ó¬°√∞¬ü¬ó¬°√∞¬ü¬ó¬°√∞¬ü¬ó¬°",
         "1",
         "0.0",
         "0.428571429",
         "0.0",
         "0.0",
         "0.571428571",
         "0.0"
        ],
        [
         "22",
         "We men enjoy the reproductive rights of paying for your abortion, the right to fund planned parenthood, the right to overpay on Obama care to fund contraception for promiscuous sluts. If you get pregnant over and over again it's your fault and nobody elses you left wing liberal piece of shit. Go be a whore. Keep spreading disease. Half of all black women have herpes. And we have the right to pay for it. You are outrageous.",
         "1",
         "0.571428571",
         "0.428571429",
         "0.0",
         "0.0",
         "0.0",
         "0.0"
        ],
        [
         "23",
         "Watching this kid trying to step up and walk with that crutches is the best thing in the world. So idiot",
         "1",
         "0.142857143",
         "0.0",
         "0.0",
         "0.857142857",
         "0.0",
         "0.0"
        ],
        [
         "24",
         "U SUCK SHIT YOU BLACK FUCK",
         "1",
         "0.0",
         "1.0",
         "0.0",
         "0.0",
         "0.0",
         "0.0"
        ],
        [
         "25",
         "transgenders need help...they are sick in the head. Civilization has messed up the world. Soon enough, people will claim to have the right to change to animals and it will be seen as human rights or right to choose",
         "1",
         "0.25",
         "0.0",
         "0.75",
         "0.0",
         "0.0",
         "0.0"
        ],
        [
         "26",
         "Trans are using the same logic feminists have been using for decades to destroy men so i don&#39t feel sorry for wamen not one bit!",
         "1",
         "0.333333333",
         "0.0",
         "0.666666667",
         "0.0",
         "0.0",
         "0.0"
        ],
        [
         "27",
         "Time to nuke China or Unleash a plague.",
         "1",
         "0.04",
         "0.96",
         "0.0",
         "0.0",
         "0.0",
         "0.0"
        ],
        [
         "28",
         "Throwing stones to paraplegic kids is my favourite hobby",
         "1",
         "0.0",
         "0.0",
         "0.0",
         "1.0",
         "0.0",
         "0.0"
        ],
        [
         "29",
         "this was shit the guy should of boxed his head off and thrown him through the top window,fuck peoado muhamed and islam",
         "1",
         "0.0",
         "0.25",
         "0.0",
         "0.0",
         "0.75",
         "0.0"
        ],
        [
         "30",
         "This sick, disgusting, white terrorist/fascist killed more than 50 innocent people.",
         "1",
         "0.142857143",
         "0.714285714",
         "0.0",
         "0.142857143",
         "0.0",
         "0.0"
        ],
        [
         "32",
         "This Korean bitch is like a pig. That’s how they made an army of sumos there in their shithole country",
         "1",
         "0.0",
         "1.0",
         "0.0",
         "0.0",
         "0.0",
         "0.0"
        ],
        [
         "33",
         "This is so sinful. It says it in the bible you dumb fucktards. Stop saying YOU WILL GO TO HEAVEN IF YOU ARE GAY. because you will not go to heaven. Trust me its a fucking choice my GF dated girls and I was her 2nd bf she dated like 12 girls and she is 100% straight. You can change to the right side :)",
         "1",
         "0.0",
         "0.0",
         "1.0",
         "0.0",
         "0.0",
         "0.0"
        ],
        [
         "34",
         "This is exactly how I feel like when I see a tranny like this disgusting af",
         "1",
         "0.0",
         "0.0",
         "1.0",
         "0.0",
         "0.0",
         "0.0"
        ],
        [
         "35",
         "This is considered WHITE in Sweden. No wonder they accepted all those black and muslim immigrants. They are literally color blind.",
         "1",
         "0.0",
         "0.75",
         "0.0",
         "0.0",
         "0.25",
         "0.0"
        ],
        [
         "36",
         "This homo faggot Spike Lee wore this at the Flopscers. Notice the blatant subliminal messages.",
         "1",
         "0.0",
         "0.0",
         "1.0",
         "0.0",
         "0.0",
         "0.0"
        ],
        [
         "37",
         "This fcking jew wants money? I’ll give him only my dick if he wants",
         "1",
         "0.0",
         "0.333333334",
         "0.0",
         "0.0",
         "0.666666667",
         "0.0"
        ],
        [
         "38",
         "They are insolent parasites and always have been. I bear no ill will to Christ, but the jewish race itself is a plague.",
         "1",
         "0.0",
         "0.2",
         "0.0",
         "0.0",
         "0.8",
         "0.0"
        ],
        [
         "39",
         "These women aren't autistic, they are smart, autistic people are retards, they make weird noises, they flap their hands. These people are not autistic.",
         "1",
         "0.166666667",
         "0.0",
         "0.0",
         "0.833333333",
         "0.0",
         "0.0"
        ],
        [
         "40",
         "These people are fucking animals they will never change. Our cultures are simply not compatible. There is definitely a rape culture and it√¢¬Ä¬ôs right here with Islam.",
         "1",
         "0.0",
         "0.0",
         "0.0",
         "0.0",
         "1.0",
         "0.0"
        ],
        [
         "41",
         "There is clearly written in Quran Person who not follow Quran is called kafir and.. Kill them you will get 72 hours Islam Is Terrorism",
         "1",
         "0.0",
         "0.0",
         "0.0",
         "0.0",
         "1.0",
         "0.0"
        ],
        [
         "42",
         "The world would be better without white people because they stole from the black Egyptians in the before christ ages they was poor we wasnt whites  ruins everything for black people/White people have pig dicks and no shape no hips or no booty they have to get plastic surgery as us blacks get it from our mother whites brought skin cancer to america so learn some facts before you try to run us out america when we was here before yall racist ass smelly crackers and dont say you will beat my ass because you cant and if you wanna find out drop your adress√∞¬ü¬Ü¬ó√Ø¬∏¬è√∞¬ü¬í¬Ø√∞¬ü¬ô¬Ç",
         "1",
         "0.333333333",
         "0.666666667",
         "0.0",
         "0.0",
         "0.0",
         "0.0"
        ],
        [
         "44",
         "The only thing more repulsive than a nigger is a nigger faggot. Self-hating whites shower images of cross-dressed niggers with praise because the modern left fetishizes all forms of depravity.",
         "1",
         "0.0",
         "0.6",
         "0.4",
         "0.0",
         "0.0",
         "0.0"
        ],
        [
         "45",
         "The men are turtles...idiots even in uk… get lost",
         "1",
         "0.857142857",
         "0.142857143",
         "0.0",
         "0.0",
         "0.0",
         "0.0"
        ],
        [
         "46",
         "The guy should feel shame to be gay. It is such a wrong choice. Bad influence on young people. Never seen being proud of being gay. It is like saying being proud of rapist. Awful !  The only time I am so disappointed at Trump. Under political pressure, he failed to stand up for the ground, the right thing !",
         "1",
         "0.0",
         "0.0",
         "1.0",
         "0.0",
         "0.0",
         "0.0"
        ],
        [
         "47",
         "That girl still need a good ass whooping, stupid ass bitch!!",
         "1",
         "1.0",
         "0.0",
         "0.0",
         "0.0",
         "0.0",
         "0.0"
        ],
        [
         "48",
         "That fucking black cunt gets fucking cross hairs on the fucking head! Look I owe not shit to anyone who dosent owe me!!! LOOK WHORE!! FUCK YOU TO DEATH!!! 11 PERCENTILE AND FALLING!! WHORE BLACK RACIST WHORE! TAKE THE RED PILL!",
         "1",
         "0.142857143",
         "0.857142857",
         "0.0",
         "0.0",
         "0.0",
         "0.0"
        ],
        [
         "49",
         "Teaching my kids transgenders are anything but mentally ill will get you set on fire.",
         "1",
         "0.166666667",
         "0.0",
         "0.5",
         "0.333333333",
         "0.0",
         "0.0"
        ],
        [
         "50",
         "Taliban and all people with this thought must hanged",
         "1",
         "0.0",
         "0.833333333",
         "0.0",
         "0.0",
         "0.166666667",
         "0.0"
        ],
        [
         "51",
         "Surprised that the burqa is banned in Belgium, but not in Poland where they are is much more looked-down upon. Kill them",
         "1",
         "0.0",
         "0.5",
         "0.0",
         "0.0",
         "0.5",
         "0.0"
        ]
       ],
       "shape": {
        "columns": 8,
        "rows": 764
       }
      },
      "text/html": [
       "<div>\n",
       "<style scoped>\n",
       "    .dataframe tbody tr th:only-of-type {\n",
       "        vertical-align: middle;\n",
       "    }\n",
       "\n",
       "    .dataframe tbody tr th {\n",
       "        vertical-align: top;\n",
       "    }\n",
       "\n",
       "    .dataframe thead th {\n",
       "        text-align: right;\n",
       "    }\n",
       "</style>\n",
       "<table border=\"1\" class=\"dataframe\">\n",
       "  <thead>\n",
       "    <tr style=\"text-align: right;\">\n",
       "      <th></th>\n",
       "      <th>TEXT</th>\n",
       "      <th>DISCRIMINATORY</th>\n",
       "      <th>GENDER</th>\n",
       "      <th>RACE</th>\n",
       "      <th>SEXUALITY</th>\n",
       "      <th>DISABILITY</th>\n",
       "      <th>RELIGION</th>\n",
       "      <th>UNSPECIFIED</th>\n",
       "    </tr>\n",
       "  </thead>\n",
       "  <tbody>\n",
       "    <tr>\n",
       "      <th>0</th>\n",
       "      <td>You should know women's sports are a joke</td>\n",
       "      <td>1</td>\n",
       "      <td>1.000000</td>\n",
       "      <td>0.000000</td>\n",
       "      <td>0.0</td>\n",
       "      <td>0.0</td>\n",
       "      <td>0.0</td>\n",
       "      <td>0.0</td>\n",
       "    </tr>\n",
       "    <tr>\n",
       "      <th>1</th>\n",
       "      <td>You look like Sloth with deeper Down’s syndrome</td>\n",
       "      <td>1</td>\n",
       "      <td>0.000000</td>\n",
       "      <td>0.000000</td>\n",
       "      <td>0.0</td>\n",
       "      <td>1.0</td>\n",
       "      <td>0.0</td>\n",
       "      <td>0.0</td>\n",
       "    </tr>\n",
       "    <tr>\n",
       "      <th>2</th>\n",
       "      <td>You look like Russian and speak like Indian. B...</td>\n",
       "      <td>1</td>\n",
       "      <td>0.142857</td>\n",
       "      <td>0.857143</td>\n",
       "      <td>0.0</td>\n",
       "      <td>0.0</td>\n",
       "      <td>0.0</td>\n",
       "      <td>0.0</td>\n",
       "    </tr>\n",
       "    <tr>\n",
       "      <th>3</th>\n",
       "      <td>Women deserve to be abused, I guess.</td>\n",
       "      <td>1</td>\n",
       "      <td>1.000000</td>\n",
       "      <td>0.000000</td>\n",
       "      <td>0.0</td>\n",
       "      <td>0.0</td>\n",
       "      <td>0.0</td>\n",
       "      <td>0.0</td>\n",
       "    </tr>\n",
       "    <tr>\n",
       "      <th>4</th>\n",
       "      <td>Women are made for making babies and cooking d...</td>\n",
       "      <td>1</td>\n",
       "      <td>1.000000</td>\n",
       "      <td>0.000000</td>\n",
       "      <td>0.0</td>\n",
       "      <td>0.0</td>\n",
       "      <td>0.0</td>\n",
       "      <td>0.0</td>\n",
       "    </tr>\n",
       "    <tr>\n",
       "      <th>...</th>\n",
       "      <td>...</td>\n",
       "      <td>...</td>\n",
       "      <td>...</td>\n",
       "      <td>...</td>\n",
       "      <td>...</td>\n",
       "      <td>...</td>\n",
       "      <td>...</td>\n",
       "      <td>...</td>\n",
       "    </tr>\n",
       "    <tr>\n",
       "      <th>993</th>\n",
       "      <td>From the midnight sun where the hot springs blow</td>\n",
       "      <td>0</td>\n",
       "      <td>0.000000</td>\n",
       "      <td>0.000000</td>\n",
       "      <td>0.0</td>\n",
       "      <td>0.0</td>\n",
       "      <td>0.0</td>\n",
       "      <td>0.0</td>\n",
       "    </tr>\n",
       "    <tr>\n",
       "      <th>994</th>\n",
       "      <td>Don't say I'm not your type</td>\n",
       "      <td>0</td>\n",
       "      <td>0.000000</td>\n",
       "      <td>0.000000</td>\n",
       "      <td>0.0</td>\n",
       "      <td>0.0</td>\n",
       "      <td>0.0</td>\n",
       "      <td>0.0</td>\n",
       "    </tr>\n",
       "    <tr>\n",
       "      <th>995</th>\n",
       "      <td>And therefore never send to know for whom the...</td>\n",
       "      <td>0</td>\n",
       "      <td>0.000000</td>\n",
       "      <td>0.000000</td>\n",
       "      <td>0.0</td>\n",
       "      <td>0.0</td>\n",
       "      <td>0.0</td>\n",
       "      <td>0.0</td>\n",
       "    </tr>\n",
       "    <tr>\n",
       "      <th>996</th>\n",
       "      <td>And I can't stand another day</td>\n",
       "      <td>0</td>\n",
       "      <td>0.000000</td>\n",
       "      <td>0.000000</td>\n",
       "      <td>0.0</td>\n",
       "      <td>0.0</td>\n",
       "      <td>0.0</td>\n",
       "      <td>0.0</td>\n",
       "    </tr>\n",
       "    <tr>\n",
       "      <th>997</th>\n",
       "      <td>All values, unless otherwise stated, are in U...</td>\n",
       "      <td>0</td>\n",
       "      <td>0.000000</td>\n",
       "      <td>0.000000</td>\n",
       "      <td>0.0</td>\n",
       "      <td>0.0</td>\n",
       "      <td>0.0</td>\n",
       "      <td>0.0</td>\n",
       "    </tr>\n",
       "  </tbody>\n",
       "</table>\n",
       "<p>764 rows × 8 columns</p>\n",
       "</div>"
      ],
      "text/plain": [
       "                                                  TEXT  DISCRIMINATORY  \\\n",
       "0            You should know women's sports are a joke               1   \n",
       "1      You look like Sloth with deeper Down’s syndrome               1   \n",
       "2    You look like Russian and speak like Indian. B...               1   \n",
       "3                 Women deserve to be abused, I guess.               1   \n",
       "4    Women are made for making babies and cooking d...               1   \n",
       "..                                                 ...             ...   \n",
       "993   From the midnight sun where the hot springs blow               0   \n",
       "994                        Don't say I'm not your type               0   \n",
       "995   And therefore never send to know for whom the...               0   \n",
       "996                      And I can't stand another day               0   \n",
       "997   All values, unless otherwise stated, are in U...               0   \n",
       "\n",
       "       GENDER      RACE  SEXUALITY  DISABILITY  RELIGION  UNSPECIFIED  \n",
       "0    1.000000  0.000000        0.0         0.0       0.0          0.0  \n",
       "1    0.000000  0.000000        0.0         1.0       0.0          0.0  \n",
       "2    0.142857  0.857143        0.0         0.0       0.0          0.0  \n",
       "3    1.000000  0.000000        0.0         0.0       0.0          0.0  \n",
       "4    1.000000  0.000000        0.0         0.0       0.0          0.0  \n",
       "..        ...       ...        ...         ...       ...          ...  \n",
       "993  0.000000  0.000000        0.0         0.0       0.0          0.0  \n",
       "994  0.000000  0.000000        0.0         0.0       0.0          0.0  \n",
       "995  0.000000  0.000000        0.0         0.0       0.0          0.0  \n",
       "996  0.000000  0.000000        0.0         0.0       0.0          0.0  \n",
       "997  0.000000  0.000000        0.0         0.0       0.0          0.0  \n",
       "\n",
       "[764 rows x 8 columns]"
      ]
     },
     "execution_count": 6,
     "metadata": {},
     "output_type": "execute_result"
    }
   ],
   "source": [
    "files = [\n",
    "    \"intelligence-csd-auth-gr_Ethos-Hate-Speech-Dataset_Ethos_Dataset_Binary.csv\",\n",
    "    \"intelligence-csd-auth-gr_Ethos-Hate-Speech-Dataset_Ethos_Dataset_Multi_Label.csv\"\n",
    "]\n",
    "conv = \"ethos_schema_mapping.json\"\n",
    "\n",
    "normalized_dataset = data_manager.normalize_dataset(files, conv, 'ETHOS_dataset_normalized')\n",
    "normalized_dataset"
   ]
  },
  {
   "cell_type": "markdown",
   "metadata": {},
   "source": [
    "# Generating a new Master Dataset from all normalized datasets:"
   ]
  },
  {
   "cell_type": "code",
   "execution_count": 7,
   "metadata": {},
   "outputs": [],
   "source": [
    "data_manager.build_master_dataset()"
   ]
  },
  {
   "cell_type": "markdown",
   "metadata": {},
   "source": [
    "# Getting Dataset Statistics from Dataset:\n",
    "\n",
    "This can be helpful to determine if the dataset may have imbalances between categories, and can be helpful for applying weights depending on these imbalances."
   ]
  },
  {
   "cell_type": "code",
   "execution_count": 4,
   "metadata": {},
   "outputs": [
    {
     "name": "stdout",
     "output_type": "stream",
     "text": [
      "{\n",
      "    \"total_num_entries\": 764,\n",
      "    \"num_positive_discriminatory\": 410,\n",
      "    \"num_negative_discriminatory\": 354,\n",
      "    \"category_stats\": {\n",
      "        \"GENDER\": {\n",
      "            \"total_combined_value\": 88.890399637,\n",
      "            \"num_positive_rows\": 166,\n",
      "            \"num_gt_threshold\": 79,\n",
      "            \"num_rows_as_dominant_category\": 78\n",
      "        },\n",
      "        \"RACE\": {\n",
      "            \"total_combined_value\": 142.97675814500002,\n",
      "            \"num_positive_rows\": 195,\n",
      "            \"num_gt_threshold\": 143,\n",
      "            \"num_rows_as_dominant_category\": 142\n",
      "        },\n",
      "        \"SEXUALITY\": {\n",
      "            \"total_combined_value\": 65.264893717,\n",
      "            \"num_positive_rows\": 91,\n",
      "            \"num_gt_threshold\": 73,\n",
      "            \"num_rows_as_dominant_category\": 68\n",
      "        },\n",
      "        \"DISABILITY\": {\n",
      "            \"total_combined_value\": 49.644047751,\n",
      "            \"num_positive_rows\": 61,\n",
      "            \"num_gt_threshold\": 51,\n",
      "            \"num_rows_as_dominant_category\": 50\n",
      "        },\n",
      "        \"RELIGION\": {\n",
      "            \"total_combined_value\": 68.500874093,\n",
      "            \"num_positive_rows\": 92,\n",
      "            \"num_gt_threshold\": 75,\n",
      "            \"num_rows_as_dominant_category\": 72\n",
      "        },\n",
      "        \"UNSPECIFIED\": {\n",
      "            \"total_combined_value\": 0.0,\n",
      "            \"num_positive_rows\": 0,\n",
      "            \"num_gt_threshold\": 0,\n",
      "            \"num_rows_as_dominant_category\": 0\n",
      "        }\n",
      "    }\n",
      "}\n"
     ]
    }
   ],
   "source": [
    "ds_stats = data_manager.get_dataset_statistics(INTERIM_DATA_DIR / 'ETHOS_dataset_normalized.csv')\n",
    "print(json.dumps(ds_stats, indent=4))"
   ]
  }
 ],
 "metadata": {
  "kernelspec": {
   "display_name": "NLPinitiative-sAkSWYnk",
   "language": "python",
   "name": "python3"
  },
  "language_info": {
   "codemirror_mode": {
    "name": "ipython",
    "version": 3
   },
   "file_extension": ".py",
   "mimetype": "text/x-python",
   "name": "python",
   "nbconvert_exporter": "python",
   "pygments_lexer": "ipython3",
   "version": "3.12.6"
  }
 },
 "nbformat": 4,
 "nbformat_minor": 2
}
