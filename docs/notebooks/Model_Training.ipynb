{
 "cells": [
  {
   "cell_type": "markdown",
   "metadata": {},
   "source": [
    "# Model Training, Evaluation and Deployment"
   ]
  },
  {
   "cell_type": "code",
   "execution_count": 1,
   "metadata": {},
   "outputs": [
    {
     "name": "stderr",
     "output_type": "stream",
     "text": [
      "\u001b[32m2025-04-11 16:51:34.921\u001b[0m | \u001b[1mINFO    \u001b[0m | \u001b[36mnlpinitiative.config\u001b[0m:\u001b[36m<module>\u001b[0m:\u001b[36m18\u001b[0m - \u001b[1mPROJ_ROOT path is: C:\\Users\\Daniel\\Desktop\\GitHub\\NLPinitiative\u001b[0m\n",
      "\u001b[32m2025-04-11 16:51:34.922\u001b[0m | \u001b[1mINFO    \u001b[0m | \u001b[36mnlpinitiative.config\u001b[0m:\u001b[36m<module>\u001b[0m:\u001b[36m25\u001b[0m - \u001b[1mLoading pyproject.toml...\u001b[0m\n",
      "\u001b[32m2025-04-11 16:51:34.923\u001b[0m | \u001b[32m\u001b[1mSUCCESS \u001b[0m | \u001b[36mnlpinitiative.config\u001b[0m:\u001b[36m<module>\u001b[0m:\u001b[36m61\u001b[0m - \u001b[32m\u001b[1mpyproject.toml loaded successfully.\u001b[0m\n"
     ]
    }
   ],
   "source": [
    "from nlpinitiative.modeling import train\n",
    "from nlpinitiative.data_preparation.data_management import DataManager"
   ]
  },
  {
   "cell_type": "markdown",
   "metadata": {},
   "source": [
    "## Data Preparation and Preprocessing"
   ]
  },
  {
   "cell_type": "code",
   "execution_count": 2,
   "metadata": {},
   "outputs": [
    {
     "data": {
      "application/vnd.jupyter.widget-view+json": {
       "model_id": "cffd22cf9a4247a9abdf5ad803a12c79",
       "version_major": 2,
       "version_minor": 0
      },
      "text/plain": [
       "Map:   0%|          | 0/7352 [00:00<?, ? examples/s]"
      ]
     },
     "metadata": {},
     "output_type": "display_data"
    },
    {
     "data": {
      "application/vnd.jupyter.widget-view+json": {
       "model_id": "79d9b8afd7dd458cae80abeeca09fbc6",
       "version_major": 2,
       "version_minor": 0
      },
      "text/plain": [
       "Map:   0%|          | 0/3152 [00:00<?, ? examples/s]"
      ]
     },
     "metadata": {},
     "output_type": "display_data"
    },
    {
     "data": {
      "application/vnd.jupyter.widget-view+json": {
       "model_id": "cb917f2751cc4e3e9deae11d4ddb19ca",
       "version_major": 2,
       "version_minor": 0
      },
      "text/plain": [
       "Map:   0%|          | 0/7352 [00:00<?, ? examples/s]"
      ]
     },
     "metadata": {},
     "output_type": "display_data"
    },
    {
     "data": {
      "application/vnd.jupyter.widget-view+json": {
       "model_id": "ea4b2ad1f3a04b84a79da6a4e97bc673",
       "version_major": 2,
       "version_minor": 0
      },
      "text/plain": [
       "Map:   0%|          | 0/3152 [00:00<?, ? examples/s]"
      ]
     },
     "metadata": {},
     "output_type": "display_data"
    },
    {
     "data": {
      "application/vnd.jupyter.widget-view+json": {
       "model_id": "180e44d34e924d6abcf0572c9ffd0904",
       "version_major": 2,
       "version_minor": 0
      },
      "text/plain": [
       "Map:   0%|          | 0/7352 [00:00<?, ? examples/s]"
      ]
     },
     "metadata": {},
     "output_type": "display_data"
    },
    {
     "data": {
      "application/vnd.jupyter.widget-view+json": {
       "model_id": "6acfc6520ac24a8f867774673dab371a",
       "version_major": 2,
       "version_minor": 0
      },
      "text/plain": [
       "Map:   0%|          | 0/3152 [00:00<?, ? examples/s]"
      ]
     },
     "metadata": {},
     "output_type": "display_data"
    }
   ],
   "source": [
    "dm = DataManager()\n",
    "bin_data_obj, ml_data_obj = dm.prepare_and_preprocess_dataset()"
   ]
  },
  {
   "cell_type": "markdown",
   "metadata": {},
   "source": [
    "## Loading/Creating Model Objects"
   ]
  },
  {
   "cell_type": "code",
   "execution_count": 3,
   "metadata": {},
   "outputs": [
    {
     "name": "stderr",
     "output_type": "stream",
     "text": [
      "Some weights of BertForSequenceClassification were not initialized from the model checkpoint at bert-base-uncased and are newly initialized: ['classifier.bias', 'classifier.weight']\n",
      "You should probably TRAIN this model on a down-stream task to be able to use it for predictions and inference.\n",
      "Some weights of BertForSequenceClassification were not initialized from the model checkpoint at bert-base-uncased and are newly initialized: ['classifier.bias', 'classifier.weight']\n",
      "You should probably TRAIN this model on a down-stream task to be able to use it for predictions and inference.\n"
     ]
    },
    {
     "data": {
      "text/plain": [
       "BertForSequenceClassification(\n",
       "  (bert): BertModel(\n",
       "    (embeddings): BertEmbeddings(\n",
       "      (word_embeddings): Embedding(30522, 768, padding_idx=0)\n",
       "      (position_embeddings): Embedding(512, 768)\n",
       "      (token_type_embeddings): Embedding(2, 768)\n",
       "      (LayerNorm): LayerNorm((768,), eps=1e-12, elementwise_affine=True)\n",
       "      (dropout): Dropout(p=0.1, inplace=False)\n",
       "    )\n",
       "    (encoder): BertEncoder(\n",
       "      (layer): ModuleList(\n",
       "        (0-11): 12 x BertLayer(\n",
       "          (attention): BertAttention(\n",
       "            (self): BertSdpaSelfAttention(\n",
       "              (query): Linear(in_features=768, out_features=768, bias=True)\n",
       "              (key): Linear(in_features=768, out_features=768, bias=True)\n",
       "              (value): Linear(in_features=768, out_features=768, bias=True)\n",
       "              (dropout): Dropout(p=0.1, inplace=False)\n",
       "            )\n",
       "            (output): BertSelfOutput(\n",
       "              (dense): Linear(in_features=768, out_features=768, bias=True)\n",
       "              (LayerNorm): LayerNorm((768,), eps=1e-12, elementwise_affine=True)\n",
       "              (dropout): Dropout(p=0.1, inplace=False)\n",
       "            )\n",
       "          )\n",
       "          (intermediate): BertIntermediate(\n",
       "            (dense): Linear(in_features=768, out_features=3072, bias=True)\n",
       "            (intermediate_act_fn): GELUActivation()\n",
       "          )\n",
       "          (output): BertOutput(\n",
       "            (dense): Linear(in_features=3072, out_features=768, bias=True)\n",
       "            (LayerNorm): LayerNorm((768,), eps=1e-12, elementwise_affine=True)\n",
       "            (dropout): Dropout(p=0.1, inplace=False)\n",
       "          )\n",
       "        )\n",
       "      )\n",
       "    )\n",
       "    (pooler): BertPooler(\n",
       "      (dense): Linear(in_features=768, out_features=768, bias=True)\n",
       "      (activation): Tanh()\n",
       "    )\n",
       "  )\n",
       "  (dropout): Dropout(p=0.1, inplace=False)\n",
       "  (classifier): Linear(in_features=768, out_features=2, bias=True)\n",
       ")"
      ]
     },
     "execution_count": 3,
     "metadata": {},
     "output_type": "execute_result"
    }
   ],
   "source": [
    "bin_class_model = train.get_bin_model()\n",
    "ml_regress_model = train.get_ml_model()\n",
    "bin_class_model"
   ]
  },
  {
   "cell_type": "markdown",
   "metadata": {},
   "source": [
    "## Initializing Training Arguments"
   ]
  },
  {
   "cell_type": "code",
   "execution_count": 4,
   "metadata": {},
   "outputs": [
    {
     "data": {
      "text/plain": [
       "TrainingArguments(\n",
       "_n_gpu=0,\n",
       "accelerator_config={'split_batches': False, 'dispatch_batches': None, 'even_batches': True, 'use_seedable_sampler': True, 'non_blocking': False, 'gradient_accumulation_kwargs': None, 'use_configured_state': False},\n",
       "adafactor=False,\n",
       "adam_beta1=0.9,\n",
       "adam_beta2=0.999,\n",
       "adam_epsilon=1e-08,\n",
       "auto_find_batch_size=False,\n",
       "average_tokens_across_devices=False,\n",
       "batch_eval_metrics=False,\n",
       "bf16=False,\n",
       "bf16_full_eval=False,\n",
       "data_seed=None,\n",
       "dataloader_drop_last=False,\n",
       "dataloader_num_workers=0,\n",
       "dataloader_persistent_workers=False,\n",
       "dataloader_pin_memory=True,\n",
       "dataloader_prefetch_factor=None,\n",
       "ddp_backend=None,\n",
       "ddp_broadcast_buffers=None,\n",
       "ddp_bucket_cap_mb=None,\n",
       "ddp_find_unused_parameters=None,\n",
       "ddp_timeout=1800,\n",
       "debug=[],\n",
       "deepspeed=None,\n",
       "disable_tqdm=False,\n",
       "dispatch_batches=None,\n",
       "do_eval=True,\n",
       "do_predict=False,\n",
       "do_train=False,\n",
       "eval_accumulation_steps=None,\n",
       "eval_delay=0,\n",
       "eval_do_concat_batches=True,\n",
       "eval_on_start=False,\n",
       "eval_steps=500,\n",
       "eval_strategy=IntervalStrategy.STEPS,\n",
       "eval_use_gather_object=False,\n",
       "evaluation_strategy=None,\n",
       "fp16=False,\n",
       "fp16_backend=auto,\n",
       "fp16_full_eval=False,\n",
       "fp16_opt_level=O1,\n",
       "fsdp=[],\n",
       "fsdp_config={'min_num_params': 0, 'xla': False, 'xla_fsdp_v2': False, 'xla_fsdp_grad_ckpt': False},\n",
       "fsdp_min_num_params=0,\n",
       "fsdp_transformer_layer_cls_to_wrap=None,\n",
       "full_determinism=False,\n",
       "gradient_accumulation_steps=1,\n",
       "gradient_checkpointing=False,\n",
       "gradient_checkpointing_kwargs=None,\n",
       "greater_is_better=True,\n",
       "group_by_length=False,\n",
       "half_precision_backend=auto,\n",
       "hub_always_push=False,\n",
       "hub_model_id=dlsmallw/NLPinitiative-Binary-Classification,\n",
       "hub_private_repo=None,\n",
       "hub_strategy=HubStrategy.ALL_CHECKPOINTS,\n",
       "hub_token=<HUB_TOKEN>,\n",
       "ignore_data_skip=False,\n",
       "include_for_metrics=[],\n",
       "include_inputs_for_metrics=False,\n",
       "include_num_input_tokens_seen=False,\n",
       "include_tokens_per_second=False,\n",
       "jit_mode_eval=False,\n",
       "label_names=None,\n",
       "label_smoothing_factor=0.0,\n",
       "learning_rate=2e-05,\n",
       "length_column_name=length,\n",
       "load_best_model_at_end=True,\n",
       "local_rank=0,\n",
       "log_level=passive,\n",
       "log_level_replica=warning,\n",
       "log_on_each_node=True,\n",
       "logging_dir=C:\\Users\\Daniel\\Desktop\\GitHub\\NLPinitiative\\models\\dlsmallw\\NLPinitiative-Binary-Classification\\runs\\Apr11_16-51-57_DESKTOP-9BQTPM0,\n",
       "logging_first_step=False,\n",
       "logging_nan_inf_filter=True,\n",
       "logging_steps=500,\n",
       "logging_strategy=IntervalStrategy.STEPS,\n",
       "lr_scheduler_kwargs={},\n",
       "lr_scheduler_type=SchedulerType.LINEAR,\n",
       "max_grad_norm=1.0,\n",
       "max_steps=-1,\n",
       "metric_for_best_model=f1,\n",
       "mp_parameters=,\n",
       "neftune_noise_alpha=None,\n",
       "no_cuda=False,\n",
       "num_train_epochs=3,\n",
       "optim=OptimizerNames.ADAMW_TORCH,\n",
       "optim_args=None,\n",
       "optim_target_modules=None,\n",
       "output_dir=C:\\Users\\Daniel\\Desktop\\GitHub\\NLPinitiative\\models\\dlsmallw\\NLPinitiative-Binary-Classification,\n",
       "overwrite_output_dir=True,\n",
       "past_index=-1,\n",
       "per_device_eval_batch_size=8,\n",
       "per_device_train_batch_size=8,\n",
       "prediction_loss_only=False,\n",
       "push_to_hub=True,\n",
       "push_to_hub_model_id=None,\n",
       "push_to_hub_organization=None,\n",
       "push_to_hub_token=<PUSH_TO_HUB_TOKEN>,\n",
       "ray_scope=last,\n",
       "remove_unused_columns=True,\n",
       "report_to=[],\n",
       "restore_callback_states_from_checkpoint=False,\n",
       "resume_from_checkpoint=None,\n",
       "run_name=C:\\Users\\Daniel\\Desktop\\GitHub\\NLPinitiative\\models\\dlsmallw\\NLPinitiative-Binary-Classification,\n",
       "save_on_each_node=True,\n",
       "save_only_model=False,\n",
       "save_safetensors=True,\n",
       "save_steps=500,\n",
       "save_strategy=SaveStrategy.STEPS,\n",
       "save_total_limit=5,\n",
       "seed=42,\n",
       "skip_memory_metrics=True,\n",
       "split_batches=None,\n",
       "tf32=None,\n",
       "torch_compile=False,\n",
       "torch_compile_backend=None,\n",
       "torch_compile_mode=None,\n",
       "torch_empty_cache_steps=None,\n",
       "torchdynamo=None,\n",
       "tp_size=0,\n",
       "tpu_metrics_debug=False,\n",
       "tpu_num_cores=None,\n",
       "use_cpu=False,\n",
       "use_ipex=False,\n",
       "use_legacy_prediction_loop=False,\n",
       "use_liger_kernel=False,\n",
       "use_mps_device=False,\n",
       "warmup_ratio=0.0,\n",
       "warmup_steps=0,\n",
       "weight_decay=0.01,\n",
       ")"
      ]
     },
     "execution_count": 4,
     "metadata": {},
     "output_type": "execute_result"
    }
   ],
   "source": [
    "bin_targs = train.bin_train_args()\n",
    "ml_targs = train.ml_regr_train_args()\n",
    "bin_targs"
   ]
  },
  {
   "cell_type": "markdown",
   "metadata": {},
   "source": [
    "## Initializing Trainers with Metrics"
   ]
  },
  {
   "cell_type": "code",
   "execution_count": 5,
   "metadata": {},
   "outputs": [
    {
     "data": {
      "text/plain": [
       "<transformers.trainer.Trainer at 0x1f75a44b740>"
      ]
     },
     "execution_count": 5,
     "metadata": {},
     "output_type": "execute_result"
    }
   ],
   "source": [
    "bin_trainer = train.Trainer(\n",
    "    model=bin_class_model,\n",
    "    args=bin_targs,\n",
    "    processing_class=bin_data_obj.tokenizer,\n",
    "    train_dataset=bin_data_obj.encoded_dataset['train'],\n",
    "    eval_dataset=bin_data_obj.encoded_dataset['test'],\n",
    "    compute_metrics=train.compute_bin_metrics\n",
    ")\n",
    "\n",
    "ml_trainer = train.RegressionTrainer(\n",
    "    model=ml_regress_model,\n",
    "    args=ml_targs,\n",
    "    processing_class=ml_data_obj.tokenizer,\n",
    "    train_dataset=ml_data_obj.encoded_dataset['train'],\n",
    "    eval_dataset=ml_data_obj.encoded_dataset['test'],\n",
    "    compute_metrics=train.compute_reg_metrics\n",
    ")\n",
    "\n",
    "bin_trainer"
   ]
  },
  {
   "cell_type": "markdown",
   "metadata": {},
   "source": [
    "## Model Training"
   ]
  },
  {
   "cell_type": "code",
   "execution_count": 6,
   "metadata": {},
   "outputs": [
    {
     "data": {
      "text/html": [
       "\n",
       "    <div>\n",
       "      \n",
       "      <progress value='2757' max='2757' style='width:300px; height:20px; vertical-align: middle;'></progress>\n",
       "      [2757/2757 54:54, Epoch 3/3]\n",
       "    </div>\n",
       "    <table border=\"1\" class=\"dataframe\">\n",
       "  <thead>\n",
       " <tr style=\"text-align: left;\">\n",
       "      <th>Step</th>\n",
       "      <th>Training Loss</th>\n",
       "      <th>Validation Loss</th>\n",
       "      <th>Accuracy</th>\n",
       "      <th>Precision</th>\n",
       "      <th>Recall</th>\n",
       "      <th>F1</th>\n",
       "      <th>Auprc</th>\n",
       "      <th>Auroc</th>\n",
       "    </tr>\n",
       "  </thead>\n",
       "  <tbody>\n",
       "    <tr>\n",
       "      <td>500</td>\n",
       "      <td>0.281100</td>\n",
       "      <td>0.192985</td>\n",
       "      <td>0.949239</td>\n",
       "      <td>0.956434</td>\n",
       "      <td>0.937582</td>\n",
       "      <td>0.946914</td>\n",
       "      <td>0.294527</td>\n",
       "      <td>0.015547</td>\n",
       "    </tr>\n",
       "    <tr>\n",
       "      <td>1000</td>\n",
       "      <td>0.184400</td>\n",
       "      <td>0.197090</td>\n",
       "      <td>0.953046</td>\n",
       "      <td>0.950197</td>\n",
       "      <td>0.952694</td>\n",
       "      <td>0.951444</td>\n",
       "      <td>0.294393</td>\n",
       "      <td>0.013554</td>\n",
       "    </tr>\n",
       "    <tr>\n",
       "      <td>1500</td>\n",
       "      <td>0.080600</td>\n",
       "      <td>0.230765</td>\n",
       "      <td>0.956853</td>\n",
       "      <td>0.970788</td>\n",
       "      <td>0.938896</td>\n",
       "      <td>0.954576</td>\n",
       "      <td>0.294272</td>\n",
       "      <td>0.011201</td>\n",
       "    </tr>\n",
       "    <tr>\n",
       "      <td>2000</td>\n",
       "      <td>0.074300</td>\n",
       "      <td>0.223611</td>\n",
       "      <td>0.951777</td>\n",
       "      <td>0.949475</td>\n",
       "      <td>0.950723</td>\n",
       "      <td>0.950098</td>\n",
       "      <td>0.294236</td>\n",
       "      <td>0.010148</td>\n",
       "    </tr>\n",
       "    <tr>\n",
       "      <td>2500</td>\n",
       "      <td>0.025600</td>\n",
       "      <td>0.219934</td>\n",
       "      <td>0.959391</td>\n",
       "      <td>0.970310</td>\n",
       "      <td>0.944809</td>\n",
       "      <td>0.957390</td>\n",
       "      <td>0.294190</td>\n",
       "      <td>0.009661</td>\n",
       "    </tr>\n",
       "  </tbody>\n",
       "</table><p>"
      ],
      "text/plain": [
       "<IPython.core.display.HTML object>"
      ]
     },
     "metadata": {},
     "output_type": "display_data"
    },
    {
     "data": {
      "text/html": [
       "\n",
       "    <div>\n",
       "      \n",
       "      <progress value='2757' max='2757' style='width:300px; height:20px; vertical-align: middle;'></progress>\n",
       "      [2757/2757 53:53, Epoch 3/3]\n",
       "    </div>\n",
       "    <table border=\"1\" class=\"dataframe\">\n",
       "  <thead>\n",
       " <tr style=\"text-align: left;\">\n",
       "      <th>Step</th>\n",
       "      <th>Training Loss</th>\n",
       "      <th>Validation Loss</th>\n",
       "      <th>Mean Rmse</th>\n",
       "      <th>Mean Mae</th>\n",
       "      <th>Mean R2</th>\n",
       "      <th>Mean Pearson</th>\n",
       "      <th>Rmse Per Cat</th>\n",
       "      <th>Mae Per Cat</th>\n",
       "      <th>R2 Per Cat</th>\n",
       "      <th>Pearson Per Cat</th>\n",
       "    </tr>\n",
       "  </thead>\n",
       "  <tbody>\n",
       "    <tr>\n",
       "      <td>500</td>\n",
       "      <td>0.028900</td>\n",
       "      <td>0.011422</td>\n",
       "      <td>0.098107</td>\n",
       "      <td>0.046026</td>\n",
       "      <td>0.678252</td>\n",
       "      <td>0.910629</td>\n",
       "      <td>[0.11551735550165176, 0.1352391391992569, 0.10884607583284378, 0.0673733726143837, 0.1418396383523941, 0.019828785210847855]</td>\n",
       "      <td>[0.0535765178501606, 0.059359531849622726, 0.05057797580957413, 0.031064841896295547, 0.06608528643846512, 0.015492343343794346]</td>\n",
       "      <td>[0.7889423370361328, 0.8516361713409424, 0.7870068550109863, 0.8109977841377258, 0.8309295177459717, 0.0]</td>\n",
       "      <td>[0.9014391899108887, 0.923698365688324, 0.8990985155105591, 0.9024374485015869, 0.9264736175537109, nan]</td>\n",
       "    </tr>\n",
       "    <tr>\n",
       "      <td>1000</td>\n",
       "      <td>0.010800</td>\n",
       "      <td>0.008167</td>\n",
       "      <td>0.082645</td>\n",
       "      <td>0.036372</td>\n",
       "      <td>0.722576</td>\n",
       "      <td>0.936126</td>\n",
       "      <td>[0.09447590261697769, 0.13574306666851044, 0.08911412954330444, 0.05973187834024429, 0.09912225604057312, 0.01768551953136921]</td>\n",
       "      <td>[0.0379190668463707, 0.0694158673286438, 0.032430507242679596, 0.025210702791810036, 0.03987590968608856, 0.0133794154971838]</td>\n",
       "      <td>[0.8588278889656067, 0.8505284190177917, 0.8572311997413635, 0.8514397144317627, 0.9174313545227051, 0.0]</td>\n",
       "      <td>[0.9333711266517639, 0.9291742444038391, 0.9329087138175964, 0.9267426133155823, 0.9584344625473022, nan]</td>\n",
       "    </tr>\n",
       "    <tr>\n",
       "      <td>1500</td>\n",
       "      <td>0.005900</td>\n",
       "      <td>0.007028</td>\n",
       "      <td>0.076746</td>\n",
       "      <td>0.026767</td>\n",
       "      <td>0.735095</td>\n",
       "      <td>0.940190</td>\n",
       "      <td>[0.09094487875699997, 0.11315672099590302, 0.08629484474658966, 0.05684630945324898, 0.10134641826152802, 0.01188575103878975]</td>\n",
       "      <td>[0.02809344045817852, 0.039010003209114075, 0.03197040781378746, 0.01924479752779007, 0.033096104860305786, 0.00918651558458805]</td>\n",
       "      <td>[0.8691833019256592, 0.8961314558982849, 0.8661218285560608, 0.8654465675354004, 0.9136843681335449, 0.0]</td>\n",
       "      <td>[0.9324471950531006, 0.9467915296554565, 0.9339689612388611, 0.9317143559455872, 0.9560286998748779, nan]</td>\n",
       "    </tr>\n",
       "    <tr>\n",
       "      <td>2000</td>\n",
       "      <td>0.005000</td>\n",
       "      <td>0.006472</td>\n",
       "      <td>0.073058</td>\n",
       "      <td>0.025572</td>\n",
       "      <td>0.744593</td>\n",
       "      <td>0.947701</td>\n",
       "      <td>[0.08388959616422653, 0.11378183960914612, 0.08495883643627167, 0.051867734640836716, 0.09404993057250977, 0.009798564948141575]</td>\n",
       "      <td>[0.02706627920269966, 0.04395332559943199, 0.024061929434537888, 0.016889315098524094, 0.033904846757650375, 0.007554503157734871]</td>\n",
       "      <td>[0.8886928558349609, 0.8949806690216064, 0.8702350854873657, 0.8879827260971069, 0.9256656765937805, 0.0]</td>\n",
       "      <td>[0.9431683421134949, 0.9483680725097656, 0.9359709024429321, 0.9474267959594727, 0.9635722637176514, nan]</td>\n",
       "    </tr>\n",
       "    <tr>\n",
       "      <td>2500</td>\n",
       "      <td>0.003400</td>\n",
       "      <td>0.006371</td>\n",
       "      <td>0.072242</td>\n",
       "      <td>0.022720</td>\n",
       "      <td>0.747151</td>\n",
       "      <td>0.947644</td>\n",
       "      <td>[0.08463889360427856, 0.11158231645822525, 0.08321022242307663, 0.04930051788687706, 0.09579125046730042, 0.008926868438720703]</td>\n",
       "      <td>[0.025086652487516403, 0.03752453625202179, 0.02304081991314888, 0.013712005689740181, 0.030296988785266876, 0.006659933365881443]</td>\n",
       "      <td>[0.8866956233978271, 0.8990016579627991, 0.8755217790603638, 0.8987970352172852, 0.9228875637054443, 0.0]</td>\n",
       "      <td>[0.9419375658035278, 0.9502590894699097, 0.9368577599525452, 0.948063850402832, 0.9611018300056458, nan]</td>\n",
       "    </tr>\n",
       "  </tbody>\n",
       "</table><p>"
      ],
      "text/plain": [
       "<IPython.core.display.HTML object>"
      ]
     },
     "metadata": {},
     "output_type": "display_data"
    },
    {
     "data": {
      "text/html": [
       "\n",
       "    <div>\n",
       "      \n",
       "      <progress value='394' max='394' style='width:300px; height:20px; vertical-align: middle;'></progress>\n",
       "      [394/394 01:42]\n",
       "    </div>\n",
       "    "
      ],
      "text/plain": [
       "<IPython.core.display.HTML object>"
      ]
     },
     "metadata": {},
     "output_type": "display_data"
    },
    {
     "data": {
      "text/html": [
       "\n",
       "    <div>\n",
       "      \n",
       "      <progress value='394' max='394' style='width:300px; height:20px; vertical-align: middle;'></progress>\n",
       "      [394/394 01:43]\n",
       "    </div>\n",
       "    "
      ],
      "text/plain": [
       "<IPython.core.display.HTML object>"
      ]
     },
     "metadata": {},
     "output_type": "display_data"
    }
   ],
   "source": [
    "bin_eval_res, ml_eval_res = train.train(bin_trainer=bin_trainer, ml_trainer=ml_trainer)"
   ]
  }
 ],
 "metadata": {
  "kernelspec": {
   "display_name": ".venv",
   "language": "python",
   "name": "python3"
  },
  "language_info": {
   "codemirror_mode": {
    "name": "ipython",
    "version": 3
   },
   "file_extension": ".py",
   "mimetype": "text/x-python",
   "name": "python",
   "nbconvert_exporter": "python",
   "pygments_lexer": "ipython3",
   "version": "3.12.6"
  }
 },
 "nbformat": 4,
 "nbformat_minor": 2
}
