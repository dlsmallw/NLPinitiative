{
 "cells": [
  {
   "cell_type": "markdown",
   "metadata": {},
   "source": [
    "# Data Importing and Normalization"
   ]
  },
  {
   "cell_type": "code",
   "execution_count": null,
   "metadata": {},
   "outputs": [],
   "source": [
    "import json\n",
    "from nlpinitiative.data_preparation.data_management import DataManager\n",
    "from nlpinitiative.config import (\n",
    "    INTERIM_DATA_DIR,\n",
    "    RAW_DATA_DIR\n",
    ")"
   ]
  },
  {
   "cell_type": "markdown",
   "metadata": {},
   "source": [
    "## Initialization of Data Manager\n",
    "This is used for managing all dataset operations."
   ]
  },
  {
   "cell_type": "code",
   "execution_count": null,
   "metadata": {},
   "outputs": [],
   "source": [
    "data_manager = DataManager()"
   ]
  },
  {
   "cell_type": "markdown",
   "metadata": {},
   "source": [
    "## Importing third-party datasets for use in NLP model training\n",
    "\n",
    "For the purposes of this project, we are going to rely on third-party datasets to make up for a lack of personally procured data. As such, we have implemented some functionality to make this easier for future developers/data analysts.\n",
    "\n",
    "### Importing datasets from a local source (on your local system)\n",
    "For the purposes of our applications, we will consider the \"raw\" datasets to be personally produced datasets rather than those that have already been created (\"external\"). As such, importing from a local source will by default store the datasets within the data/raw directory. If the data to be imported locally is a third-party dataset, the user can change the 'tp_src' value to True, where the data will be stored within the data/external directory."
   ]
  },
  {
   "cell_type": "code",
   "execution_count": null,
   "metadata": {},
   "outputs": [],
   "source": [
    "local_import_example_df = data_manager.import_data(\n",
    "    import_type='local', \n",
    "    source=\"C:/Users/Daniel/Downloads/dataset.csv\", \n",
    "    dataset_name='TestDS', \n",
    "    is_third_party=False, \n",
    "    overwrite=True\n",
    ")\n",
    "\n",
    "# Removes unwanted dataset (used to test)\n",
    "data_manager.remove_file(filename='dataset.csv', path=RAW_DATA_DIR)\n",
    "\n",
    "local_import_example_df"
   ]
  },
  {
   "cell_type": "markdown",
   "metadata": {},
   "source": [
    "### Importing datasets from a remote/external source (by url)\n",
    "This function facillitates importing data from a given URL (primarily remote repositories like GitHub)."
   ]
  },
  {
   "cell_type": "code",
   "execution_count": null,
   "metadata": {},
   "outputs": [
    {
     "name": "stdout",
     "output_type": "stream",
     "text": [
      "\u001b[32m2025-03-19 16:45:15.721\u001b[0m | \u001b[1mINFO    \u001b[0m | \u001b[36mnlpinitiative.data_preparation.data_management\u001b[0m:\u001b[36m_format_url\u001b[0m:\u001b[36m82\u001b[0m - \u001b[1mSource url identified as GitHub URL, https://github.com/intelligence-csd-auth-gr/Ethos-Hate-Speech-Dataset/blob/master/ethos/ethos_data/Ethos_Dataset_Binary.csv\u001b[0m\n",
      "\u001b[32m2025-03-19 16:45:15.721\u001b[0m | \u001b[1mINFO    \u001b[0m | \u001b[36mnlpinitiative.data_preparation.data_management\u001b[0m:\u001b[36m_format_url\u001b[0m:\u001b[36m84\u001b[0m - \u001b[1mURL Formatted, https://raw.githubusercontent.com/intelligence-csd-auth-gr/Ethos-Hate-Speech-Dataset/refs/heads/master/ethos/ethos_data/Ethos_Dataset_Binary.csv\u001b[0m\n"
     ]
    },
    {
     "data": {
      "application/vnd.microsoft.datawrangler.viewer.v0+json": {
       "columns": [
        {
         "name": "index",
         "rawType": "int64",
         "type": "integer"
        },
        {
         "name": "comment",
         "rawType": "object",
         "type": "string"
        },
        {
         "name": "isHate",
         "rawType": "float64",
         "type": "float"
        }
       ],
       "conversionMethod": "pd.DataFrame",
       "ref": "bfa9c47e-0e4a-4282-9b28-7d954637e04c",
       "rows": [
        [
         "0",
         "You should know women's sports are a joke",
         "1.0"
        ],
        [
         "1",
         "You look like Sloth with deeper Down’s syndrome",
         "1.0"
        ],
        [
         "2",
         "You look like Russian and speak like Indian. Both are disgusting go kill yourself",
         "1.0"
        ],
        [
         "3",
         "Women deserve to be abused, I guess.",
         "1.0"
        ],
        [
         "4",
         "Women are made for making babies and cooking dinner and nothing else!!!",
         "1.0"
        ],
        [
         "5",
         "why haven't you faggots taken the bi-pill yet",
         "1.0"
        ],
        [
         "6",
         "Why don’t you go beck your god to murder you? Christianity is a joke",
         "1.0"
        ],
        [
         "7",
         "why does that african american monkey hold gun like that?",
         "1.0"
        ],
        [
         "8",
         "Why does Bulgaria exist as a country? It's one of those homosexual ones.",
         "1.0"
        ],
        [
         "9",
         "Why do negroes tear down their own neighborhoods when a black thug gets killed by law enforcement? Must be because of low IQ.",
         "1.0"
        ],
        [
         "10",
         "who gives aa fuck about shit diamonds from the jews fuck them both",
         "1.0"
        ],
        [
         "11",
         "Who do you think you are cunt? wtf! Stay steady to aim for head little christian rat",
         "1.0"
        ],
        [
         "12",
         "white people are shit human beings",
         "1.0"
        ],
        [
         "13",
         "what happened in the good old days when these freaks did not exist ? which sewer have these freaks dragged themselves out of ? its just a manufactured group of freaks who want to cut their cocks off and take it up the arse in the hope that the world will treat them as woman . it takes more than that to be a woman . stop pandering to these twats .",
         "1.0"
        ],
        [
         "14",
         "What about a global massacre of men? Pussiezzz only girls",
         "1.0"
        ],
        [
         "15",
         "what a disgusting man and disgusting religion. He admits that muslim buy all their wifes ! .pff...This is why all muslims are poor...islam keeps them stupid !",
         "1.0"
        ],
        [
         "16",
         "well it's clear now why europeans can't differ niggers and shitskins from human",
         "1.0"
        ],
        [
         "17",
         "Well im glad that i live in Serbia, migrants and islamists are not welcome here!",
         "1.0"
        ],
        [
         "18",
         "Well done Slovakia and god bless. DO NOT build mosques, or allow or recognise Islam. They will get the point that EUROPE don't want Muslims here.",
         "1.0"
        ],
        [
         "19",
         "We whites have higher IQ's than blacks, this is because IQ measures intelligence and we are the more evolved and superior race with a larger brain. ",
         "1.0"
        ],
        [
         "20",
         "we take everyone, sudanese niggers, egyptian shitskins, palirats, syrian and iraqi scums, they're all dogs that behave like niggers, they cost too much, especially syrians, there is way too many of them here, they are arrogant ungrateful backstabbing apes.",
         "1.0"
        ],
        [
         "21",
         "WE NEED THE NAZI PARTY TO RETURN.....GET ANOTHER HITLER...AND FORM THE SS....AND START AN ETHNIC CLEANSING OF ALL MUSLIMS...YES YES..GATHER THEM UP...PUT THEM IN A CONCENTRATION CAMP...THEN PUT THESE MUSLIM REFUGEES ON A SHIP AND SEND THEM ALL BACK TO THIER OWN COUNTRIES ....AND THEY CAN DO AS THEY WANT THERE...LIVE THIER WAYS AND BY THIER RIDICULOUS LAWS.... THEY DON√¢¬Ä¬ôT ASSIMILATE TO THE NEW WESTERN COUNTRIES..AND TRY TO DICTATE TO US WHAT TO DO AND TO EVEN REMOVE JESUS FROM SCHOOLS AND OTHER PUBLIC AREAS...ARE YOU FUCKING SERIOUS...FUCK OFF YOU DIRTY SMELLING MUSLIMS... STOP DICTATING WHAT WE CAN OR CANT DO IN OUR OWN COUNTRIES...√∞¬ü¬ò¬°√∞¬ü¬ò¬°√∞¬ü¬ò¬°√∞¬ü¬ò¬°√∞¬ü¬ò¬°√∞¬ü¬ò¬°√∞¬ü¬ò¬° PEOPLE POWER MUST RISE AND SAY ENOUGH IS ENOUGH...TAKE SWEDEN BACK FOR SWEDES...TAKE GREECE BACK FOR GREEKS..TAKE GERMANY BACK..TAKE POLAND BACK..TAKE DENMARK BACK...SAVE OUR COUNTRIES....AND TAKE EUROPE BACK. INTRODUCE AN...SS...STYLE POLICE...AND CLEAN UP THESE STREETS AND GHETTOS....FULL OF DIRTY MUSLIMS...ITS THE GOVERNMENTS FAULT FOR ALLOWING THS SHIT TO HAPPEN....SEND THE MILITARY IN..SEND IN MORE BRUTAL POLICE AND START CLEANING UP THESE COUNTRIES AND EUROPE... MUSLIMS ARE INVADING EUROPE AND WE ARE ALLOWING THIS TO HAPPEN. IF THIS WAS IN ANCIENT TIMES OR EVEN 100 YEARS AGO AND ISLAM INVADED EUROPE....IT WOULD BE AN ALL OUT WAR. BRING BACK THE CRUSADERS AND AN ...√¢¬Ä¬ò SS √¢¬Ä¬ò...STYLE NAZI POLICE.  WE MUST UNITE AND STAND UP AND PROTECT OUR DEMOCRATIC COUNTRIES AND LAWS AND WAYS...AND ELIMINATE ISLAM AND THROW THESE DIRTY  SMELLING MUSLIM...ANIMALS OUT AND SEND THEM BACK TO THEIR OWN COUNTRIES AND THEY CAN LIVE AS THEY WISH..THEY CAN FUCK THEIR GOATS AND RAPE THEIR OWN WOMEN..  FUCKING DISGUSTING MUSLIMS...LOW LIFE DIRTY RACE...AND ISLAM IS NIT GODS RELIGION...ITS A CULT..ITS A RIDICULOUS UNETHICAL AND IMORAL CULT..! √∞¬ü¬ò¬à√∞¬ü¬ò¬à ...ITS SATINS WORK..SATINS PREACHINGS.   GOD..THE CREATOR OF THE UNIVERSE....DOES NOT PREACH TO KILL INFIDELS AND KILL NON BELIEVERS... AND TO HAVE 3...4...5 WIVES AND COMMIT PEDOPHILIA..AND MARRY 9 YEAR OLD LITTLE GIRLS..!  MUSLIMS....WHO HAVE NEVER CONTRIBUTED TO HUMANITY....NEVER INVENTED ANYTHING ....NOTHING POSITIVE COMES FROM ISLAM...THEY CREATED NOTHING..INVENTED NOTHING...CONTRIBUTED NOTHING TO THE HUMAN RACE.... MUSLIMS, JUST LIVE IN OUR WESTERN DEMOCRATIC COUNTRIES...ENJOY OUR WAYS ..MILK THE WELFARE SYSTEM...AND RUIN THESE COUNTRIES...CREATE PROBLEMS...FIGHT...STEAL AND CREATE CRIME...SCARE PEOPLE...TR6 TO CHAGE OUR WESTERN WAY OF LIFE AND EVEN RAPE OUR WOMEN..  FUCK THESE COCKSUCKERS...BURN THEM ALL...IMPALE THEM...WE MUST FIGHT BACK AND UNITE AND CLEAN EUROPE UP AGAIN. SOON GOD WILL SEND HIS TRUE MESSENGER....TO PLANET EARTH √∞¬ü¬å¬è...GOD WILL SEND A CLEAR MESSAGE ...TO HUMANITY AND THE MUSLIM PEOPLE ...WILL FEEL THE WRATH OF GOD AND SUFFER THE CONSEQUENCES....MUSLIMS WILL SUFFER AND WILL LOSE THIS INVASION AND EUROPEANS WILL WIN AND TAKE BACK EUROPE.. This is the beginning of the new CRUSADES...Christianity vs Islam...the crusaders against Islam and we need to fight and protect our way of life and Democratic society..√∞¬ü¬á¬™√∞¬ü¬á¬∫√∞¬ü¬á¬™√∞¬ü¬á¬∫√∞¬ü¬á¬™√∞¬ü¬á¬∫√∞¬ü¬á¬™√∞¬ü¬á¬∫√∞¬ü¬á¬™√∞¬ü¬á¬∫√∞¬ü¬á¬™√∞¬ü¬á¬∫√∞¬ü¬á¬™√∞¬ü¬á¬∫√∞¬ü¬á¬™√∞¬ü¬á¬∫√¢¬ö¬î√Ø¬∏¬è√¢¬ö¬î√Ø¬∏¬è√¢¬ö¬î√Ø¬∏¬è√¢¬ö¬î√Ø¬∏¬è√¢¬ö¬î√Ø¬∏¬è√¢¬ö¬î√Ø¬∏¬è√∞¬ü¬ó¬°√∞¬ü¬ó¬°√∞¬ü¬ó¬°√∞¬ü¬ó¬°",
         "1.0"
        ],
        [
         "22",
         "We men enjoy the reproductive rights of paying for your abortion, the right to fund planned parenthood, the right to overpay on Obama care to fund contraception for promiscuous sluts. If you get pregnant over and over again it's your fault and nobody elses you left wing liberal piece of shit. Go be a whore. Keep spreading disease. Half of all black women have herpes. And we have the right to pay for it. You are outrageous.",
         "1.0"
        ],
        [
         "23",
         "Watching this kid trying to step up and walk with that crutches is the best thing in the world. So idiot",
         "1.0"
        ],
        [
         "24",
         "U SUCK SHIT YOU BLACK FUCK",
         "1.0"
        ],
        [
         "25",
         "transgenders need help...they are sick in the head. Civilization has messed up the world. Soon enough, people will claim to have the right to change to animals and it will be seen as human rights or right to choose",
         "1.0"
        ],
        [
         "26",
         "Trans are using the same logic feminists have been using for decades to destroy men so i don&#39t feel sorry for wamen not one bit!",
         "1.0"
        ],
        [
         "27",
         "Time to nuke China or Unleash a plague.",
         "1.0"
        ],
        [
         "28",
         "Throwing stones to paraplegic kids is my favourite hobby",
         "1.0"
        ],
        [
         "29",
         "this was shit the guy should of boxed his head off and thrown him through the top window,fuck peoado muhamed and islam",
         "1.0"
        ],
        [
         "30",
         "This sick, disgusting, white terrorist/fascist killed more than 50 innocent people.",
         "1.0"
        ],
        [
         "31",
         "This priest is being hated even by his stupid god. ",
         "1.0"
        ],
        [
         "32",
         "This Korean bitch is like a pig. That’s how they made an army of sumos there in their shithole country",
         "1.0"
        ],
        [
         "33",
         "This is so sinful. It says it in the bible you dumb fucktards. Stop saying YOU WILL GO TO HEAVEN IF YOU ARE GAY. because you will not go to heaven. Trust me its a fucking choice my GF dated girls and I was her 2nd bf she dated like 12 girls and she is 100% straight. You can change to the right side :)",
         "1.0"
        ],
        [
         "34",
         "This is exactly how I feel like when I see a tranny like this disgusting af",
         "1.0"
        ],
        [
         "35",
         "This is considered WHITE in Sweden. No wonder they accepted all those black and muslim immigrants. They are literally color blind.",
         "1.0"
        ],
        [
         "36",
         "This homo faggot Spike Lee wore this at the Flopscers. Notice the blatant subliminal messages.",
         "1.0"
        ],
        [
         "37",
         "This fcking jew wants money? I’ll give him only my dick if he wants",
         "1.0"
        ],
        [
         "38",
         "They are insolent parasites and always have been. I bear no ill will to Christ, but the jewish race itself is a plague.",
         "1.0"
        ],
        [
         "39",
         "These women aren't autistic, they are smart, autistic people are retards, they make weird noises, they flap their hands. These people are not autistic.",
         "1.0"
        ],
        [
         "40",
         "These people are fucking animals they will never change. Our cultures are simply not compatible. There is definitely a rape culture and it√¢¬Ä¬ôs right here with Islam.",
         "1.0"
        ],
        [
         "41",
         "There is clearly written in Quran Person who not follow Quran is called kafir and.. Kill them you will get 72 hours Islam Is Terrorism",
         "1.0"
        ],
        [
         "42",
         "The world would be better without white people because they stole from the black Egyptians in the before christ ages they was poor we wasnt whites  ruins everything for black people/White people have pig dicks and no shape no hips or no booty they have to get plastic surgery as us blacks get it from our mother whites brought skin cancer to america so learn some facts before you try to run us out america when we was here before yall racist ass smelly crackers and dont say you will beat my ass because you cant and if you wanna find out drop your adress√∞¬ü¬Ü¬ó√Ø¬∏¬è√∞¬ü¬í¬Ø√∞¬ü¬ô¬Ç",
         "1.0"
        ],
        [
         "43",
         "The reason you see Indians bashing Muslims and Islam here because Hindu supremacists hate Islam and Muslims. Atrocities in Kashmir, cow lynching of Muslims, gang rapes of Muslims children, have you not read or heard about them?  This should be clear for all Muslims across the world that India is not a friend of Islam or Muslims, and behind the disguise of secularism, they hate Muslims. All Arab, Muslim countries and their residents should see and understand this ugly face of racist Hindus. They are the overwhelming majority in India and number of votes cast to BJP-RSS party is a proof . It amazes me that Saudi Arabia and other gulf countries are spending billions on India and not seeing that how much they hate Islam and Muslims? Particularly Arabs, wake up. If you canât understand this now then when or what will make you? Let all Muslims be united and boycott Indian products, their restaurants and movies, until they stop killing Muslims in Kashmir and the rest of India, and make a law to stop anti Muslim hate and racism.",
         "1.0"
        ],
        [
         "44",
         "The only thing more repulsive than a nigger is a nigger faggot. Self-hating whites shower images of cross-dressed niggers with praise because the modern left fetishizes all forms of depravity.",
         "1.0"
        ],
        [
         "45",
         "The men are turtles...idiots even in uk… get lost",
         "1.0"
        ],
        [
         "46",
         "The guy should feel shame to be gay. It is such a wrong choice. Bad influence on young people. Never seen being proud of being gay. It is like saying being proud of rapist. Awful !  The only time I am so disappointed at Trump. Under political pressure, he failed to stand up for the ground, the right thing !",
         "1.0"
        ],
        [
         "47",
         "That girl still need a good ass whooping, stupid ass bitch!!",
         "1.0"
        ],
        [
         "48",
         "That fucking black cunt gets fucking cross hairs on the fucking head! Look I owe not shit to anyone who dosent owe me!!! LOOK WHORE!! FUCK YOU TO DEATH!!! 11 PERCENTILE AND FALLING!! WHORE BLACK RACIST WHORE! TAKE THE RED PILL!",
         "1.0"
        ],
        [
         "49",
         "Teaching my kids transgenders are anything but mentally ill will get you set on fire.",
         "1.0"
        ]
       ],
       "shape": {
        "columns": 2,
        "rows": 998
       }
      },
      "text/html": [
       "<div>\n",
       "<style scoped>\n",
       "    .dataframe tbody tr th:only-of-type {\n",
       "        vertical-align: middle;\n",
       "    }\n",
       "\n",
       "    .dataframe tbody tr th {\n",
       "        vertical-align: top;\n",
       "    }\n",
       "\n",
       "    .dataframe thead th {\n",
       "        text-align: right;\n",
       "    }\n",
       "</style>\n",
       "<table border=\"1\" class=\"dataframe\">\n",
       "  <thead>\n",
       "    <tr style=\"text-align: right;\">\n",
       "      <th></th>\n",
       "      <th>comment</th>\n",
       "      <th>isHate</th>\n",
       "    </tr>\n",
       "  </thead>\n",
       "  <tbody>\n",
       "    <tr>\n",
       "      <th>0</th>\n",
       "      <td>You should know women's sports are a joke</td>\n",
       "      <td>1.0</td>\n",
       "    </tr>\n",
       "    <tr>\n",
       "      <th>1</th>\n",
       "      <td>You look like Sloth with deeper Down’s syndrome</td>\n",
       "      <td>1.0</td>\n",
       "    </tr>\n",
       "    <tr>\n",
       "      <th>2</th>\n",
       "      <td>You look like Russian and speak like Indian. B...</td>\n",
       "      <td>1.0</td>\n",
       "    </tr>\n",
       "    <tr>\n",
       "      <th>3</th>\n",
       "      <td>Women deserve to be abused, I guess.</td>\n",
       "      <td>1.0</td>\n",
       "    </tr>\n",
       "    <tr>\n",
       "      <th>4</th>\n",
       "      <td>Women are made for making babies and cooking d...</td>\n",
       "      <td>1.0</td>\n",
       "    </tr>\n",
       "    <tr>\n",
       "      <th>...</th>\n",
       "      <td>...</td>\n",
       "      <td>...</td>\n",
       "    </tr>\n",
       "    <tr>\n",
       "      <th>993</th>\n",
       "      <td>From the midnight sun where the hot springs blow</td>\n",
       "      <td>0.0</td>\n",
       "    </tr>\n",
       "    <tr>\n",
       "      <th>994</th>\n",
       "      <td>Don't say I'm not your type</td>\n",
       "      <td>0.0</td>\n",
       "    </tr>\n",
       "    <tr>\n",
       "      <th>995</th>\n",
       "      <td>And therefore never send to know for whom the...</td>\n",
       "      <td>0.0</td>\n",
       "    </tr>\n",
       "    <tr>\n",
       "      <th>996</th>\n",
       "      <td>And I can't stand another day</td>\n",
       "      <td>0.0</td>\n",
       "    </tr>\n",
       "    <tr>\n",
       "      <th>997</th>\n",
       "      <td>All values, unless otherwise stated, are in U...</td>\n",
       "      <td>0.0</td>\n",
       "    </tr>\n",
       "  </tbody>\n",
       "</table>\n",
       "<p>998 rows × 2 columns</p>\n",
       "</div>"
      ],
      "text/plain": [
       "                                               comment  isHate\n",
       "0            You should know women's sports are a joke     1.0\n",
       "1      You look like Sloth with deeper Down’s syndrome     1.0\n",
       "2    You look like Russian and speak like Indian. B...     1.0\n",
       "3                 Women deserve to be abused, I guess.     1.0\n",
       "4    Women are made for making babies and cooking d...     1.0\n",
       "..                                                 ...     ...\n",
       "993   From the midnight sun where the hot springs blow     0.0\n",
       "994                        Don't say I'm not your type     0.0\n",
       "995   And therefore never send to know for whom the...     0.0\n",
       "996                      And I can't stand another day     0.0\n",
       "997   All values, unless otherwise stated, are in U...     0.0\n",
       "\n",
       "[998 rows x 2 columns]"
      ]
     },
     "execution_count": 3,
     "metadata": {},
     "output_type": "execute_result"
    }
   ],
   "source": [
    "remote_import_example_df1 = data_manager.import_data(\n",
    "    import_type='external', \n",
    "    source=\"https://github.com/intelligence-csd-auth-gr/Ethos-Hate-Speech-Dataset/blob/master/ethos/ethos_data/Ethos_Dataset_Binary.csv\", \n",
    "    dataset_name='EthosBinDS', \n",
    "    overwrite=True\n",
    ")\n",
    "\n",
    "remote_import_example_df1"
   ]
  },
  {
   "cell_type": "code",
   "execution_count": null,
   "metadata": {},
   "outputs": [
    {
     "name": "stdout",
     "output_type": "stream",
     "text": [
      "\u001b[32m2025-03-19 16:45:19.389\u001b[0m | \u001b[1mINFO    \u001b[0m | \u001b[36mnlpinitiative.data_preparation.data_management\u001b[0m:\u001b[36m_format_url\u001b[0m:\u001b[36m82\u001b[0m - \u001b[1mSource url identified as GitHub URL, https://github.com/marcoguerini/CONAN/blob/master/Multitarget-CONAN/Multitarget-CONAN.csv\u001b[0m\n",
      "\u001b[32m2025-03-19 16:45:19.389\u001b[0m | \u001b[1mINFO    \u001b[0m | \u001b[36mnlpinitiative.data_preparation.data_management\u001b[0m:\u001b[36m_format_url\u001b[0m:\u001b[36m84\u001b[0m - \u001b[1mURL Formatted, https://raw.githubusercontent.com/marcoguerini/CONAN/refs/heads/master/Multitarget-CONAN/Multitarget-CONAN.csv\u001b[0m\n"
     ]
    },
    {
     "data": {
      "application/vnd.microsoft.datawrangler.viewer.v0+json": {
       "columns": [
        {
         "name": "index",
         "rawType": "int64",
         "type": "integer"
        },
        {
         "name": "INDEX",
         "rawType": "int64",
         "type": "integer"
        },
        {
         "name": "HATE_SPEECH",
         "rawType": "object",
         "type": "string"
        },
        {
         "name": "COUNTER_NARRATIVE",
         "rawType": "object",
         "type": "string"
        },
        {
         "name": "TARGET",
         "rawType": "object",
         "type": "string"
        },
        {
         "name": "VERSION",
         "rawType": "object",
         "type": "string"
        }
       ],
       "conversionMethod": "pd.DataFrame",
       "ref": "ee60fc6b-ca9b-43aa-b88a-16d9b1b3096b",
       "rows": [
        [
         "0",
         "0",
         "Maybe the UN could talk to those asian and african nations responsible for 90%+ of the pollution in the oceans' instead of insisting on this bullshit about climate change.",
         "You're right, ocean pollution is one of the main environmental problems we face, however, climate change is a global problem, and everyone should help to combat it, no matter where in the world you are from!",
         "other",
         "V1"
        ],
        [
         "1",
         "1",
         "‘Juice (Jews) are worse that nukes.’ Caption to a meme showing Hiroshima 1945 and present day, contrast against pictures of Detroit in 1945 and present day.’",
         "You'd rather be nuked then?",
         "JEWS",
         "V1"
        ],
        [
         "2",
         "2",
         "Foreigners on UK benefits leaps 41% in 5 years with over 400K now handed payouts. This nonsense has got to stop.",
         "You seem to be worried about government expenditure… it has actually been shown that,over time, migration reduces pressure on government spending – because migrants are more likely to be young adult workers. https://migrationobservatory.ox.ac.uk/resources/briefings/the-fiscal-impact-of-immigration-in-the-uk/",
         "MIGRANTS",
         "V1"
        ],
        [
         "3",
         "3",
         "Jews cannot be patriots, since their allegiance will always be to the state of Israel.",
         "You can have parents and grandparents born elsewhere, and still be a patriot for the country you were born in.",
         "JEWS",
         "V1"
        ],
        [
         "4",
         "4",
         "Israel, Zionism and Jewish Supremacist control of America are the main causes of terrorism, instability and conflict in the world. All other theories are diversions from this ultimate truth.",
         "Wouldn't you say its colonialism from many different countries and the consequesequences of Western intervention abroad which led to a lot of radicalisation and extremism?",
         "JEWS",
         "V1"
        ],
        [
         "5",
         "5",
         "Women are basically childlike, they remain this way most of their lives. Soft and emotional. It has devastated our once great patriarchal civilizations.",
         "Would you say the same thing to the women who gave you life or treat you in hospital or taught you in school?",
         "WOMEN",
         "V1"
        ],
        [
         "6",
         "6",
         "Foreigners on UK benefits leaps 41% in 5 years with over 400K now handed payouts. This nonsense has got to stop.",
         "Would be intersting to see how much money \"foreigners\" are giving the UK in terms of taxes. It's not hard to see how much we have to thank them for. Would be beneficial for everyone to focus on stopping tax evasion instead.",
         "MIGRANTS",
         "V1"
        ],
        [
         "7",
         "7",
         "Race is a social construct, and if you see any difference between these two women, it’s because you have a mental illness. [image showing a blonde, European female athlete, juxtaposed against an image of an African woman wearing a lip plate]",
         "Women are women the world over, full stop.",
         "POC",
         "V1"
        ],
        [
         "8",
         "8",
         "Who the fuck are you? We are gutful sick of Vagina Misandrists trying to undermine White powerful makes, when they themselves are just envious, incompetent and useless.",
         "Without women there would be no men.",
         "WOMEN",
         "V1"
        ],
        [
         "9",
         "9",
         "Women are basically childlike, they remain this way most of their lives. Soft and emotional. It has devastated our once great patriarchal civilizations.",
         "WIthout softeness and emotions there would just be brutality and cruelty. Not all women are soft and emotional and many men have these characteristics. To perpetuate these socially constructed gender profiles maintains patriarchal norms which oppress both men and women.",
         "WOMEN",
         "V1"
        ],
        [
         "10",
         "10",
         "Who the fuck are you? We are gutful sick of Vagina Misandrists trying to undermine powerful, white men. They are just envious, incompetent and useless.",
         "What makes you think that women are jealous of men? What qualities do you value as a White Male?",
         "WOMEN",
         "V1"
        ],
        [
         "11",
         "11",
         "Makes me fucking laugh, why shouldn't whites be supreme in a mostly white country? How come nobody is moaning about black supremacy in black countries like Somalia? or Mexican supremacy? Or Indian supremacy? Only we put up with this fucking bullshit.",
         "Why do we need supremacy? We are all created equal in the eyes of God.",
         "other",
         "V1"
        ],
        [
         "12",
         "12",
         "What’s the difference between a Cow and the Holocaust? You stop milking the cow after 70 years.",
         "We should be respectful and compassionate towards those who suffered in one of the most horrific event in the history of mankind... I think this should be remembered forever!",
         "JEWS",
         "V1"
        ],
        [
         "13",
         "13",
         "We began to break down when we allowed women to vote/meddle in the civilization that we built and maintained for thousands of years. A completely different energy and thought pattern. They are weak and bring our society down to their emotionally soft level.",
         "Who is 'we', surely it was men and women working together that built civilisation? Why is it you think being 'soft' is a problem? Everyone is entitled to their emotions, and men shouldn't have to 'man up'.",
         "WOMEN",
         "V1"
        ],
        [
         "14",
         "14",
         "Jews like to cordon off areas for themselves, where no jew is allowed to go, while simultaneously having their judges fill white neighbourhoods with social housing.",
         "Which suggests that white people like to cordon off areas for themselves...",
         "JEWS",
         "V1"
        ],
        [
         "15",
         "15",
         "Minorities vote to strip wealth and power from White people and they are organised to do this by the J*ws.",
         "Where is your evidence?",
         "JEWS",
         "V1"
        ],
        [
         "16",
         "16",
         "Israel, Zionism and Jewish Supremacist control of America are the main causes of terrorism, instability and conflict in the world. All other theories are diversions from this ultimate truth.",
         "Where are the facts?",
         "JEWS",
         "V1"
        ],
        [
         "17",
         "17",
         "The Jews did: USS Liberty Attack, the King David hotel attack, New York 9/11, London 7/7",
         "Where are the facts?",
         "JEWS",
         "V1"
        ],
        [
         "18",
         "18",
         "Zionist extremists conspire in Jerusalem. Their objectives are to cause chaos, carnage, murder, create more refugees, and destroy Europe.",
         "What's your proof for claiming this?",
         "JEWS",
         "V1"
        ],
        [
         "19",
         "19",
         "What if our entire ruling class consisted of J-controlled paedophiles? That would explain a lot.",
         "What would it explain? This comment is very vague I wonder if you have any facts that make you wonder this.",
         "JEWS",
         "V1"
        ],
        [
         "20",
         "20",
         "Global Jewry did not want Brexit and are doing everything they can to sabotage it.",
         "What makes you think that? Do you have any facts to back this up?",
         "JEWS",
         "V1"
        ],
        [
         "21",
         "21",
         "The Jews did: USS Liberty Attack, the King David hotel attack, New York 9/11, London 7/7",
         "Where is the proof of this? Looks like assumptions as opposed to facts...",
         "JEWS",
         "V1"
        ],
        [
         "22",
         "22",
         "An American Jew, just like a Muslim, is an outsider, loyal to their birth tribe, posing as a member of the in-group in order to subvert cultural, political and social norms. We don’t have to choose, it’s OK to hate them both.",
         "We do have to choose. It's ok to accept them both.",
         "other",
         "V1"
        ],
        [
         "23",
         "23",
         "An American Jew, just like a Muslim, is an outsider, loyal to their birth tribe, posing as a member of the in-group in order to subvert cultural, political and social norms. We don’t have to choose, it’s OK to hate them both.",
         "We can choose not to hate, and start to build bridges so we understand each other.",
         "other",
         "V1"
        ],
        [
         "24",
         "24",
         "UK Education Secretary: ‘All children from the age of 4 will have mandatory lessons on same sex relationships.’ – This is not about Education, this is about willingly confusing and indoctrinating kids and preventing them from developing their personalities.",
         "We are always developing as time goes on and same sex relationships are a part of the world now, why would we not educate our children on different ways of life?",
         "LGBT+",
         "V1"
        ],
        [
         "25",
         "25",
         "Who the fuck are you? We are gutful sick of Vagina Misandrists trying to undermine White powerful makes, when they themselves are just envious, incompetent and useless.",
         "Undermine or speak their mind? Yes, women have minds and they work just as well as men's.",
         "WOMEN",
         "V1"
        ],
        [
         "26",
         "26",
         "The UK Government recently published a paper on ‘Online Harms’ – in other words they are going to be working with Jewish and Muslim anti-hate organisations to censor the Internet. (Referring to Tell Mama, CST and Stop Hate UK)",
         "To work with people from different backgrounds and different opinions is promoting free speech. If there wasn't free speech for everyone you couldn't express how you feel.",
         "other",
         "V1"
        ],
        [
         "27",
         "27",
         "Since when has abusing the anus as a sex organ been a ‘monumental achievement’? THIS IS STATE ENFORCED HOMOSEXUALITY! Maybe we should change our motto to ‘In Usury and Sodomy we trust (In reply to Botswana decriminalising homosexuality)",
         "To recognise and accept practices that we don't take part in isn't state inforcement. It's just stating facts and stopping persecution of people who have different preferences.",
         "LGBT+",
         "V1"
        ],
        [
         "28",
         "28",
         "This is why women do not belong in politics, if a man complained like them, he’d be called a coward and told to get the hell out of the job. Equality is a lie and feminism is a death sentence for any civilisation.",
         "To have a more positive political environment, inclusivity and representation of all types of people is necessary, therefore women do belong in politics",
         "WOMEN",
         "V1"
        ],
        [
         "29",
         "29",
         "Pakistan: 202 Million Nigeria: 193 Million Bangladesh: 165 Million Ethiopia: 107 Million Congo: 84 Million Great Britain: 66 Million  'Ethnic minorities' Don’t make me fucking laugh!",
         "this is correct, but their percentage of the population within Great Britain makes them a minority",
         "MIGRANTS",
         "V1"
        ],
        [
         "30",
         "30",
         "UK Education Secretary: ‘All children from the age of 4 will have mandatory lessons on same sex relationships.’ – This is not about Education, this is about willingly confusing and indoctrinating kids and preventing them from developing their personalities.",
         "This is about teaching children about the world they live in, and helping them get on with others.",
         "LGBT+",
         "V1"
        ],
        [
         "31",
         "31",
         "Pakistan: 202 Million Nigeria: 193 Million Bangladesh: 165 Million Ethiopia: 107 Million Congo: 84 Million Great Britain: 66 Million  'Ethnic minorities' Don’t make me fucking laugh!",
         "These groups tend to be a minority in Britian. Either way, everyone deserves respect and protection and human rights.",
         "MIGRANTS",
         "V1"
        ],
        [
         "32",
         "32",
         "Pakistan: 202 Million Nigeria: 193 Million Bangladesh: 165 Million Ethiopia: 107 Million Congo: 84 Million Great Britain: 66 Million  'Ethnic minorities' Don’t make me fucking laugh!",
         "These are numbers of residents in countries, not ethnic grouping.",
         "MIGRANTS",
         "V1"
        ],
        [
         "33",
         "33",
         "Took this in Wanstead, east London. An area with £1m+ houses. Beggars on the high st & someone sleeping on a bench. We cannot house our own people but bring in millions more. To point out that homelessness is due to uncontrolled immigration is to be smeared as 'racist. (Caption to a photo of a homeless person sleeping on a part bench)",
         "There are more than enough empty homes in this country right now to house every single homeless person. There is also more than enough wealth in this country to build new homes. We CAN house our ‘own people’ but the government chooses not to. Homelessness is an issue of wealth inequality not migration – if you genuinely care about poverty issues like homelessness you need to be questioning power structures and wealth distribution.",
         "MIGRANTS",
         "V1"
        ],
        [
         "34",
         "34",
         "When you animals have ruined the world and are eating each other, because that’s all you are good for, we’ll still be here, keeping our bloodlines pure against all the odds, regretting the day we heeded the womenfolk and took our heels off your throats.",
         "The womenfolk appear to have wisdom and not a little heart.",
         "WOMEN",
         "V1"
        ],
        [
         "35",
         "35",
         "Maybe the UN could talk to those asian and african nations responsible for 90%+ of the pollution in the oceans' instead of insisting on this bullshit about climate change.",
         "The US is the second most polluting country in the world - as the world’s biggest industrial and commercial power. We are all to blame here and need to work hand in hand to create sustainable change, as opposed to pointing the finger to others.",
         "other",
         "V1"
        ],
        [
         "36",
         "36",
         "Their power to have movies banned and directors censured is proof that the Jews control Hollywood.",
         "The ultra rich people in this industry - Jewish or not - have the power and influence. Not sure where you got your facts from regarding Jewish people \"controlling\" Hollywood.",
         "JEWS",
         "V1"
        ],
        [
         "37",
         "37",
         "The feminists have won. With so many women being unwilling to procreate we will be replaced and lose out civilisation.",
         "The term 'feminism' is fighting for equal rights of ALL sexes, you may find that you too identify as a feminist. Maybe try some of the following sites to find out more on how the feminist movement can benefit you: feminist.com, read more on the 'man up campaign' on Mind.org.uk",
         "WOMEN",
         "V1"
        ],
        [
         "38",
         "38",
         "Women are basically childlike, they remain this way most of their lives. Soft and emotional. It has devastated our once great patriarchal civilizations.",
         "The patriarchy is not man's friend. Boys and men are told to be tough and to bear many burdens without being able to show any emotions or to talk about their struggles. This has led to great levels of suicide amoungst men. It is a question of survival and happiness to accept our differences and similarities and to work together.",
         "WOMEN",
         "V1"
        ],
        [
         "39",
         "39",
         "The Nazis sucked at killing Jews… everywhere you look there’s a holocaust survivor.",
         "The Nazi killing machine was all too efficient. Survivors lost so much and braved terror and cruelty. They should be celebrated.",
         "JEWS",
         "V1"
        ],
        [
         "40",
         "40",
         "The Nazis sucked at killing Jews… everywhere you look there’s a holocaust survivor.",
         "The murder of around 6 million Jews shows the scale of the genocide. This is 6 million more than should have ever happened.",
         "JEWS",
         "V1"
        ],
        [
         "41",
         "41",
         "The’ Holocaust’ is a business. It has been and is still used to extort millions from European countries in reparations and to create a wall of impunity behind which Jews can operate with impunity, free from criticism.",
         "The Jews suffered horribly in the Holocaust, as did many other groups.Reparation is a small step to enable suffering people to rebuild their lives. Common humanity, surely?",
         "JEWS",
         "V1"
        ],
        [
         "42",
         "42",
         "The UK Government recently published a paper on ‘Online Harms’ – in other words they are going to be working with Jewish and Muslim anti-hate organisations to censor the Internet. (Referring to Tell Mama, CST and Stop Hate UK)",
         "The internet has become a shouting platform for people's hateful views. Of course something needs to be done since people don't seem able to moderate their words themselves.",
         "other",
         "V1"
        ],
        [
         "43",
         "43",
         "The Nazis sucked at killing Jews… everywhere you look there’s a holocaust survivor.",
         "The holocaust was hugely tragic, and we are blessed to have holocaust survivors to hear from. They tell an important story that we must learn from.",
         "JEWS",
         "V1"
        ],
        [
         "44",
         "44",
         "Race is a social construct, and if you see any difference between these two women, it’s because you have a mental illness. [image showing a blonde, European female athlete, juxtaposed against an image of an African woman wearing a lip plate]",
         "the difference between these two individuals has nothing to do with race or gender, it is individual lifestyle and cultural difference.",
         "POC",
         "V1"
        ],
        [
         "45",
         "45",
         "UK Education Secretary: ‘All children from the age of 4 will have mandatory lessons on same sex relationships.’ – This is not about Education, this is about willingly confusing and indoctrinating kids and preventing them from developing their personalities.",
         "Teaching children that there are different ways to be happy, and that their feelings are valid is something I totally agree with.",
         "LGBT+",
         "V1"
        ],
        [
         "46",
         "46",
         "Women are basically childlike, they remain this way most of their lives. Soft and emotional. It has devastated our once great patriarchal civilizations.",
         "Soft and emotional? You must have never heard of the likes of Rosa Parks, Emmeline Pankhurst and Florence Nightingale, then.",
         "WOMEN",
         "V1"
        ],
        [
         "47",
         "47",
         "Women are basically childlike, they remain this way most of their lives. Soft and emotional. It has devastated our once great patriarchal civilizations.",
         "Soft and emotinal' are personality traits, may I sugesst you read up on the #HeforShe movement that works for equal rights for men and women, and aims to stop the stigma around men showing emotions.",
         "WOMEN",
         "V1"
        ],
        [
         "48",
         "48",
         "Pakistan: 202 Million Nigeria: 193 Million Bangladesh: 165 Million Ethiopia: 107 Million Congo: 84 Million Great Britain: 66 Million  'Ethnic minorities' Don’t make me fucking laugh!",
         "Since when was Great Britain an ethnic group? Or Pakistan for that matter. Or Nigeria...etc",
         "MIGRANTS",
         "V1"
        ],
        [
         "49",
         "49",
         "UK Education Secretary: ‘All children from the age of 4 will have mandatory lessons on same sex relationships.’ – This is not about Education, this is about willingly confusing and indoctrinating kids and preventing them from developing their personalities.",
         "Same sex relationship happen within many species of animals and we are no exception. Might as well inform people about things that happen in nature - that's the point of education, to learn about the world.",
         "LGBT+",
         "V1"
        ]
       ],
       "shape": {
        "columns": 5,
        "rows": 5003
       }
      },
      "text/html": [
       "<div>\n",
       "<style scoped>\n",
       "    .dataframe tbody tr th:only-of-type {\n",
       "        vertical-align: middle;\n",
       "    }\n",
       "\n",
       "    .dataframe tbody tr th {\n",
       "        vertical-align: top;\n",
       "    }\n",
       "\n",
       "    .dataframe thead th {\n",
       "        text-align: right;\n",
       "    }\n",
       "</style>\n",
       "<table border=\"1\" class=\"dataframe\">\n",
       "  <thead>\n",
       "    <tr style=\"text-align: right;\">\n",
       "      <th></th>\n",
       "      <th>INDEX</th>\n",
       "      <th>HATE_SPEECH</th>\n",
       "      <th>COUNTER_NARRATIVE</th>\n",
       "      <th>TARGET</th>\n",
       "      <th>VERSION</th>\n",
       "    </tr>\n",
       "  </thead>\n",
       "  <tbody>\n",
       "    <tr>\n",
       "      <th>0</th>\n",
       "      <td>0</td>\n",
       "      <td>Maybe the UN could talk to those asian and afr...</td>\n",
       "      <td>You're right, ocean pollution is one of the ma...</td>\n",
       "      <td>other</td>\n",
       "      <td>V1</td>\n",
       "    </tr>\n",
       "    <tr>\n",
       "      <th>1</th>\n",
       "      <td>1</td>\n",
       "      <td>‘Juice (Jews) are worse that nukes.’ Caption t...</td>\n",
       "      <td>You'd rather be nuked then?</td>\n",
       "      <td>JEWS</td>\n",
       "      <td>V1</td>\n",
       "    </tr>\n",
       "    <tr>\n",
       "      <th>2</th>\n",
       "      <td>2</td>\n",
       "      <td>Foreigners on UK benefits leaps 41% in 5 years...</td>\n",
       "      <td>You seem to be worried about government expend...</td>\n",
       "      <td>MIGRANTS</td>\n",
       "      <td>V1</td>\n",
       "    </tr>\n",
       "    <tr>\n",
       "      <th>3</th>\n",
       "      <td>3</td>\n",
       "      <td>Jews cannot be patriots, since their allegianc...</td>\n",
       "      <td>You can have parents and grandparents born els...</td>\n",
       "      <td>JEWS</td>\n",
       "      <td>V1</td>\n",
       "    </tr>\n",
       "    <tr>\n",
       "      <th>4</th>\n",
       "      <td>4</td>\n",
       "      <td>Israel, Zionism and Jewish Supremacist control...</td>\n",
       "      <td>Wouldn't you say its colonialism from many dif...</td>\n",
       "      <td>JEWS</td>\n",
       "      <td>V1</td>\n",
       "    </tr>\n",
       "    <tr>\n",
       "      <th>...</th>\n",
       "      <td>...</td>\n",
       "      <td>...</td>\n",
       "      <td>...</td>\n",
       "      <td>...</td>\n",
       "      <td>...</td>\n",
       "    </tr>\n",
       "    <tr>\n",
       "      <th>4998</th>\n",
       "      <td>4998</td>\n",
       "      <td>Woman are basically childlike.</td>\n",
       "      <td>They are not childlike and are capable of grea...</td>\n",
       "      <td>WOMEN</td>\n",
       "      <td>V6_mix</td>\n",
       "    </tr>\n",
       "    <tr>\n",
       "      <th>4999</th>\n",
       "      <td>4999</td>\n",
       "      <td>women should be submissive to men.</td>\n",
       "      <td>There are many women who want to be \"submissiv...</td>\n",
       "      <td>WOMEN</td>\n",
       "      <td>V6_mix</td>\n",
       "    </tr>\n",
       "    <tr>\n",
       "      <th>5000</th>\n",
       "      <td>5000</td>\n",
       "      <td>Women are essentially childlike, unable to und...</td>\n",
       "      <td>Maybe you should try talking to a woman instea...</td>\n",
       "      <td>WOMEN</td>\n",
       "      <td>V6_mix</td>\n",
       "    </tr>\n",
       "    <tr>\n",
       "      <th>5001</th>\n",
       "      <td>5001</td>\n",
       "      <td>Women should be submissive to men.</td>\n",
       "      <td>Women are human beings deserving respect and e...</td>\n",
       "      <td>WOMEN</td>\n",
       "      <td>V6_mix</td>\n",
       "    </tr>\n",
       "    <tr>\n",
       "      <th>5002</th>\n",
       "      <td>5002</td>\n",
       "      <td>Women should not be allowed to vote, this is a...</td>\n",
       "      <td>I don't think that a country can be 'male domi...</td>\n",
       "      <td>WOMEN</td>\n",
       "      <td>V6_mix</td>\n",
       "    </tr>\n",
       "  </tbody>\n",
       "</table>\n",
       "<p>5003 rows × 5 columns</p>\n",
       "</div>"
      ],
      "text/plain": [
       "      INDEX                                        HATE_SPEECH  \\\n",
       "0         0  Maybe the UN could talk to those asian and afr...   \n",
       "1         1  ‘Juice (Jews) are worse that nukes.’ Caption t...   \n",
       "2         2  Foreigners on UK benefits leaps 41% in 5 years...   \n",
       "3         3  Jews cannot be patriots, since their allegianc...   \n",
       "4         4  Israel, Zionism and Jewish Supremacist control...   \n",
       "...     ...                                                ...   \n",
       "4998   4998                     Woman are basically childlike.   \n",
       "4999   4999                 women should be submissive to men.   \n",
       "5000   5000  Women are essentially childlike, unable to und...   \n",
       "5001   5001                 Women should be submissive to men.   \n",
       "5002   5002  Women should not be allowed to vote, this is a...   \n",
       "\n",
       "                                      COUNTER_NARRATIVE    TARGET VERSION  \n",
       "0     You're right, ocean pollution is one of the ma...     other      V1  \n",
       "1                           You'd rather be nuked then?      JEWS      V1  \n",
       "2     You seem to be worried about government expend...  MIGRANTS      V1  \n",
       "3     You can have parents and grandparents born els...      JEWS      V1  \n",
       "4     Wouldn't you say its colonialism from many dif...      JEWS      V1  \n",
       "...                                                 ...       ...     ...  \n",
       "4998  They are not childlike and are capable of grea...     WOMEN  V6_mix  \n",
       "4999  There are many women who want to be \"submissiv...     WOMEN  V6_mix  \n",
       "5000  Maybe you should try talking to a woman instea...     WOMEN  V6_mix  \n",
       "5001  Women are human beings deserving respect and e...     WOMEN  V6_mix  \n",
       "5002  I don't think that a country can be 'male domi...     WOMEN  V6_mix  \n",
       "\n",
       "[5003 rows x 5 columns]"
      ]
     },
     "execution_count": 4,
     "metadata": {},
     "output_type": "execute_result"
    }
   ],
   "source": [
    "remote_import_example_df2 = data_manager.import_data(\n",
    "    import_type='external', \n",
    "    source=\"https://github.com/marcoguerini/CONAN/blob/master/Multitarget-CONAN/Multitarget-CONAN.csv\", \n",
    "    dataset_name='Multitarget-CONAN-DS', \n",
    "    overwrite=True\n",
    ")\n",
    "\n",
    "remote_import_example_df2"
   ]
  },
  {
   "cell_type": "markdown",
   "metadata": {},
   "source": [
    "## Dataset Normalization\n",
    "Since we are making use of third-party datasets, we need a means of converting the original dataset schema to a format that will utilize our labeling scheme. As such, we have implemented some functionality to facilitate this process.\n",
    "\n",
    "### Normalizing third-party datasets to a standard format for training our models\n",
    "This function facilitates taking one or more datasets (all passed datasets that are to be normalized should maintain the same general structure so that they can be merged prior to normalization)."
   ]
  },
  {
   "cell_type": "code",
   "execution_count": null,
   "metadata": {},
   "outputs": [
    {
     "name": "stdout",
     "output_type": "stream",
     "text": [
      "\u001b[32m2025-03-19 16:50:26.870\u001b[0m | \u001b[32m\u001b[1mSUCCESS \u001b[0m | \u001b[36mnlpinitiative.data_preparation.data_management\u001b[0m:\u001b[36mnormalize_dataset\u001b[0m:\u001b[36m217\u001b[0m - \u001b[32m\u001b[1mSuccessfully normalized dataset files [marcoguerini_CONAN_Multitarget-CONAN.csv]\u001b[0m\n"
     ]
    },
    {
     "data": {
      "application/vnd.microsoft.datawrangler.viewer.v0+json": {
       "columns": [
        {
         "name": "index",
         "rawType": "int64",
         "type": "integer"
        },
        {
         "name": "TEXT",
         "rawType": "object",
         "type": "string"
        },
        {
         "name": "DISCRIMINATORY",
         "rawType": "int64",
         "type": "integer"
        },
        {
         "name": "GENDER",
         "rawType": "float64",
         "type": "float"
        },
        {
         "name": "RACE",
         "rawType": "float64",
         "type": "float"
        },
        {
         "name": "SEXUALITY",
         "rawType": "float64",
         "type": "float"
        },
        {
         "name": "DISABILITY",
         "rawType": "float64",
         "type": "float"
        },
        {
         "name": "RELIGION",
         "rawType": "float64",
         "type": "float"
        },
        {
         "name": "UNSPECIFIED",
         "rawType": "float64",
         "type": "float"
        }
       ],
       "conversionMethod": "pd.DataFrame",
       "ref": "6c02b813-a82d-48d6-8014-4c67e52c471b",
       "rows": [
        [
         "0",
         "‘Juice (Jews) are worse that nukes.’ Caption to a meme showing Hiroshima 1945 and present day, contrast against pictures of Detroit in 1945 and present day.’",
         "1",
         "0.0",
         "0.5",
         "0.0",
         "0.0",
         "0.5",
         "0.0"
        ],
        [
         "1",
         "Foreigners on UK benefits leaps 41% in 5 years with over 400K now handed payouts. This nonsense has got to stop.",
         "1",
         "0.0",
         "1.0",
         "0.0",
         "0.0",
         "0.0",
         "0.0"
        ],
        [
         "2",
         "Jews cannot be patriots, since their allegiance will always be to the state of Israel.",
         "1",
         "0.0",
         "0.5",
         "0.0",
         "0.0",
         "0.5",
         "0.0"
        ],
        [
         "3",
         "Israel, Zionism and Jewish Supremacist control of America are the main causes of terrorism, instability and conflict in the world. All other theories are diversions from this ultimate truth.",
         "1",
         "0.0",
         "0.5",
         "0.0",
         "0.0",
         "0.5",
         "0.0"
        ],
        [
         "4",
         "Women are basically childlike, they remain this way most of their lives. Soft and emotional. It has devastated our once great patriarchal civilizations.",
         "1",
         "1.0",
         "0.0",
         "0.0",
         "0.0",
         "0.0",
         "0.0"
        ],
        [
         "5",
         "Foreigners on UK benefits leaps 41% in 5 years with over 400K now handed payouts. This nonsense has got to stop.",
         "1",
         "0.0",
         "1.0",
         "0.0",
         "0.0",
         "0.0",
         "0.0"
        ],
        [
         "6",
         "Race is a social construct, and if you see any difference between these two women, it’s because you have a mental illness. [image showing a blonde, European female athlete, juxtaposed against an image of an African woman wearing a lip plate]",
         "1",
         "0.0",
         "1.0",
         "0.0",
         "0.0",
         "0.0",
         "0.0"
        ],
        [
         "7",
         "Who the fuck are you? We are gutful sick of Vagina Misandrists trying to undermine White powerful makes, when they themselves are just envious, incompetent and useless.",
         "1",
         "1.0",
         "0.0",
         "0.0",
         "0.0",
         "0.0",
         "0.0"
        ],
        [
         "8",
         "Women are basically childlike, they remain this way most of their lives. Soft and emotional. It has devastated our once great patriarchal civilizations.",
         "1",
         "1.0",
         "0.0",
         "0.0",
         "0.0",
         "0.0",
         "0.0"
        ],
        [
         "9",
         "Who the fuck are you? We are gutful sick of Vagina Misandrists trying to undermine powerful, white men. They are just envious, incompetent and useless.",
         "1",
         "1.0",
         "0.0",
         "0.0",
         "0.0",
         "0.0",
         "0.0"
        ],
        [
         "10",
         "What’s the difference between a Cow and the Holocaust? You stop milking the cow after 70 years.",
         "1",
         "0.0",
         "0.5",
         "0.0",
         "0.0",
         "0.5",
         "0.0"
        ],
        [
         "11",
         "We began to break down when we allowed women to vote/meddle in the civilization that we built and maintained for thousands of years. A completely different energy and thought pattern. They are weak and bring our society down to their emotionally soft level.",
         "1",
         "1.0",
         "0.0",
         "0.0",
         "0.0",
         "0.0",
         "0.0"
        ],
        [
         "12",
         "Jews like to cordon off areas for themselves, where no jew is allowed to go, while simultaneously having their judges fill white neighbourhoods with social housing.",
         "1",
         "0.0",
         "0.5",
         "0.0",
         "0.0",
         "0.5",
         "0.0"
        ],
        [
         "13",
         "Minorities vote to strip wealth and power from White people and they are organised to do this by the J*ws.",
         "1",
         "0.0",
         "0.5",
         "0.0",
         "0.0",
         "0.5",
         "0.0"
        ],
        [
         "14",
         "Israel, Zionism and Jewish Supremacist control of America are the main causes of terrorism, instability and conflict in the world. All other theories are diversions from this ultimate truth.",
         "1",
         "0.0",
         "0.5",
         "0.0",
         "0.0",
         "0.5",
         "0.0"
        ],
        [
         "15",
         "The Jews did: USS Liberty Attack, the King David hotel attack, New York 9/11, London 7/7",
         "1",
         "0.0",
         "0.5",
         "0.0",
         "0.0",
         "0.5",
         "0.0"
        ],
        [
         "16",
         "Zionist extremists conspire in Jerusalem. Their objectives are to cause chaos, carnage, murder, create more refugees, and destroy Europe.",
         "1",
         "0.0",
         "0.5",
         "0.0",
         "0.0",
         "0.5",
         "0.0"
        ],
        [
         "17",
         "What if our entire ruling class consisted of J-controlled paedophiles? That would explain a lot.",
         "1",
         "0.0",
         "0.5",
         "0.0",
         "0.0",
         "0.5",
         "0.0"
        ],
        [
         "18",
         "Global Jewry did not want Brexit and are doing everything they can to sabotage it.",
         "1",
         "0.0",
         "0.5",
         "0.0",
         "0.0",
         "0.5",
         "0.0"
        ],
        [
         "19",
         "The Jews did: USS Liberty Attack, the King David hotel attack, New York 9/11, London 7/7",
         "1",
         "0.0",
         "0.5",
         "0.0",
         "0.0",
         "0.5",
         "0.0"
        ],
        [
         "20",
         "UK Education Secretary: ‘All children from the age of 4 will have mandatory lessons on same sex relationships.’ – This is not about Education, this is about willingly confusing and indoctrinating kids and preventing them from developing their personalities.",
         "1",
         "0.0",
         "0.0",
         "1.0",
         "0.0",
         "0.0",
         "0.0"
        ],
        [
         "21",
         "Who the fuck are you? We are gutful sick of Vagina Misandrists trying to undermine White powerful makes, when they themselves are just envious, incompetent and useless.",
         "1",
         "1.0",
         "0.0",
         "0.0",
         "0.0",
         "0.0",
         "0.0"
        ],
        [
         "22",
         "Since when has abusing the anus as a sex organ been a ‘monumental achievement’? THIS IS STATE ENFORCED HOMOSEXUALITY! Maybe we should change our motto to ‘In Usury and Sodomy we trust (In reply to Botswana decriminalising homosexuality)",
         "1",
         "0.0",
         "0.0",
         "1.0",
         "0.0",
         "0.0",
         "0.0"
        ],
        [
         "23",
         "This is why women do not belong in politics, if a man complained like them, he’d be called a coward and told to get the hell out of the job. Equality is a lie and feminism is a death sentence for any civilisation.",
         "1",
         "1.0",
         "0.0",
         "0.0",
         "0.0",
         "0.0",
         "0.0"
        ],
        [
         "24",
         "Pakistan: 202 Million Nigeria: 193 Million Bangladesh: 165 Million Ethiopia: 107 Million Congo: 84 Million Great Britain: 66 Million  'Ethnic minorities' Don’t make me fucking laugh!",
         "1",
         "0.0",
         "1.0",
         "0.0",
         "0.0",
         "0.0",
         "0.0"
        ],
        [
         "25",
         "UK Education Secretary: ‘All children from the age of 4 will have mandatory lessons on same sex relationships.’ – This is not about Education, this is about willingly confusing and indoctrinating kids and preventing them from developing their personalities.",
         "1",
         "0.0",
         "0.0",
         "1.0",
         "0.0",
         "0.0",
         "0.0"
        ],
        [
         "26",
         "Pakistan: 202 Million Nigeria: 193 Million Bangladesh: 165 Million Ethiopia: 107 Million Congo: 84 Million Great Britain: 66 Million  'Ethnic minorities' Don’t make me fucking laugh!",
         "1",
         "0.0",
         "1.0",
         "0.0",
         "0.0",
         "0.0",
         "0.0"
        ],
        [
         "27",
         "Pakistan: 202 Million Nigeria: 193 Million Bangladesh: 165 Million Ethiopia: 107 Million Congo: 84 Million Great Britain: 66 Million  'Ethnic minorities' Don’t make me fucking laugh!",
         "1",
         "0.0",
         "1.0",
         "0.0",
         "0.0",
         "0.0",
         "0.0"
        ],
        [
         "28",
         "Took this in Wanstead, east London. An area with £1m+ houses. Beggars on the high st & someone sleeping on a bench. We cannot house our own people but bring in millions more. To point out that homelessness is due to uncontrolled immigration is to be smeared as 'racist. (Caption to a photo of a homeless person sleeping on a part bench)",
         "1",
         "0.0",
         "1.0",
         "0.0",
         "0.0",
         "0.0",
         "0.0"
        ],
        [
         "29",
         "When you animals have ruined the world and are eating each other, because that’s all you are good for, we’ll still be here, keeping our bloodlines pure against all the odds, regretting the day we heeded the womenfolk and took our heels off your throats.",
         "1",
         "1.0",
         "0.0",
         "0.0",
         "0.0",
         "0.0",
         "0.0"
        ],
        [
         "30",
         "Their power to have movies banned and directors censured is proof that the Jews control Hollywood.",
         "1",
         "0.0",
         "0.5",
         "0.0",
         "0.0",
         "0.5",
         "0.0"
        ],
        [
         "31",
         "The feminists have won. With so many women being unwilling to procreate we will be replaced and lose out civilisation.",
         "1",
         "1.0",
         "0.0",
         "0.0",
         "0.0",
         "0.0",
         "0.0"
        ],
        [
         "32",
         "Women are basically childlike, they remain this way most of their lives. Soft and emotional. It has devastated our once great patriarchal civilizations.",
         "1",
         "1.0",
         "0.0",
         "0.0",
         "0.0",
         "0.0",
         "0.0"
        ],
        [
         "33",
         "The Nazis sucked at killing Jews… everywhere you look there’s a holocaust survivor.",
         "1",
         "0.0",
         "0.5",
         "0.0",
         "0.0",
         "0.5",
         "0.0"
        ],
        [
         "34",
         "The Nazis sucked at killing Jews… everywhere you look there’s a holocaust survivor.",
         "1",
         "0.0",
         "0.5",
         "0.0",
         "0.0",
         "0.5",
         "0.0"
        ],
        [
         "35",
         "The’ Holocaust’ is a business. It has been and is still used to extort millions from European countries in reparations and to create a wall of impunity behind which Jews can operate with impunity, free from criticism.",
         "1",
         "0.0",
         "0.5",
         "0.0",
         "0.0",
         "0.5",
         "0.0"
        ],
        [
         "36",
         "The Nazis sucked at killing Jews… everywhere you look there’s a holocaust survivor.",
         "1",
         "0.0",
         "0.5",
         "0.0",
         "0.0",
         "0.5",
         "0.0"
        ],
        [
         "37",
         "Race is a social construct, and if you see any difference between these two women, it’s because you have a mental illness. [image showing a blonde, European female athlete, juxtaposed against an image of an African woman wearing a lip plate]",
         "1",
         "0.0",
         "1.0",
         "0.0",
         "0.0",
         "0.0",
         "0.0"
        ],
        [
         "38",
         "UK Education Secretary: ‘All children from the age of 4 will have mandatory lessons on same sex relationships.’ – This is not about Education, this is about willingly confusing and indoctrinating kids and preventing them from developing their personalities.",
         "1",
         "0.0",
         "0.0",
         "1.0",
         "0.0",
         "0.0",
         "0.0"
        ],
        [
         "39",
         "Women are basically childlike, they remain this way most of their lives. Soft and emotional. It has devastated our once great patriarchal civilizations.",
         "1",
         "1.0",
         "0.0",
         "0.0",
         "0.0",
         "0.0",
         "0.0"
        ],
        [
         "40",
         "Women are basically childlike, they remain this way most of their lives. Soft and emotional. It has devastated our once great patriarchal civilizations.",
         "1",
         "1.0",
         "0.0",
         "0.0",
         "0.0",
         "0.0",
         "0.0"
        ],
        [
         "41",
         "Pakistan: 202 Million Nigeria: 193 Million Bangladesh: 165 Million Ethiopia: 107 Million Congo: 84 Million Great Britain: 66 Million  'Ethnic minorities' Don’t make me fucking laugh!",
         "1",
         "0.0",
         "1.0",
         "0.0",
         "0.0",
         "0.0",
         "0.0"
        ],
        [
         "42",
         "UK Education Secretary: ‘All children from the age of 4 will have mandatory lessons on same sex relationships.’ – This is not about Education, this is about willingly confusing and indoctrinating kids and preventing them from developing their personalities.",
         "1",
         "0.0",
         "0.0",
         "1.0",
         "0.0",
         "0.0",
         "0.0"
        ],
        [
         "43",
         "Since when has abusing the anus as a sex organ been a ‘monumental achievement’? THIS IS STATE ENFORCED HOMOSEXUALITY! Maybe we should change our motto to ‘In Usury and Sodomy we trust (In reply to Botswana decriminalising homosexuality)",
         "1",
         "0.0",
         "0.0",
         "1.0",
         "0.0",
         "0.0",
         "0.0"
        ],
        [
         "44",
         "The feminists have won. With so many women being unwilling to procreate we will be replaced and lose our civilisation.",
         "1",
         "1.0",
         "0.0",
         "0.0",
         "0.0",
         "0.0",
         "0.0"
        ],
        [
         "45",
         "The’ Holocaust’ is a business. It has been and is still used to extort millions from European countries in reparations and to create a wall of impunity behind which Jews can operate with impunity, free from criticism.",
         "1",
         "0.0",
         "0.5",
         "0.0",
         "0.0",
         "0.5",
         "0.0"
        ],
        [
         "46",
         "The’ Holocaust’ is a business. It has been and is still used to extort millions from European countries in reparations and to create a wall of impunity behind which Jews can operate with impunity, free from criticism.",
         "1",
         "0.0",
         "0.5",
         "0.0",
         "0.0",
         "0.5",
         "0.0"
        ],
        [
         "47",
         "‘Juice (Jews) are worse that nukes.’ Caption to a meme showing Hiroshima 1945 and present day, contrast against pictures of Detroit in 1945 and present day.’",
         "1",
         "0.0",
         "0.5",
         "0.0",
         "0.0",
         "0.5",
         "0.0"
        ],
        [
         "48",
         "Took this in Wanstead, east London. An area with £1m+ houses. Beggars on the high st & someone sleeping on a bench. We cannot house our own people but bring in millions more. To point out that homelessness is due to uncontrolled immigration is to be smeared as 'racist. (Caption to a photo of a homeless person sleeping on a part bench)",
         "1",
         "0.0",
         "1.0",
         "0.0",
         "0.0",
         "0.0",
         "0.0"
        ],
        [
         "49",
         "Minorities vote to strip wealth and power from White people and they are organised to do this by the J*ws.",
         "1",
         "0.0",
         "0.5",
         "0.0",
         "0.0",
         "0.5",
         "0.0"
        ]
       ],
       "shape": {
        "columns": 8,
        "rows": 4737
       }
      },
      "text/html": [
       "<div>\n",
       "<style scoped>\n",
       "    .dataframe tbody tr th:only-of-type {\n",
       "        vertical-align: middle;\n",
       "    }\n",
       "\n",
       "    .dataframe tbody tr th {\n",
       "        vertical-align: top;\n",
       "    }\n",
       "\n",
       "    .dataframe thead th {\n",
       "        text-align: right;\n",
       "    }\n",
       "</style>\n",
       "<table border=\"1\" class=\"dataframe\">\n",
       "  <thead>\n",
       "    <tr style=\"text-align: right;\">\n",
       "      <th></th>\n",
       "      <th>TEXT</th>\n",
       "      <th>DISCRIMINATORY</th>\n",
       "      <th>GENDER</th>\n",
       "      <th>RACE</th>\n",
       "      <th>SEXUALITY</th>\n",
       "      <th>DISABILITY</th>\n",
       "      <th>RELIGION</th>\n",
       "      <th>UNSPECIFIED</th>\n",
       "    </tr>\n",
       "  </thead>\n",
       "  <tbody>\n",
       "    <tr>\n",
       "      <th>0</th>\n",
       "      <td>‘Juice (Jews) are worse that nukes.’ Caption t...</td>\n",
       "      <td>1</td>\n",
       "      <td>0.0</td>\n",
       "      <td>0.5</td>\n",
       "      <td>0.0</td>\n",
       "      <td>0.0</td>\n",
       "      <td>0.5</td>\n",
       "      <td>0.0</td>\n",
       "    </tr>\n",
       "    <tr>\n",
       "      <th>1</th>\n",
       "      <td>Foreigners on UK benefits leaps 41% in 5 years...</td>\n",
       "      <td>1</td>\n",
       "      <td>0.0</td>\n",
       "      <td>1.0</td>\n",
       "      <td>0.0</td>\n",
       "      <td>0.0</td>\n",
       "      <td>0.0</td>\n",
       "      <td>0.0</td>\n",
       "    </tr>\n",
       "    <tr>\n",
       "      <th>2</th>\n",
       "      <td>Jews cannot be patriots, since their allegianc...</td>\n",
       "      <td>1</td>\n",
       "      <td>0.0</td>\n",
       "      <td>0.5</td>\n",
       "      <td>0.0</td>\n",
       "      <td>0.0</td>\n",
       "      <td>0.5</td>\n",
       "      <td>0.0</td>\n",
       "    </tr>\n",
       "    <tr>\n",
       "      <th>3</th>\n",
       "      <td>Israel, Zionism and Jewish Supremacist control...</td>\n",
       "      <td>1</td>\n",
       "      <td>0.0</td>\n",
       "      <td>0.5</td>\n",
       "      <td>0.0</td>\n",
       "      <td>0.0</td>\n",
       "      <td>0.5</td>\n",
       "      <td>0.0</td>\n",
       "    </tr>\n",
       "    <tr>\n",
       "      <th>4</th>\n",
       "      <td>Women are basically childlike, they remain thi...</td>\n",
       "      <td>1</td>\n",
       "      <td>1.0</td>\n",
       "      <td>0.0</td>\n",
       "      <td>0.0</td>\n",
       "      <td>0.0</td>\n",
       "      <td>0.0</td>\n",
       "      <td>0.0</td>\n",
       "    </tr>\n",
       "    <tr>\n",
       "      <th>...</th>\n",
       "      <td>...</td>\n",
       "      <td>...</td>\n",
       "      <td>...</td>\n",
       "      <td>...</td>\n",
       "      <td>...</td>\n",
       "      <td>...</td>\n",
       "      <td>...</td>\n",
       "      <td>...</td>\n",
       "    </tr>\n",
       "    <tr>\n",
       "      <th>4732</th>\n",
       "      <td>Woman are basically childlike.</td>\n",
       "      <td>1</td>\n",
       "      <td>1.0</td>\n",
       "      <td>0.0</td>\n",
       "      <td>0.0</td>\n",
       "      <td>0.0</td>\n",
       "      <td>0.0</td>\n",
       "      <td>0.0</td>\n",
       "    </tr>\n",
       "    <tr>\n",
       "      <th>4733</th>\n",
       "      <td>women should be submissive to men.</td>\n",
       "      <td>1</td>\n",
       "      <td>1.0</td>\n",
       "      <td>0.0</td>\n",
       "      <td>0.0</td>\n",
       "      <td>0.0</td>\n",
       "      <td>0.0</td>\n",
       "      <td>0.0</td>\n",
       "    </tr>\n",
       "    <tr>\n",
       "      <th>4734</th>\n",
       "      <td>Women are essentially childlike, unable to und...</td>\n",
       "      <td>1</td>\n",
       "      <td>1.0</td>\n",
       "      <td>0.0</td>\n",
       "      <td>0.0</td>\n",
       "      <td>0.0</td>\n",
       "      <td>0.0</td>\n",
       "      <td>0.0</td>\n",
       "    </tr>\n",
       "    <tr>\n",
       "      <th>4735</th>\n",
       "      <td>Women should be submissive to men.</td>\n",
       "      <td>1</td>\n",
       "      <td>1.0</td>\n",
       "      <td>0.0</td>\n",
       "      <td>0.0</td>\n",
       "      <td>0.0</td>\n",
       "      <td>0.0</td>\n",
       "      <td>0.0</td>\n",
       "    </tr>\n",
       "    <tr>\n",
       "      <th>4736</th>\n",
       "      <td>Women should not be allowed to vote, this is a...</td>\n",
       "      <td>1</td>\n",
       "      <td>1.0</td>\n",
       "      <td>0.0</td>\n",
       "      <td>0.0</td>\n",
       "      <td>0.0</td>\n",
       "      <td>0.0</td>\n",
       "      <td>0.0</td>\n",
       "    </tr>\n",
       "  </tbody>\n",
       "</table>\n",
       "<p>4737 rows × 8 columns</p>\n",
       "</div>"
      ],
      "text/plain": [
       "                                                   TEXT  DISCRIMINATORY  \\\n",
       "0     ‘Juice (Jews) are worse that nukes.’ Caption t...               1   \n",
       "1     Foreigners on UK benefits leaps 41% in 5 years...               1   \n",
       "2     Jews cannot be patriots, since their allegianc...               1   \n",
       "3     Israel, Zionism and Jewish Supremacist control...               1   \n",
       "4     Women are basically childlike, they remain thi...               1   \n",
       "...                                                 ...             ...   \n",
       "4732                     Woman are basically childlike.               1   \n",
       "4733                 women should be submissive to men.               1   \n",
       "4734  Women are essentially childlike, unable to und...               1   \n",
       "4735                 Women should be submissive to men.               1   \n",
       "4736  Women should not be allowed to vote, this is a...               1   \n",
       "\n",
       "      GENDER  RACE  SEXUALITY  DISABILITY  RELIGION  UNSPECIFIED  \n",
       "0        0.0   0.5        0.0         0.0       0.5          0.0  \n",
       "1        0.0   1.0        0.0         0.0       0.0          0.0  \n",
       "2        0.0   0.5        0.0         0.0       0.5          0.0  \n",
       "3        0.0   0.5        0.0         0.0       0.5          0.0  \n",
       "4        1.0   0.0        0.0         0.0       0.0          0.0  \n",
       "...      ...   ...        ...         ...       ...          ...  \n",
       "4732     1.0   0.0        0.0         0.0       0.0          0.0  \n",
       "4733     1.0   0.0        0.0         0.0       0.0          0.0  \n",
       "4734     1.0   0.0        0.0         0.0       0.0          0.0  \n",
       "4735     1.0   0.0        0.0         0.0       0.0          0.0  \n",
       "4736     1.0   0.0        0.0         0.0       0.0          0.0  \n",
       "\n",
       "[4737 rows x 8 columns]"
      ]
     },
     "execution_count": 3,
     "metadata": {},
     "output_type": "execute_result"
    }
   ],
   "source": [
    "normalized_dataset = data_manager.normalize_dataset(\n",
    "    ds_files=[\"marcoguerini_CONAN_Multitarget-CONAN.csv\"], \n",
    "    conv_schema_fn=\"mutltitarget_conan_mapping.json\", \n",
    "    output_fn='Multitarget_CONAN_normalized'\n",
    ")\n",
    "\n",
    "normalized_dataset"
   ]
  },
  {
   "cell_type": "markdown",
   "metadata": {},
   "source": [
    "## Generating a Master Training Dataset from all normalized datasets"
   ]
  },
  {
   "cell_type": "code",
   "execution_count": null,
   "metadata": {},
   "outputs": [],
   "source": [
    "data_manager.build_master_dataset()"
   ]
  },
  {
   "cell_type": "markdown",
   "metadata": {},
   "source": [
    "## Extracting Dataset Statistics\n",
    "\n",
    "This can be helpful to determine if the dataset may have imbalances between categories, and can be helpful for applying weights depending on these imbalances."
   ]
  },
  {
   "cell_type": "code",
   "execution_count": null,
   "metadata": {},
   "outputs": [],
   "source": [
    "ds_stats = data_manager.get_dataset_statistics(INTERIM_DATA_DIR / 'ETHOS_dataset_normalized.csv')\n",
    "print(json.dumps(ds_stats, indent=4))"
   ]
  },
  {
   "cell_type": "markdown",
   "metadata": {},
   "source": [
    "## Uploading Datasets (the NLPinitiative/data directory)"
   ]
  },
  {
   "cell_type": "code",
   "execution_count": null,
   "metadata": {},
   "outputs": [],
   "source": [
    "token = 'Token Goes Here'\n",
    "data_manager.push_dataset_dir(token)"
   ]
  },
  {
   "cell_type": "markdown",
   "metadata": {},
   "source": [
    "## Downloading Datasets (synchronizing with the HF dataset repo)"
   ]
  },
  {
   "cell_type": "code",
   "execution_count": null,
   "metadata": {},
   "outputs": [],
   "source": [
    "data_manager.pull_dataset_repo(token)"
   ]
  }
 ],
 "metadata": {
  "kernelspec": {
   "display_name": ".venv",
   "language": "python",
   "name": "python3"
  },
  "language_info": {
   "codemirror_mode": {
    "name": "ipython",
    "version": 3
   },
   "file_extension": ".py",
   "mimetype": "text/x-python",
   "name": "python",
   "nbconvert_exporter": "python",
   "pygments_lexer": "ipython3",
   "version": "3.12.6"
  }
 },
 "nbformat": 4,
 "nbformat_minor": 2
}
