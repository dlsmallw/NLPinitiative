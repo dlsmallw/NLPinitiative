{
  "nbformat": 4,
  "nbformat_minor": 0,
  "metadata": {
    "colab": {
      "provenance": [],
      "include_colab_link": true
    },
    "kernelspec": {
      "name": "python3",
      "display_name": "Python 3"
    },
    "language_info": {
      "name": "python"
    }
  },
  "cells": [
    {
      "cell_type": "markdown",
      "metadata": {
        "id": "view-in-github",
        "colab_type": "text"
      },
      "source": [
        "<a href=\"https://colab.research.google.com/github/dlsmallw/NLPinitiative/blob/dev/nlpinitiative/notebooks/dataset_research.ipynb\" target=\"_parent\"><img src=\"https://colab.research.google.com/assets/colab-badge.svg\" alt=\"Open In Colab\"/></a>"
      ]
    },
    {
      "cell_type": "markdown",
      "source": [
        "# Task-202: Dataset Gathering\n",
        "\n",
        "## **HateCheck: Functional Tests for Hate Speech Detection Models**\n",
        "\n",
        "*   **Description:** Binary (Hate, Not Hate), 7 Targets Within Hate (Women, Trans people, Black people, Gay people, Disabled people, Muslims, Immigrants)\n",
        "*   **Link to repository:** https://github.com/paul-rottger/hatecheck-data\n",
        "*   **Link to publication (if applicable):** https://arxiv.org/pdf/2012.15606.pdf\n",
        "*   **Possible Use:** </br>\n",
        "Potentially possible to leverage this as a training or evaluation dataset since it focuses specifically on hate speech targetting marginalized groups\n",
        "\n",
        "## **Human-in-the-Loop for Data Collection: a Multi-Target Counter Narrative Dataset to Fight Online Hate Speech**\n",
        "\n",
        "*   **Description:** Binary (hateful, not) that includes hateful message and counter responses\n",
        "*   **Link to repository:** https://github.com/marcoguerini/CONAN\n",
        "*   **Link to publication (if applicable):** https://aclanthology.org/2021.acl-long.250.pdf\n",
        "*   **Possible Use:** </br>\n",
        "Since these are datasets focusing solely on binary labels, and the fact that it encompasses the hateful comment and then the counter reply, it may be useful in some capacity (even if we can only extract the hateful comments for use)\n",
        "\n",
        "## **HateXplain: A Benchmark Dataset for Explainable Hate Speech Detection**\n",
        "\n",
        "*   **Description:** Level of hate (hate, offensive or normal), on target groups (race, religion, gender, sexual orientation, miscellaneous), and rationales\n",
        "*   **Link to repository:** https://github.com/punyajoy/HateXplain\n",
        "*   **Link to publication (if applicable):** https://arxiv.org/abs/2012.10289\n",
        "*   **Possible Use:** </br>\n",
        "Provides a generic break down of posts and whether they are hate speech, offensive or neutral\n",
        "\n",
        "## **Hateful Symbols or Hateful People? Predictive Features for Hate Speech Detection on Twitter**\n",
        "\n",
        "*   **Description:** Hateful twitter posts 3-topic (Sexist, Racist, Not) annotation\n",
        "*   **Link to repository:** https://github.com/ZeerakW/hatespeech\n",
        "*   **Link to publication (if applicable):** https://www.aclweb.org/anthology/N16-2013\n",
        "*   **Possible Use:** </br>\n",
        "Sizable dataset of tweets consisting of racist, sexist or non-hateful tweets. Can possibly be leveraged\n",
        "\n",
        "## **The Gab Hate Corpus: A collection of 27k posts annotated for hate speech**\n",
        "\n",
        "*   **Description:** Binary (Hate vs. Offensive/Vulgarity), Binary (Assault on human Dignity/Call for Violence – sub task on message delivery, binary: explicit/implicit), Multinomial classification: Identity based hate (race/ethnicity, nationality/regionalism/xenophobia, gender, religion/belief system, sexual orientation, ideology, political identification/party, mental/physical health)\n",
        "*   **Link to data:** https://osf.io/edua3/\n",
        "*   **Link to publication (if applicable):** https://psyarxiv.com/hqjxn/\n",
        "*   **Possible Use:** </br>\n",
        "Massive hate speech dataset consisting of both a minimal-annotation dataset and a dataset with more specific labels\n",
        "\n",
        "## **ETHOS: an Online Hate Speech Detection Dataset (Binary and Multi label)**\n",
        "\n",
        "*   **Description:** 8 Categories (Violence, Directed/Undirected, Gender, Race, National Origin, Disability, Sexual Orientation, Religion)\n",
        "*   **Link to repository:** https://github.com/intelligence-csd-auth-gr/Ethos-Hate-Speech-Dataset\n",
        "*   **Link to publication (if applicable):** https://arxiv.org/pdf/2006.08328.pdf\n",
        "*   **Possible Use:** </br>\n",
        "Provides a smaller dataset of annotations labeling based on the above categories\n",
        "\n",
        "\n",
        "\n",
        "\n"
      ],
      "metadata": {
        "id": "dL6xhq853c26"
      }
    }
  ]
}