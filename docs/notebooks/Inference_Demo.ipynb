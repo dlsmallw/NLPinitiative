{
 "cells": [
  {
   "cell_type": "markdown",
   "metadata": {},
   "source": [
    "# Model Inference"
   ]
  },
  {
   "cell_type": "code",
   "execution_count": 4,
   "metadata": {},
   "outputs": [],
   "source": [
    "import json\n",
    "from nlpinitiative.modeling import predict"
   ]
  },
  {
   "cell_type": "markdown",
   "metadata": {},
   "source": [
    "## Initializing the InferenceHandler Object"
   ]
  },
  {
   "cell_type": "code",
   "execution_count": null,
   "metadata": {},
   "outputs": [],
   "source": [
    "ih = predict.InferenceHandler()"
   ]
  },
  {
   "cell_type": "markdown",
   "metadata": {},
   "source": [
    "## Performing Inference"
   ]
  },
  {
   "cell_type": "code",
   "execution_count": null,
   "metadata": {},
   "outputs": [
    {
     "name": "stdout",
     "output_type": "stream",
     "text": [
      "{\n",
      "    \"text_input\": \"Islam is hell .  We Asian hate isalm...Islam bring only destruction..killing.  rape... rufugee.... Islam is hell .. Asian thought \\u221a\\u221e\\u00ac\\u00fc\\u00ac\\u00f2\\u00ac\\u00c7\\u221a\\u221e\\u00ac\\u00fc\\u00ac\\u00f2\\u00ac\\u00c7sorry...but is true\",\n",
      "    \"results\": [\n",
      "        {\n",
      "            \"sentence\": \"Islam is hell .\",\n",
      "            \"binary_classification\": {\n",
      "                \"classification\": \"Discriminatory\",\n",
      "                \"prediction_class\": 1\n",
      "            },\n",
      "            \"multilabel_regression\": {\n",
      "                \"Gender\": 0.0048244670033454895,\n",
      "                \"Race\": 0.0,\n",
      "                \"Sexuality\": 0.0,\n",
      "                \"Disability\": 0.0,\n",
      "                \"Religion\": 1.0,\n",
      "                \"Unspecified\": 0.004335478879511356\n",
      "            }\n",
      "        },\n",
      "        {\n",
      "            \"sentence\": \"We Asian hate isalm...Islam bring only destruction..killing.\",\n",
      "            \"binary_classification\": {\n",
      "                \"classification\": \"Discriminatory\",\n",
      "                \"prediction_class\": 1\n",
      "            },\n",
      "            \"multilabel_regression\": {\n",
      "                \"Gender\": 0.012726540677249432,\n",
      "                \"Race\": 0.10717015713453293,\n",
      "                \"Sexuality\": 0.0,\n",
      "                \"Disability\": 0.008952051401138306,\n",
      "                \"Religion\": 0.9168018102645874,\n",
      "                \"Unspecified\": 0.005039580632001162\n",
      "            }\n",
      "        },\n",
      "        {\n",
      "            \"sentence\": \"rape... rufugee.... Islam is hell .. Asian thought \\u221a\\u221e\\u00ac\\u00fc\\u00ac\\u00f2\\u00ac\\u00c7\\u221a\\u221e\\u00ac\\u00fc\\u00ac\\u00f2\\u00ac\\u00c7sorry...but is true\",\n",
      "            \"binary_classification\": {\n",
      "                \"classification\": \"Discriminatory\",\n",
      "                \"prediction_class\": 1\n",
      "            },\n",
      "            \"multilabel_regression\": {\n",
      "                \"Gender\": 0.04350072145462036,\n",
      "                \"Race\": 0.011553023010492325,\n",
      "                \"Sexuality\": 0.0,\n",
      "                \"Disability\": 0.0,\n",
      "                \"Religion\": 0.8144100308418274,\n",
      "                \"Unspecified\": 0.014169543981552124\n",
      "            }\n",
      "        }\n",
      "    ]\n",
      "}\n",
      "{\n",
      "    \"text_input\": \"Absolutely excellent as ever, and yes, cycling is fabulous for mental health.. bike when you'\\u00ac\\u00c4\\u00ac\\u00f4re happy, \\nbike when you'\\u00ac\\u00c4\\u00ac\\u00f4re sad, shout at the rain, scream inwardly at a complex hill climb and get that endorphin rush from being outside.. \\nand smile at your fellow cyclists (and passing chickens, in my experience, a wee bwark at a chook makes many things better)\",\n",
      "    \"results\": [\n",
      "        {\n",
      "            \"sentence\": \"Absolutely excellent as ever, and yes, cycling is fabulous for mental health.. bike when you'\\u00ac\\u00c4\\u00ac\\u00f4re happy, \\nbike when you'\\u00ac\\u00c4\\u00ac\\u00f4re sad, shout at the rain, scream inwardly at a complex hill climb and get that endorphin rush from being outside.. \\nand smile at your fellow cyclists (and passing chickens, in my experience, a wee bwark at a chook makes many things better)\",\n",
      "            \"binary_classification\": {\n",
      "                \"classification\": \"Non-Discriminatory\",\n",
      "                \"prediction_class\": 0\n",
      "            },\n",
      "            \"multilabel_regression\": null\n",
      "        }\n",
      "    ]\n",
      "}\n"
     ]
    }
   ],
   "source": [
    "discr_text = \"\"\"Islam is hell .  We Asian hate isalm...Islam bring only destruction..killing.  rape... rufugee.... Islam is hell .. Asian thought √∞¬ü¬ò¬Ç√∞¬ü¬ò¬Çsorry...but is true\"\"\"\n",
    "\n",
    "nondiscr_text = \"\"\"Absolutely excellent as ever, and yes, cycling is fabulous for mental health.. bike when you'¬Ä¬ôre happy, \n",
    "bike when you'¬Ä¬ôre sad, shout at the rain, scream inwardly at a complex hill climb and get that endorphin rush from being outside.. \n",
    "and smile at your fellow cyclists (and passing chickens, in my experience, a wee bwark at a chook makes many things better)\"\"\"\n",
    "\n",
    "result1 = ih.classify_text(discr_text)\n",
    "result2 = ih.classify_text(nondiscr_text)\n",
    "print(json.dumps(result1, indent=4))\n",
    "print(json.dumps(result2, indent=4))"
   ]
  }
 ],
 "metadata": {
  "kernelspec": {
   "display_name": ".venv",
   "language": "python",
   "name": "python3"
  },
  "language_info": {
   "codemirror_mode": {
    "name": "ipython",
    "version": 3
   },
   "file_extension": ".py",
   "mimetype": "text/x-python",
   "name": "python",
   "nbconvert_exporter": "python",
   "pygments_lexer": "ipython3",
   "version": "3.12.6"
  }
 },
 "nbformat": 4,
 "nbformat_minor": 2
}
