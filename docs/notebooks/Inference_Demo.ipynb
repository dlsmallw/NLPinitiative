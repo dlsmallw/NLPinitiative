{
 "cells": [
  {
   "cell_type": "markdown",
   "metadata": {},
   "source": [
    "# Model Inference"
   ]
  },
  {
   "cell_type": "code",
   "execution_count": 1,
   "metadata": {},
   "outputs": [
    {
     "name": "stderr",
     "output_type": "stream",
     "text": [
      "\u001b[32m2025-04-11 18:59:09.928\u001b[0m | \u001b[1mINFO    \u001b[0m | \u001b[36mnlpinitiative.config\u001b[0m:\u001b[36m<module>\u001b[0m:\u001b[36m18\u001b[0m - \u001b[1mPROJ_ROOT path is: C:\\Users\\Daniel\\Desktop\\GitHub\\NLPinitiative\u001b[0m\n",
      "\u001b[32m2025-04-11 18:59:09.929\u001b[0m | \u001b[1mINFO    \u001b[0m | \u001b[36mnlpinitiative.config\u001b[0m:\u001b[36m<module>\u001b[0m:\u001b[36m25\u001b[0m - \u001b[1mLoading pyproject.toml...\u001b[0m\n",
      "\u001b[32m2025-04-11 18:59:09.930\u001b[0m | \u001b[32m\u001b[1mSUCCESS \u001b[0m | \u001b[36mnlpinitiative.config\u001b[0m:\u001b[36m<module>\u001b[0m:\u001b[36m61\u001b[0m - \u001b[32m\u001b[1mpyproject.toml loaded successfully.\u001b[0m\n"
     ]
    }
   ],
   "source": [
    "import json\n",
    "from nlpinitiative.modeling import predict"
   ]
  },
  {
   "cell_type": "markdown",
   "metadata": {},
   "source": [
    "## Initializing the InferenceHandler Object"
   ]
  },
  {
   "cell_type": "code",
   "execution_count": 4,
   "metadata": {},
   "outputs": [],
   "source": [
    "ih = predict.InferenceHandler()"
   ]
  },
  {
   "cell_type": "markdown",
   "metadata": {},
   "source": [
    "## Performing Inference"
   ]
  },
  {
   "cell_type": "code",
   "execution_count": 5,
   "metadata": {},
   "outputs": [
    {
     "name": "stdout",
     "output_type": "stream",
     "text": [
      "{\n",
      "    \"text_input\": \"Islam is hell .  We Asian hate isalm...Islam bring only destruction..killing.  rape... rufugee.... Islam is hell .. Asian thought \\u221a\\u221e\\u00ac\\u00fc\\u00ac\\u00f2\\u00ac\\u00c7\\u221a\\u221e\\u00ac\\u00fc\\u00ac\\u00f2\\u00ac\\u00c7sorry...but is true\",\n",
      "    \"results\": [\n",
      "        {\n",
      "            \"sentence\": \"Islam is hell .\",\n",
      "            \"binary_classification\": {\n",
      "                \"classification\": \"Discriminatory\",\n",
      "                \"prediction_class\": 1\n",
      "            },\n",
      "            \"multilabel_regression\": {\n",
      "                \"Gender\": 0.007968677207827568,\n",
      "                \"Race\": 0.0,\n",
      "                \"Sexuality\": 0.0,\n",
      "                \"Disability\": 0.0,\n",
      "                \"Religion\": 1.0,\n",
      "                \"Unspecified\": 0.0004662546853069216\n",
      "            }\n",
      "        },\n",
      "        {\n",
      "            \"sentence\": \"We Asian hate isalm...Islam bring only destruction..killing.\",\n",
      "            \"binary_classification\": {\n",
      "                \"classification\": \"Discriminatory\",\n",
      "                \"prediction_class\": 1\n",
      "            },\n",
      "            \"multilabel_regression\": {\n",
      "                \"Gender\": 0.0,\n",
      "                \"Race\": 0.15429753065109253,\n",
      "                \"Sexuality\": 0.0,\n",
      "                \"Disability\": 0.0,\n",
      "                \"Religion\": 0.9524716734886169,\n",
      "                \"Unspecified\": 0.0\n",
      "            }\n",
      "        },\n",
      "        {\n",
      "            \"sentence\": \"rape... rufugee.... Islam is hell .. Asian thought \\u221a\\u221e\\u00ac\\u00fc\\u00ac\\u00f2\\u00ac\\u00c7\\u221a\\u221e\\u00ac\\u00fc\\u00ac\\u00f2\\u00ac\\u00c7sorry...but is true\",\n",
      "            \"binary_classification\": {\n",
      "                \"classification\": \"Discriminatory\",\n",
      "                \"prediction_class\": 1\n",
      "            },\n",
      "            \"multilabel_regression\": {\n",
      "                \"Gender\": 0.0034651216119527817,\n",
      "                \"Race\": 0.10907230526208878,\n",
      "                \"Sexuality\": 0.0,\n",
      "                \"Disability\": 0.0,\n",
      "                \"Religion\": 0.9691120982170105,\n",
      "                \"Unspecified\": 0.0\n",
      "            }\n",
      "        }\n",
      "    ]\n",
      "}\n",
      "{\n",
      "    \"text_input\": \"Absolutely excellent as ever, and yes, cycling is fabulous for mental health.. bike when you'\\u00ac\\u00c4\\u00ac\\u00f4re happy, \\nbike when you'\\u00ac\\u00c4\\u00ac\\u00f4re sad, shout at the rain, scream inwardly at a complex hill climb and get that endorphin rush from being outside.. \\nand smile at your fellow cyclists (and passing chickens, in my experience, a wee bwark at a chook makes many things better)\",\n",
      "    \"results\": [\n",
      "        {\n",
      "            \"sentence\": \"Absolutely excellent as ever, and yes, cycling is fabulous for mental health.. bike when you'\\u00ac\\u00c4\\u00ac\\u00f4re happy, \\nbike when you'\\u00ac\\u00c4\\u00ac\\u00f4re sad, shout at the rain, scream inwardly at a complex hill climb and get that endorphin rush from being outside.. \\nand smile at your fellow cyclists (and passing chickens, in my experience, a wee bwark at a chook makes many things better)\",\n",
      "            \"binary_classification\": {\n",
      "                \"classification\": \"Non-Discriminatory\",\n",
      "                \"prediction_class\": 0\n",
      "            },\n",
      "            \"multilabel_regression\": null\n",
      "        }\n",
      "    ]\n",
      "}\n"
     ]
    }
   ],
   "source": [
    "discr_text = \"\"\"Islam is hell .  We Asian hate isalm...Islam bring only destruction..killing.  rape... rufugee.... Islam is hell .. Asian thought √∞¬ü¬ò¬Ç√∞¬ü¬ò¬Çsorry...but is true\"\"\"\n",
    "\n",
    "nondiscr_text = \"\"\"Absolutely excellent as ever, and yes, cycling is fabulous for mental health.. bike when you'¬Ä¬ôre happy, \n",
    "bike when you'¬Ä¬ôre sad, shout at the rain, scream inwardly at a complex hill climb and get that endorphin rush from being outside.. \n",
    "and smile at your fellow cyclists (and passing chickens, in my experience, a wee bwark at a chook makes many things better)\"\"\"\n",
    "\n",
    "result1 = ih.classify_text(discr_text)\n",
    "result2 = ih.classify_text(nondiscr_text)\n",
    "print(json.dumps(result1, indent=4))\n",
    "print(json.dumps(result2, indent=4))"
   ]
  }
 ],
 "metadata": {
  "kernelspec": {
   "display_name": ".venv",
   "language": "python",
   "name": "python3"
  },
  "language_info": {
   "codemirror_mode": {
    "name": "ipython",
    "version": 3
   },
   "file_extension": ".py",
   "mimetype": "text/x-python",
   "name": "python",
   "nbconvert_exporter": "python",
   "pygments_lexer": "ipython3",
   "version": "3.12.6"
  }
 },
 "nbformat": 4,
 "nbformat_minor": 2
}
